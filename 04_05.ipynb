{
 "cells": [
  {
   "cell_type": "code",
   "execution_count": null,
   "id": "682dfdc8",
   "metadata": {},
   "outputs": [],
   "source": [
    "# Conversational Context: Building Stateful Agents\n",
    "# Welcome 👋🏻 In this notebook, you’ll learn how to leverage conversational context (state)\n",
    "# within Google’s Agent Development Kit (ADK) to build more intelligent and natural agents.\n",
    "# This is crucial for multi-turn conversations where the agent needs to remember\n",
    "# information from previous interactions (e.g., the last city mentioned, a user preference)\n",
    "# to provide relevant responses without constant re-specification.\n",
    "\n",
    "# We will enhance our Weather Agent by making its custom tools \"stateful,\" allowing them\n",
    "# to read from and write to the session's `tool_context.state`."
   ]
  },
  {
   "cell_type": "code",
   "execution_count": 2,
   "id": "af4985c5",
   "metadata": {},
   "outputs": [
    {
     "name": "stdout",
     "output_type": "stream",
     "text": [
      "\n",
      "\u001b[1m[\u001b[0m\u001b[34;49mnotice\u001b[0m\u001b[1;39;49m]\u001b[0m\u001b[39;49m A new release of pip is available: \u001b[0m\u001b[31;49m25.0.1\u001b[0m\u001b[39;49m -> \u001b[0m\u001b[32;49m25.1.1\u001b[0m\n",
      "\u001b[1m[\u001b[0m\u001b[34;49mnotice\u001b[0m\u001b[1;39;49m]\u001b[0m\u001b[39;49m To update, run: \u001b[0m\u001b[32;49mpip install --upgrade pip\u001b[0m\n",
      "Note: you may need to restart the kernel to use updated packages.\n"
     ]
    }
   ],
   "source": [
    "# Install Google ADK for Python\n",
    "# This foundational package provides all the necessary components for building and running your agents.\n",
    "# The --quiet flag suppresses verbose output during installation.\n",
    "%pip install google-adk --quiet"
   ]
  },
  {
   "cell_type": "code",
   "execution_count": 3,
   "id": "a883b510",
   "metadata": {},
   "outputs": [
    {
     "name": "stdout",
     "output_type": "stream",
     "text": [
      "Name: google-adk\n",
      "Version: 1.0.0\n",
      "Summary: Agent Development Kit\n",
      "Home-page: https://google.github.io/adk-docs/\n",
      "Author: \n",
      "Author-email: Google LLC <googleapis-packages@google.com>\n",
      "License: \n",
      "Location: /home/codespace/.python/current/lib/python3.12/site-packages\n",
      "Requires: authlib, click, fastapi, google-api-python-client, google-cloud-aiplatform, google-cloud-secret-manager, google-cloud-speech, google-cloud-storage, google-genai, graphviz, mcp, opentelemetry-api, opentelemetry-exporter-gcp-trace, opentelemetry-sdk, pydantic, python-dotenv, PyYAML, sqlalchemy, tzlocal, uvicorn\n",
      "Required-by: \n",
      "Note: you may need to restart the kernel to use updated packages.\n"
     ]
    }
   ],
   "source": [
    "# Verify ADK Installation (Optional but Recommended)\n",
    "%pip show google-adk"
   ]
  },
  {
   "cell_type": "code",
   "execution_count": 4,
   "id": "4e1a517e",
   "metadata": {},
   "outputs": [
    {
     "name": "stdout",
     "output_type": "stream",
     "text": [
      "\n",
      "Environment configured.\n"
     ]
    }
   ],
   "source": [
    "# Configure environment\n",
    "import os\n",
    "\n",
    "# Set GOOGLE_GENAI_USE_VERTEXAI to \"False\" to use the public Gemini API directly,\n",
    "# rather than routing through Google Cloud's Vertex AI. This simplifies setup for quick demos.\n",
    "os.environ[\"GOOGLE_GENAI_USE_VERTEXAI\"] = \"False\"\n",
    "\n",
    "# Define the specific Gemini model we'll use.\n",
    "# 'gemini-2.0-flash' is a fast and efficient model suitable for many tasks.\n",
    "MODEL_GEMINI_2_0_FLASH = \"gemini-2.0-flash\"\n",
    "\n",
    "print(\"\\nEnvironment configured.\")"
   ]
  },
  {
   "cell_type": "code",
   "execution_count": 5,
   "id": "1f669847",
   "metadata": {},
   "outputs": [],
   "source": [
    "# Import Necessary Modules\n",
    "import requests # Used for making HTTP requests to external APIs (OpenWeatherMap)\n",
    "from typing import Dict, Any, Optional # Type hints for better code readability and error checking\n",
    "from datetime import datetime, timedelta, timezone # For handling dates and time calculations and timezone objects\n",
    "from collections import Counter # For counting occurrences of weather descriptions\n",
    "from dateutil import parser as date_parser # A robust library for parsing various date strings\n",
    "import calendar # For calendar-related calculations, e.g., finding weeks in a month\n",
    "import re # Regular expressions for parsing complex date expressions\n",
    "import time # For adding delays to avoid hitting API rate limits during testing\n",
    "\n",
    "# ADK Core Modules\n",
    "from google.adk.agents import Agent # The fundamental class for creating an AI agent\n",
    "from google.adk.runners import Runner # The orchestrator that manages agent execution\n",
    "from google.adk.sessions import InMemorySessionService # Simple, in-memory session management\n",
    "from google.adk.memory import InMemoryMemoryService # For managing longer-term agent memory (though for this notebook, state is primarily handled by tool_context.state)\n",
    "from google.genai import types # Data structures (like Content and Part) for LLM interaction\n",
    "from IPython.display import Markdown, display # For rendering rich text output in notebooks"
   ]
  },
  {
   "cell_type": "code",
   "execution_count": 6,
   "id": "a766f468",
   "metadata": {},
   "outputs": [
    {
     "name": "stdout",
     "output_type": "stream",
     "text": [
      "OpenWeather API key loaded (if set).\n"
     ]
    }
   ],
   "source": [
    "# OpenWeather API: Set Up\n",
    "# It's crucial to set your OpenWeatherMap API key as an environment variable for security and ease of management.\n",
    "# You can obtain a free API key from https://openweathermap.org/api\n",
    "OPEN_WEATHER_API_KEY = os.environ.get(\"OPEN_WEATHER_API_KEY\")\n",
    "\n",
    "# Raise an error if the API key is not set, preventing execution without proper authentication.\n",
    "if not OPEN_WEATHER_API_KEY:\n",
    "    raise ValueError(\n",
    "        \"OPEN_WEATHER_API_KEY environment variable not set. Please set it. \"\n",
    "        \"Get your key from https://openweathermap.org/api and run 'export OPEN_WEATHER_API_KEY=\\\"YOUR_KEY_HERE\\\"' \"\n",
    "        \"in your terminal, or add it to your .env file if using python-dotenv.\"\n",
    "    )\n",
    "\n",
    "print(\"OpenWeather API key loaded (if set).\")"
   ]
  },
  {
   "cell_type": "code",
   "execution_count": null,
   "id": "c262056f",
   "metadata": {},
   "outputs": [
    {
     "name": "stdout",
     "output_type": "stream",
     "text": [
      "`parse_flexible_date_range` helper function defined.\n"
     ]
    }
   ],
   "source": [
    "# Helper Functions: Parse flexible date expressions for weather queries\n",
    "# This function is designed to interpret a wide range of natural language date requests\n",
    "# (e.g., \"tomorrow\", \"next week\", \"first week of July\") and convert them into precise\n",
    "# start and end datetime objects. This makes the weather agent much more user-friendly.\n",
    "\n",
    "def parse_flexible_date_range(date_str: str) -> Optional[tuple]:\n",
    "    \"\"\"\n",
    "    Parses a wide variety of date expressions and returns (start_date, end_date).\n",
    "    Supports:\n",
    "    - 'today', 'tomorrow', 'in 3 days'\n",
    "    - 'this weekend', 'next weekend'\n",
    "    - 'next week', 'this week', 'last week'\n",
    "    - 'first week of July', 'second week of August', etc.\n",
    "    - Specific dates: '2025-07-01', 'July 1', '07-01'\n",
    "    - Date ranges: 'July 1 to July 5', 'next 3 days'\n",
    "    Returns (datetime, datetime) or None if parsing fails.\n",
    "    \"\"\"\n",
    "    date_str = date_str.lower().strip()\n",
    "    today = datetime.today()\n",
    "    weekday = today.weekday()  # Monday=0, Sunday=6\n",
    "\n",
    "    # Handle 'today', 'tomorrow', 'in X days'\n",
    "    target_date = None\n",
    "    if date_str in [\"today\", \"now\"]:\n",
    "        target_date = today\n",
    "    elif date_str == \"tomorrow\":\n",
    "        target_date = today + timedelta(days=1)\n",
    "    \n",
    "    match = re.match(r\"in (\\d+) days?\", date_str)\n",
    "    if match:\n",
    "        days = int(match.group(1))\n",
    "        target_date = today + timedelta(days=days)\n",
    "\n",
    "    if target_date:\n",
    "        # For single day targets, set range from start of day to end of day\n",
    "        start_of_day = target_date.replace(hour=0, minute=0, second=0, microsecond=0)\n",
    "        end_of_day = target_date.replace(hour=23, minute=59, second=59, microsecond=999999)\n",
    "        return start_of_day, end_of_day\n",
    "    \n",
    "    # Handle \"next X days\" or \"for the next X days\"\n",
    "    match = re.match(r\"(?:next|for the next) (\\d+) days?\", date_str)\n",
    "    if match:\n",
    "        days = int(match.group(1))\n",
    "        start = today.replace(hour=0, minute=0, second=0, microsecond=0) # Start of today\n",
    "        end = today + timedelta(days=days - 1)\n",
    "        end = end.replace(hour=23, minute=59, second=59, microsecond=999999) # End of the last day\n",
    "        return start, end\n",
    "\n",
    "    # Handle 'this week' (Monday to Sunday)\n",
    "    if date_str == \"this week\":\n",
    "        start = today - timedelta(days=weekday)\n",
    "        end = start + timedelta(days=6)\n",
    "        # Set to start/end of day for clear boundaries\n",
    "        start = start.replace(hour=0, minute=0, second=0, microsecond=0)\n",
    "        end = end.replace(hour=23, minute=59, second=59, microsecond=999999)\n",
    "        return start, end\n",
    "\n",
    "    # Handle 'next week' (Monday to Sunday)\n",
    "    if date_str == \"next week\":\n",
    "        start = today - timedelta(days=weekday) + timedelta(days=7)\n",
    "        end = start + timedelta(days=6)\n",
    "        # Set to start/end of day for clear boundaries\n",
    "        start = start.replace(hour=0, minute=0, second=0, microsecond=0)\n",
    "        end = end.replace(hour=23, minute=59, second=59, microsecond=999999)\n",
    "        return start, end\n",
    "\n",
    "    # NEW: Handle 'last week' (Monday to Sunday)\n",
    "    if date_str == \"last week\":\n",
    "        start = today - timedelta(days=weekday) - timedelta(days=7)\n",
    "        end = start + timedelta(days=6)\n",
    "        start = start.replace(hour=0, minute=0, second=0, microsecond=0)\n",
    "        end = end.replace(hour=23, minute=59, second=59, microsecond=999999)\n",
    "        return start, end\n",
    "\n",
    "    # This weekend (Saturday & Sunday)\n",
    "    if date_str == \"this weekend\":\n",
    "        saturday = today + timedelta((5 - weekday) % 7)\n",
    "        sunday = saturday + timedelta(days=1)\n",
    "        saturday = saturday.replace(hour=0, minute=0, second=0, microsecond=0)\n",
    "        sunday = sunday.replace(hour=23, minute=59, second=59, microsecond=999999)\n",
    "        return saturday, sunday\n",
    "\n",
    "    # Next weekend (Saturday & Sunday)\n",
    "    if date_str == \"next weekend\":\n",
    "        saturday = today + timedelta((5 - weekday) % 7 + 7)\n",
    "        sunday = saturday + timedelta(days=1)\n",
    "        saturday = saturday.replace(hour=0, minute=0, second=0, microsecond=0)\n",
    "        sunday = sunday.replace(hour=23, minute=59, second=59, microsecond=999999)\n",
    "        return saturday, sunday\n",
    "\n",
    "    # \"first week of July\", \"second week of August\", etc.\n",
    "    match = re.match(r\"(first|second|third|fourth|last) week of (\\\\w+)\", date_str)\n",
    "    if match:\n",
    "        week_map = {\n",
    "            \"first\": 0, \"second\": 1, \"third\": 2, \"fourth\": 3, \"last\": -1\n",
    "        }\n",
    "        week_num = week_map[match.group(1)]\n",
    "        month_str = match.group(2)\n",
    "        try:\n",
    "            month = list(calendar.month_name).index(month_str.capitalize())\n",
    "            year = today.year\n",
    "            if month < today.month:\n",
    "                year += 1\n",
    "            cal = calendar.monthcalendar(year, month)\n",
    "            \n",
    "            if week_num == -1:\n",
    "                week = cal[-1]\n",
    "            elif week_num < len(cal):\n",
    "                week = cal[week_num]\n",
    "            else:\n",
    "                return None\n",
    "            start_day_of_week = None\n",
    "            end_day_of_week = None\n",
    "            for d in week:\n",
    "                if d != 0:\n",
    "                    if start_day_of_week is None:\n",
    "                        start_day_of_week = d\n",
    "                    end_day_of_week = d\n",
    "            if start_day_of_week is not None and end_day_of_week is not None:\n",
    "                start = datetime(year, month, start_day_of_week).replace(hour=0, minute=0, second=0, microsecond=0)\n",
    "                end = datetime(year, month, end_day_of_week).replace(hour=23, minute=59, second=59, microsecond=999999)\n",
    "                return start, end\n",
    "            else:\n",
    "                return None\n",
    "        except ValueError:\n",
    "            return None\n",
    "        except Exception:\n",
    "            return None\n",
    "\n",
    "    # Try parsing as a specific date or date range\n",
    "    try:\n",
    "        dt = date_parser.parse(date_str, fuzzy=True, default=today)\n",
    "        start = dt.replace(hour=0, minute=0, second=0, microsecond=0)\n",
    "        end = dt.replace(hour=23, minute=59, second=59, microsecond=999999)\n",
    "        return start, end\n",
    "    except Exception:\n",
    "        pass\n",
    "\n",
    "    if \" to \" in date_str:\n",
    "        parts = date_str.split(\" to \")\n",
    "        try:\n",
    "            start = date_parser.parse(parts[0], fuzzy=True, default=today).replace(hour=0, minute=0, second=0, microsecond=0)\n",
    "            end = date_parser.parse(parts[1], fuzzy=True, default=today).replace(hour=23, minute=59, second=59, microsecond=999999)\n",
    "            return start, end\n",
    "        except Exception:\n",
    "            return None\n",
    "\n",
    "    return None\n",
    "\n",
    "print(\"`parse_flexible_date_range` helper function defined.\")"
   ]
  },
  {
   "cell_type": "code",
   "execution_count": null,
   "id": "81cc64f4",
   "metadata": {},
   "outputs": [
    {
     "name": "stdout",
     "output_type": "stream",
     "text": [
      "`get_current_weather_from_openweather_stateful` custom tool defined.\n"
     ]
    }
   ],
   "source": [
    "# Custom Tool: Get Current Weather (stateful version)\n",
    "# This function is a custom tool that the agent can call. It fetches real-time\n",
    "# weather data for a specified city using the OpenWeatherMap Current Weather API.\n",
    "# It leverages `tool_context.state` to:\n",
    "# 1. Read `user_preference_temperature_unit` to determine Celsius or Fahrenheit.\n",
    "# 2. If no city is explicitly provided in the tool call, it attempts to use `last_city_checked_stateful`\n",
    "#    from the session state.\n",
    "# 3. Writes the `city` it successfully checked into `last_city_checked_stateful` for future turns.\n",
    "\n",
    "def get_current_weather_from_openweather_stateful(city: Optional[str], tool_context) -> Dict[str, Any]:\n",
    "    \"\"\"\n",
    "    Retrieves current weather data for a given city from OpenWeatherMap,\n",
    "    considering user preferences and session state for context.\n",
    "    Updates last_city_checked_stateful regardless of API success/failure.\n",
    "    \"\"\"\n",
    "    # Get user's preferred temperature unit from session state, defaulting to metric\n",
    "    preferred_unit = tool_context.state.get(\"user_preference_temperature_unit\", \"metric\")\n",
    "    unit_symbol = \"°C\" if preferred_unit == \"metric\" else \"°F\"\n",
    "\n",
    "    # If no city is provided, try to get it from the last checked city in session state\n",
    "    if not city:\n",
    "        city = tool_context.state.get(\"last_city_checked_stateful\")\n",
    "        if not city: # If still no city, return an error\n",
    "            return {\"status\": \"error\", \"error_message\": \"No city specified or remembered for current weather. Please provide a city.\"}\n",
    "\n",
    "    print(f\"--- Tool: get_current_weather_from_openweather_stateful called for city: {city}, unit: {preferred_unit} ---\")\n",
    "    \n",
    "    response_data = {} # Initialize to store tool response\n",
    "    try:\n",
    "        url = f\"http://api.openweathermap.org/data/2.5/weather?q={city}&appid={OPEN_WEATHER_API_KEY}&units={preferred_unit}\"\n",
    "        response = requests.get(url, timeout=10)\n",
    "        response.raise_for_status()\n",
    "        data = response.json()\n",
    "\n",
    "        if data[\"cod\"] == 200:\n",
    "            description = data[\"weather\"][0][\"description\"]\n",
    "            temperature = data[\"main\"][\"temp\"]\n",
    "            feels_like = data[\"main\"][\"feels_like\"]\n",
    "            humidity = data[\"main\"][\"humidity\"]\n",
    "            wind_speed = data[\"wind\"][\"speed\"]\n",
    "            report = (\n",
    "                f\"The current weather in {city} is {description} with a temperature of {temperature}{unit_symbol} \"\n",
    "                f\"(feels like {feels_like}{unit_symbol}). Humidity is {humidity}% and wind speed is {wind_speed} m/s.\"\n",
    "            )\n",
    "            response_data = {\"status\": \"success\", \"report\": report}\n",
    "        else:\n",
    "            response_data = {\"status\": \"error\", \"error_message\": f\"OpenWeatherMap API Error: {data.get('message', 'Unknown error')}\"}\n",
    "    except requests.exceptions.Timeout:\n",
    "        response_data = {\"status\": \"error\", \"error_message\": f\"Request to OpenWeatherMap timed out for {city}. Please try again later.\"}\n",
    "    except requests.exceptions.RequestException as e:\n",
    "        response_data = {\"status\": \"error\", \"error_message\": f\"Error fetching current weather data for {city}: {e}\"}\n",
    "    except KeyError as e:\n",
    "        response_data = {\"status\": \"error\", \"error_message\": f\"Error parsing current weather data for {city}: Missing key: {e}. The API response might be malformed.\"}\n",
    "    except Exception as e:\n",
    "        response_data = {\"status\": \"error\", \"error_message\": f\"An unexpected error occurred while getting current weather for {city}: {e}\"}\n",
    "\n",
    "    # This ensures 'last_city_checked_stateful' is updated even if the API returns an error or info.\n",
    "    if city: # Only update if a valid city was determined for the tool call\n",
    "        tool_context.state[\"last_city_checked_stateful\"] = city\n",
    "    \n",
    "    return response_data\n",
    "\n",
    "print(\"`get_current_weather_from_openweather_stateful` custom tool defined.\")"
   ]
  },
  {
   "cell_type": "code",
   "execution_count": 9,
   "id": "8a467e02",
   "metadata": {},
   "outputs": [
    {
     "name": "stdout",
     "output_type": "stream",
     "text": [
      "`get_weather_summary_from_openweather_stateful` custom tool defined.\n"
     ]
    }
   ],
   "source": [
    "# Custom Tool: Get Weather Summary for a Flexible Date Range (stateful version)\n",
    "# This tool fetches weather forecasts for a specified city and a date range,\n",
    "# leveraging the `parse_flexible_date_range` helper to handle diverse date inputs.\n",
    "# It also uses `tool_context.state` to:\n",
    "# 1. Read `user_preference_temperature_unit`.\n",
    "# 2. Remember the `last_city_checked_stateful` and `last_date_expr_stateful` if not provided.\n",
    "# 3. Update `last_city_checked_stateful` and `last_date_expr_stateful` upon successful lookup.\n",
    "\n",
    "def get_weather_summary_from_openweather_stateful(\n",
    "    city: Optional[str], date_expr: Optional[str], tool_context\n",
    ") -> Dict[str, Any]:\n",
    "    \"\"\"\n",
    "    Summarizes weather data for a given city and flexible date expression from OpenWeatherMap,\n",
    "    leveraging session state for remembered context and user preferences.\n",
    "    Updates last_city_checked_stateful and last_date_expr_stateful unconditionally.\n",
    "    \"\"\"\n",
    "    # Retrieve city and date expression from session state if not provided in the tool call\n",
    "    if not city:\n",
    "        city = tool_context.state.get(\"last_city_checked_stateful\")\n",
    "    if not city:\n",
    "        return {\"status\": \"error\", \"error_message\": \"No city specified or remembered for weather forecast. Please provide a city.\"}\n",
    "    \n",
    "    if not date_expr:\n",
    "        date_expr = tool_context.state.get(\"last_date_expr_stateful\")\n",
    "    if not date_expr:\n",
    "        return {\"status\": \"error\", \"error_message\": \"No date or date range specified or remembered for weather forecast. Please provide a date or date range.\"}\n",
    "\n",
    "    preferred_unit = tool_context.state.get(\"user_preference_temperature_unit\", \"metric\")\n",
    "    unit_symbol = \"°C\" if preferred_unit == \"metric\" else \"°F\"\n",
    "\n",
    "    print(f\"--- Tool: get_weather_summary_from_openweather_stateful called for city: {city}, date_expr: {date_expr}, unit: {preferred_unit} ---\")\n",
    "\n",
    "    response_data = {} # Initialize to store tool response\n",
    "    try:\n",
    "        date_range = parse_flexible_date_range(date_expr)\n",
    "        if not date_range:\n",
    "            return {\"status\": \"error\", \"error_message\": f\"I couldn't understand the date expression '{date_expr}'. Please try a more common format like 'tomorrow', 'next week', 'July 1', or 'July 1 to July 5'.\"}\n",
    "        \n",
    "        start, end = date_range\n",
    "        current_utc_date = datetime.now(timezone.utc).date()\n",
    "        forecast_limit_days = 5 # Standard for OpenWeatherMap free tier forecast\n",
    "\n",
    "        if end.date() < current_utc_date: # If the *entire* range is in the past\n",
    "            response_data = {\"status\": \"info\", \"report\": f\"I can only provide forecasts for current or future dates. '{date_expr}' appears to be in the past. If you meant a future date, please specify it.\"}\n",
    "        elif (start.date() - current_utc_date).days > forecast_limit_days: # If the *start* of range is too far in future\n",
    "            response_data = {\"status\": \"info\", \"report\": f\"I can only provide a detailed forecast for up to {forecast_limit_days} days from today. '{date_expr}' is too far in the future for a precise summary.\"}\n",
    "        else: # Date range is valid for forecast or includes current/near future\n",
    "            url = f\"http://api.openweathermap.org/data/2.5/forecast?q={city}&appid={OPEN_WEATHER_API_KEY}&units={preferred_unit}\"\n",
    "            response = requests.get(url, timeout=10)\n",
    "            response.raise_for_status()\n",
    "            data = response.json()\n",
    "\n",
    "            if data[\"cod\"] != \"200\":\n",
    "                 response_data = {\"status\": \"error\", \"error_message\": f\"OpenWeatherMap API Error for forecast: {data.get('message', 'Unknown error')}\"}\n",
    "            else:\n",
    "                all_temps = []\n",
    "                all_descriptions = []\n",
    "\n",
    "                for entry in data.get(\"list\", []):\n",
    "                    entry_dt = datetime.fromtimestamp(entry[\"dt\"]).replace(tzinfo=None) # Make naive for comparison\n",
    "                    if start <= entry_dt <= end: # Compare full datetimes\n",
    "                        all_temps.append(entry[\"main\"][\"temp\"])\n",
    "                        all_descriptions.append(entry[\"weather\"][0][\"description\"])\n",
    "\n",
    "                if not all_temps:\n",
    "                    # If no forecast entries match the specific date range, provide a generic fallback\n",
    "                    response_data = {\"status\": \"info\", \"report\": f\"No specific forecast entries found for {city} for '{date_expr}' within the available forecast data. This can happen for very precise or far-off dates within the 5-day window.\"}\n",
    "                else:\n",
    "                    min_temp = round(min(all_temps), 1)\n",
    "                    max_temp = round(max(all_temps), 1)\n",
    "                    avg_temp = round(sum(all_temps) / len(all_temps), 1)\n",
    "\n",
    "                    weather_type_counts = Counter(all_descriptions)\n",
    "                    most_common_weather_types = [desc for desc, _ in weather_type_counts.most_common(3)]\n",
    "                    weather_description_str = \", \".join(most_common_weather_types)\n",
    "\n",
    "                    report = (\n",
    "                        f\"The weather in {data['city']['name']} from {start.strftime('%B %d')} to {end.strftime('%B %d')} \"\n",
    "                        f\"will be generally {weather_description_str}, with an average temperature of {avg_temp}{unit_symbol}. \"\n",
    "                        f\"Temperatures will range from {min_temp}{unit_symbol} to {max_temp}{unit_symbol}.\"\n",
    "                    )\n",
    "                    response_data = {\"status\": \"success\", \"summary\": report}\n",
    "\n",
    "    except requests.exceptions.Timeout:\n",
    "        response_data = {\"status\": \"error\", \"error_message\": f\"Request to OpenWeatherMap timed out for {city} and '{date_expr}'. Please try again later.\"}\n",
    "    except requests.exceptions.RequestException as e:\n",
    "        response_data = {\"status\": \"error\", \"error_message\": f\"Error fetching weather forecast data for {city}: {e}\"}\n",
    "    except KeyError as e:\n",
    "        response_data = {\"status\": \"error\", \"error_message\": f\"Error parsing weather forecast data for {city}: Missing key: {e}. The API response might be malformed or an invalid city was provided.\"}\n",
    "    except Exception as e:\n",
    "        response_data = {\"status\": \"error\", \"error_message\": f\"An unexpected error occurred while getting weather summary for {city} and '{date_expr}': {e}\"}\n",
    "\n",
    "    if city:\n",
    "        tool_context.state[\"last_city_checked_stateful\"] = city\n",
    "    if date_expr:\n",
    "        tool_context.state[\"last_date_expr_stateful\"] = date_expr\n",
    "    \n",
    "    return response_data\n",
    "\n",
    "print(\"`get_weather_summary_from_openweather_stateful` custom tool defined.\")"
   ]
  },
  {
   "cell_type": "code",
   "execution_count": 10,
   "id": "83cb8aff",
   "metadata": {},
   "outputs": [
    {
     "name": "stdout",
     "output_type": "stream",
     "text": [
      "`weather_agent` successfully defined with stateful instructions.\n"
     ]
    }
   ],
   "source": [
    "# Weather Agent: Definition\n",
    "# This agent leverages the two stateful custom tools defined above.\n",
    "# Its `instruction` is crucial for guiding the agent to:\n",
    "# - Use the correct tool based on the user's query (current vs. forecast).\n",
    "# - Utilize session state to remember the last city and date expression if not explicitly provided.\n",
    "# - Understand and respond to queries about remembered context.\n",
    "# - Handle tool outcomes (success, error, info) gracefully.\n",
    "weather_agent = Agent(\n",
    "    name=\"weather_agent\",\n",
    "    model=MODEL_GEMINI_2_0_FLASH,\n",
    "    description=\"Provides current weather and weather summaries, using user preferences and conversational context.\",\n",
    "    instruction=(\n",
    "        \"You are a helpful and accurate weather assistant. \"\n",
    "        \"Your responses should be clear and concise. \"\n",
    "        \n",
    "        \"**Context Handling (Session State):**\\n\"\n",
    "        \"1.  **Remembered City:** If the user does not specify a city in a query, *always* try to use the `last_city_checked_stateful` value from `tool_context.state`. If no city is remembered, you *must* ask the user for a city.\\n\"\n",
    "        \"2.  **Remembered Date:** If the user does not specify a date or date range in a query, *always* try to use the `last_date_expr_stateful` value from `tool_context.state`. If no date is remembered, you *must* ask the user for a date or date range.\\n\"\n",
    "        \"3.  **Temperature Unit Preference:** You are aware that `user_preference_temperature_unit` (either 'metric' or 'imperial') is stored in `tool_context.state`. The weather tools will automatically use this. **DO NOT** explicitly mention temperature units in your response unless the user explicitly asks about or changes their preference.\\n\"\n",
    "        \"4.  **Responding to Context Queries:** If the user asks explicitly about 'What was the last city I checked?' or 'What date range did I last ask about?', you **MUST directly retrieve and provide the value from `tool_context.state.last_city_checked_stateful` or `tool_context.state.last_date_expr_stateful`**. Do not call a tool for these specific questions; your internal knowledge (from session state) is sufficient.\\n\"\n",
    "        \"5.  **Re-querying on Context Change:** If a user's preference or a key context (like temperature unit) changes during a conversation, and they re-ask a previous type of question, you **MUST re-execute the appropriate tool** to provide an updated response based on the new context.\\n\"\n",
    "        \n",
    "        \"**Tool Usage:**\\n\"\n",
    "        \"1.  When the user asks for the **current weather** in a city (e.g., 'What's the weather in London?'), you MUST use the `get_current_weather_from_openweather_stateful` tool.\\n\"\n",
    "        \"2.  When the user asks for the **weather forecast** for a specific date or date range (e.g., 'What about tomorrow?', 'weather next week?', 'July 1 to July 5?', 'next 5 days?'), you MUST use the `get_weather_summary_from_openweather_stateful` tool.\\n\"\n",
    "        \"    *   This tool can handle flexible date expressions like 'this weekend', 'next week', 'last week', 'first week of July', 'tomorrow', 'in 3 days', 'next 5 days', as well as specific dates like '2025-07-01' or 'July 1 to July 5'.\\n\"\n",
    "        \n",
    "        \"**Output Handling:**\\n\"\n",
    "        \"1.  If a tool returns a result with `\\\"status\\\": \\\"success\\\"`, present the `\\\"report\\\"` or `\\\"summary\\\"` clearly and concisely.\\n\"\n",
    "        \"2.  If a tool returns a result with `\\\"status\\\": \\\"error\\\"`, directly inform the user with the `\\\"error_message\\\"` provided by the tool. Do not invent information.\\n\"\n",
    "        \"3.  If a tool returns a result with `\\\"status\\\": \\\"info\\\"`, directly provide the `\\\"report\\\"` to the user, as these are informative messages (e.g., date out of forecast range).\\n\"\n",
    "        \"4.  If a query is completely out of scope for weather (e.g., asking for a capital city), politely state your limitations and offer weather assistance.\\n\"\n",
    "        \"5.  Do not invent information if a tool cannot provide it.\\n\"\n",
    "        \"6.  Always be friendly and helpful.\"\n",
    "    ),\n",
    "    tools=[get_current_weather_from_openweather_stateful, get_weather_summary_from_openweather_stateful],\n",
    ")\n",
    "\n",
    "print(\"`weather_agent` successfully defined with stateful instructions.\")"
   ]
  },
  {
   "cell_type": "code",
   "execution_count": 11,
   "id": "28916036",
   "metadata": {},
   "outputs": [
    {
     "name": "stdout",
     "output_type": "stream",
     "text": [
      "Session and Runner initialized for weather agent.\n"
     ]
    }
   ],
   "source": [
    "# Set up the session and runner for the weather agent\n",
    "APP_NAME = \"wanderwise_app\"\n",
    "USER_ID = \"user_001\"\n",
    "SESSION_ID = \"weather_demo_session\"\n",
    "\n",
    "# Initialize InMemorySessionService to manage conversational state\n",
    "session_service = InMemorySessionService()\n",
    "\n",
    "# Define initial state for the session, including a user preference for temperature unit.\n",
    "# This state will be accessible by tools via `tool_context.state`.\n",
    "initial_state = {\n",
    "    \"user_preference_temperature_unit\": \"imperial\" # Start with Fahrenheit\n",
    "}\n",
    "\n",
    "# Create a new session, seeding it with the initial state.\n",
    "session = await session_service.create_session(\n",
    "    app_name=APP_NAME,\n",
    "    user_id=USER_ID,\n",
    "    session_id=SESSION_ID,\n",
    "    state=initial_state # Pass the initial state here\n",
    ")\n",
    "\n",
    "# Initialize InMemoryMemoryService (optional for this specific use case, but good practice if agent needs to write/read more complex long-term memory)\n",
    "memory_service = InMemoryMemoryService()\n",
    "\n",
    "# Create the Runner instance, connecting the agent, session service, and memory service.\n",
    "runner = Runner(\n",
    "    agent=weather_agent,\n",
    "    app_name=APP_NAME,\n",
    "    session_service=session_service,\n",
    "    memory_service=memory_service # Pass memory service to runner\n",
    ")\n",
    "\n",
    "print(\"Session and Runner initialized for weather agent.\")"
   ]
  },
  {
   "cell_type": "code",
   "execution_count": 12,
   "id": "3376fea3",
   "metadata": {},
   "outputs": [
    {
     "name": "stdout",
     "output_type": "stream",
     "text": [
      "`ask_weather_agent` helper function defined.\n"
     ]
    }
   ],
   "source": [
    "# Helper function to run and display agent responses\n",
    "# This asynchronous function handles sending user input to the agent and displaying its final response.\n",
    "async def ask_weather_agent(runner, prompt: str):\n",
    "    \"\"\"\n",
    "    Sends a prompt to the weather agent and displays its final response.\n",
    "    Args:\n",
    "        runner: The ADK Runner instance.\n",
    "        prompt: The user's input query.\n",
    "    \"\"\"\n",
    "    content = types.Content(role=\"user\", parts=[types.Part(text=prompt)])\n",
    "    # Use async for to iterate over events from the runner (important for non-blocking execution)\n",
    "    async for event in runner.run_async(user_id=USER_ID, session_id=SESSION_ID, new_message=content):\n",
    "        if event.is_final_response():\n",
    "            # Extract only the text parts from the response\n",
    "            text_parts = [part.text for part in event.content.parts if hasattr(part, 'text') and part.text]\n",
    "            # Join all text parts into a single string\n",
    "            text_response = \"\\n\".join(text_parts)\n",
    "            display(Markdown(f\"**Prompt:** {prompt}\"))\n",
    "            display(Markdown(f\"**Agent Response:** {text_response}\"))\n",
    "            break # Exit after the final response is received\n",
    "\n",
    "print(\"`ask_weather_agent` helper function defined.\")"
   ]
  },
  {
   "cell_type": "code",
   "execution_count": 13,
   "id": "d7233f2a",
   "metadata": {},
   "outputs": [
    {
     "name": "stdout",
     "output_type": "stream",
     "text": [
      "`show_context` helper function defined.\n"
     ]
    }
   ],
   "source": [
    "# Helper Function: To show current session state\n",
    "# This function allows us to inspect the `tool_context.state` (which is part of the session state)\n",
    "# after each interaction, demonstrating how the agent remembers information.\n",
    "async def show_context():\n",
    "    \"\"\"\n",
    "    Retrieves and prints the current state of the active session.\n",
    "    \"\"\"\n",
    "    # Get the latest session state using the session_service\n",
    "    current_session = await session_service.get_session(\n",
    "        app_name=APP_NAME,\n",
    "        user_id=USER_ID,\n",
    "        session_id=SESSION_ID\n",
    "    )\n",
    "    print(\"\\nSession state (per conversation):\")\n",
    "    if current_session.state:\n",
    "        for k, v in current_session.state.items():\n",
    "            print(f\"  {k}: {v}\")\n",
    "    else:\n",
    "        print(\"  <No state stored yet>\")\n",
    "\n",
    "print(\"`show_context` helper function defined.\")"
   ]
  },
  {
   "cell_type": "code",
   "execution_count": 14,
   "id": "0a248143",
   "metadata": {},
   "outputs": [
    {
     "name": "stdout",
     "output_type": "stream",
     "text": [
      "`update_temperature_unit` helper function defined.\n"
     ]
    }
   ],
   "source": [
    "# Helper function to update session state directly (e.g., changing user preferences)\n",
    "# This simulates a user setting a preference, which the agent's tools can then read.\n",
    "async def update_temperature_unit(new_unit: str):\n",
    "    \"\"\"\n",
    "    Updates the temperature unit preference in the session state.\n",
    "    Args:\n",
    "        new_unit: The new unit ('metric' for Celsius or 'imperial' for Fahrenheit).\n",
    "    \"\"\"\n",
    "    # Access the session object directly to modify its state\n",
    "    current_session = session_service.sessions[APP_NAME][USER_ID][SESSION_ID]\n",
    "    current_session.state[\"user_preference_temperature_unit\"] = new_unit\n",
    "    print(f\"\\nUpdated temperature unit preference in session state to: {new_unit}\")\n",
    "    await show_context() # Show updated context immediately\n",
    "\n",
    "print(\"`update_temperature_unit` helper function defined.\")"
   ]
  },
  {
   "cell_type": "code",
   "execution_count": 15,
   "id": "9db53a22",
   "metadata": {},
   "outputs": [
    {
     "name": "stdout",
     "output_type": "stream",
     "text": [
      "====== [starting stateful weather agent interactions] ======\n",
      "\n",
      "Initialized session 'weather_demo_session_stateful' for user 'user_001'. Initial state:\n",
      "\n",
      "Session state (per conversation):\n",
      "  user_preference_temperature_unit: imperial\n"
     ]
    },
    {
     "data": {
      "text/markdown": [
       "\n",
       "**Testing >> Initial query - Current weather, sets city and uses initial unit**"
      ],
      "text/plain": [
       "<IPython.core.display.Markdown object>"
      ]
     },
     "metadata": {},
     "output_type": "display_data"
    },
    {
     "name": "stderr",
     "output_type": "stream",
     "text": [
      "Warning: there are non-text parts in the response: ['function_call'], returning concatenated text result from text parts. Check the full candidates.content.parts accessor to get the full model response.\n"
     ]
    },
    {
     "name": "stdout",
     "output_type": "stream",
     "text": [
      "--- Tool: get_current_weather_from_openweather_stateful called for city: San Francisco, unit: imperial ---\n"
     ]
    },
    {
     "data": {
      "text/markdown": [
       "**Prompt:** What's the weather in San Francisco?"
      ],
      "text/plain": [
       "<IPython.core.display.Markdown object>"
      ]
     },
     "metadata": {},
     "output_type": "display_data"
    },
    {
     "data": {
      "text/markdown": [
       "**Agent Response:** The current weather in San Francisco is broken clouds with a temperature of 53.71°F (feels like 52.72°F). Humidity is 84% and wind speed is 21 m/s.\n"
      ],
      "text/plain": [
       "<IPython.core.display.Markdown object>"
      ]
     },
     "metadata": {},
     "output_type": "display_data"
    },
    {
     "name": "stdout",
     "output_type": "stream",
     "text": [
      "\n",
      "Session state (per conversation):\n",
      "  user_preference_temperature_unit: imperial\n",
      "  last_city_checked_stateful: San Francisco\n"
     ]
    },
    {
     "data": {
      "text/markdown": [
       "\n",
       "**Testing >> Follow-up Query - Forecast using remembered city**"
      ],
      "text/plain": [
       "<IPython.core.display.Markdown object>"
      ]
     },
     "metadata": {},
     "output_type": "display_data"
    },
    {
     "name": "stderr",
     "output_type": "stream",
     "text": [
      "Warning: there are non-text parts in the response: ['function_call'], returning concatenated text result from text parts. Check the full candidates.content.parts accessor to get the full model response.\n"
     ]
    },
    {
     "name": "stdout",
     "output_type": "stream",
     "text": [
      "--- Tool: get_weather_summary_from_openweather_stateful called for city: San Francisco, date_expr: next 3 days, unit: imperial ---\n"
     ]
    },
    {
     "data": {
      "text/markdown": [
       "**Prompt:** And, what will the weather be like for the next 3 days?"
      ],
      "text/plain": [
       "<IPython.core.display.Markdown object>"
      ]
     },
     "metadata": {},
     "output_type": "display_data"
    },
    {
     "data": {
      "text/markdown": [
       "**Agent Response:** The weather in San Francisco from June 12 to June 14 will be generally clear sky, scattered clouds, broken clouds, with an average temperature of 56.5°F. Temperatures will range from 52.6°F to 61.7°F.\n"
      ],
      "text/plain": [
       "<IPython.core.display.Markdown object>"
      ]
     },
     "metadata": {},
     "output_type": "display_data"
    },
    {
     "name": "stdout",
     "output_type": "stream",
     "text": [
      "\n",
      "Session state (per conversation):\n",
      "  user_preference_temperature_unit: imperial\n",
      "  last_city_checked_stateful: San Francisco\n",
      "  last_date_expr_stateful: next 3 days\n"
     ]
    },
    {
     "data": {
      "text/markdown": [
       "\n",
       "**Testing >> New Query - Different city and flexible date expression**"
      ],
      "text/plain": [
       "<IPython.core.display.Markdown object>"
      ]
     },
     "metadata": {},
     "output_type": "display_data"
    },
    {
     "name": "stderr",
     "output_type": "stream",
     "text": [
      "Warning: there are non-text parts in the response: ['function_call'], returning concatenated text result from text parts. Check the full candidates.content.parts accessor to get the full model response.\n"
     ]
    },
    {
     "name": "stdout",
     "output_type": "stream",
     "text": [
      "--- Tool: get_weather_summary_from_openweather_stateful called for city: Paris, date_expr: this weekend, unit: imperial ---\n"
     ]
    },
    {
     "data": {
      "text/markdown": [
       "**Prompt:** What's the weather in Paris this weekend?"
      ],
      "text/plain": [
       "<IPython.core.display.Markdown object>"
      ]
     },
     "metadata": {},
     "output_type": "display_data"
    },
    {
     "data": {
      "text/markdown": [
       "**Agent Response:** The weather in Paris from June 14 to June 15 will be generally light rain, overcast clouds, scattered clouds, with an average temperature of 72.5°F. Temperatures will range from 64.1°F to 85.2°F.\n"
      ],
      "text/plain": [
       "<IPython.core.display.Markdown object>"
      ]
     },
     "metadata": {},
     "output_type": "display_data"
    },
    {
     "name": "stdout",
     "output_type": "stream",
     "text": [
      "\n",
      "Session state (per conversation):\n",
      "  user_preference_temperature_unit: imperial\n",
      "  last_city_checked_stateful: Paris\n",
      "  last_date_expr_stateful: this weekend\n"
     ]
    },
    {
     "data": {
      "text/markdown": [
       "\n",
       "**Testing >> User Changes Preference - Re-ask query with new unit**"
      ],
      "text/plain": [
       "<IPython.core.display.Markdown object>"
      ]
     },
     "metadata": {},
     "output_type": "display_data"
    },
    {
     "name": "stdout",
     "output_type": "stream",
     "text": [
      "\n",
      "Updated temperature unit preference in session state to: metric\n",
      "\n",
      "Session state (per conversation):\n",
      "  user_preference_temperature_unit: metric\n",
      "  last_city_checked_stateful: Paris\n",
      "  last_date_expr_stateful: this weekend\n"
     ]
    },
    {
     "name": "stderr",
     "output_type": "stream",
     "text": [
      "Warning: there are non-text parts in the response: ['function_call'], returning concatenated text result from text parts. Check the full candidates.content.parts accessor to get the full model response.\n"
     ]
    },
    {
     "name": "stdout",
     "output_type": "stream",
     "text": [
      "--- Tool: get_weather_summary_from_openweather_stateful called for city: Paris, date_expr: this weekend, unit: metric ---\n"
     ]
    },
    {
     "data": {
      "text/markdown": [
       "**Prompt:** What's the weather in Paris this weekend?"
      ],
      "text/plain": [
       "<IPython.core.display.Markdown object>"
      ]
     },
     "metadata": {},
     "output_type": "display_data"
    },
    {
     "data": {
      "text/markdown": [
       "**Agent Response:** The weather in Paris from June 14 to June 15 will be generally light rain, overcast clouds, scattered clouds, with an average temperature of 22.5°C. Temperatures will range from 17.8°C to 29.6°C.\n"
      ],
      "text/plain": [
       "<IPython.core.display.Markdown object>"
      ]
     },
     "metadata": {},
     "output_type": "display_data"
    },
    {
     "name": "stdout",
     "output_type": "stream",
     "text": [
      "\n",
      "Session state (per conversation):\n",
      "  user_preference_temperature_unit: metric\n",
      "  last_city_checked_stateful: Paris\n",
      "  last_date_expr_stateful: this weekend\n"
     ]
    },
    {
     "data": {
      "text/markdown": [
       "\n",
       "** Testing >> Forecast for remembered city on a specific future date**"
      ],
      "text/plain": [
       "<IPython.core.display.Markdown object>"
      ]
     },
     "metadata": {},
     "output_type": "display_data"
    },
    {
     "name": "stderr",
     "output_type": "stream",
     "text": [
      "Warning: there are non-text parts in the response: ['function_call'], returning concatenated text result from text parts. Check the full candidates.content.parts accessor to get the full model response.\n"
     ]
    },
    {
     "name": "stdout",
     "output_type": "stream",
     "text": [
      "--- Tool: get_weather_summary_from_openweather_stateful called for city: London, date_expr: July 15, 2025, unit: metric ---\n"
     ]
    },
    {
     "data": {
      "text/markdown": [
       "**Prompt:** What about London on July 15, 2025?"
      ],
      "text/plain": [
       "<IPython.core.display.Markdown object>"
      ]
     },
     "metadata": {},
     "output_type": "display_data"
    },
    {
     "data": {
      "text/markdown": [
       "**Agent Response:** I can only provide a detailed forecast for up to 5 days from today. 'July 15, 2025' is too far in the future for a precise summary.\n"
      ],
      "text/plain": [
       "<IPython.core.display.Markdown object>"
      ]
     },
     "metadata": {},
     "output_type": "display_data"
    },
    {
     "name": "stdout",
     "output_type": "stream",
     "text": [
      "\n",
      "Session state (per conversation):\n",
      "  user_preference_temperature_unit: metric\n",
      "  last_city_checked_stateful: London\n",
      "  last_date_expr_stateful: July 15, 2025\n"
     ]
    },
    {
     "data": {
      "text/markdown": [
       "\n",
       "**Testing >> Ask Agent about its remembered context (last city)**"
      ],
      "text/plain": [
       "<IPython.core.display.Markdown object>"
      ]
     },
     "metadata": {},
     "output_type": "display_data"
    },
    {
     "data": {
      "text/markdown": [
       "**Prompt:** What was the last city I checked the weather for?"
      ],
      "text/plain": [
       "<IPython.core.display.Markdown object>"
      ]
     },
     "metadata": {},
     "output_type": "display_data"
    },
    {
     "data": {
      "text/markdown": [
       "**Agent Response:** The last city you checked the weather for was Paris.\n"
      ],
      "text/plain": [
       "<IPython.core.display.Markdown object>"
      ]
     },
     "metadata": {},
     "output_type": "display_data"
    },
    {
     "name": "stdout",
     "output_type": "stream",
     "text": [
      "\n",
      "Session state (per conversation):\n",
      "  user_preference_temperature_unit: metric\n",
      "  last_city_checked_stateful: London\n",
      "  last_date_expr_stateful: July 15, 2025\n"
     ]
    },
    {
     "data": {
      "text/markdown": [
       "\n",
       "**Testing >> Ask Agent about its remembered context (last date range)**"
      ],
      "text/plain": [
       "<IPython.core.display.Markdown object>"
      ]
     },
     "metadata": {},
     "output_type": "display_data"
    },
    {
     "data": {
      "text/markdown": [
       "**Prompt:** What date range did I last ask about?"
      ],
      "text/plain": [
       "<IPython.core.display.Markdown object>"
      ]
     },
     "metadata": {},
     "output_type": "display_data"
    },
    {
     "data": {
      "text/markdown": [
       "**Agent Response:** The last date range you asked about was this weekend.\n"
      ],
      "text/plain": [
       "<IPython.core.display.Markdown object>"
      ]
     },
     "metadata": {},
     "output_type": "display_data"
    },
    {
     "name": "stdout",
     "output_type": "stream",
     "text": [
      "\n",
      "Session state (per conversation):\n",
      "  user_preference_temperature_unit: metric\n",
      "  last_city_checked_stateful: London\n",
      "  last_date_expr_stateful: July 15, 2025\n"
     ]
    },
    {
     "data": {
      "text/markdown": [
       "\n",
       "**Testing >> Edge Case - Date too far in the future**"
      ],
      "text/plain": [
       "<IPython.core.display.Markdown object>"
      ]
     },
     "metadata": {},
     "output_type": "display_data"
    },
    {
     "name": "stderr",
     "output_type": "stream",
     "text": [
      "Warning: there are non-text parts in the response: ['function_call'], returning concatenated text result from text parts. Check the full candidates.content.parts accessor to get the full model response.\n"
     ]
    },
    {
     "name": "stdout",
     "output_type": "stream",
     "text": [
      "--- Tool: get_weather_summary_from_openweather_stateful called for city: Tokyo, date_expr: December 2026, unit: metric ---\n"
     ]
    },
    {
     "data": {
      "text/markdown": [
       "**Prompt:** What will the weather be like in Tokyo in December 2026?"
      ],
      "text/plain": [
       "<IPython.core.display.Markdown object>"
      ]
     },
     "metadata": {},
     "output_type": "display_data"
    },
    {
     "data": {
      "text/markdown": [
       "**Agent Response:** I can only provide a detailed forecast for up to 5 days from today. 'December 2026' is too far in the future for a precise summary.\n"
      ],
      "text/plain": [
       "<IPython.core.display.Markdown object>"
      ]
     },
     "metadata": {},
     "output_type": "display_data"
    },
    {
     "name": "stdout",
     "output_type": "stream",
     "text": [
      "\n",
      "Session state (per conversation):\n",
      "  user_preference_temperature_unit: metric\n",
      "  last_city_checked_stateful: Tokyo\n",
      "  last_date_expr_stateful: December 2026\n"
     ]
    },
    {
     "data": {
      "text/markdown": [
       "\n",
       "**Testing >> Edge Case - Past date request**"
      ],
      "text/plain": [
       "<IPython.core.display.Markdown object>"
      ]
     },
     "metadata": {},
     "output_type": "display_data"
    },
    {
     "name": "stderr",
     "output_type": "stream",
     "text": [
      "Warning: there are non-text parts in the response: ['function_call'], returning concatenated text result from text parts. Check the full candidates.content.parts accessor to get the full model response.\n"
     ]
    },
    {
     "name": "stdout",
     "output_type": "stream",
     "text": [
      "--- Tool: get_weather_summary_from_openweather_stateful called for city: New York, date_expr: last week, unit: metric ---\n"
     ]
    },
    {
     "data": {
      "text/markdown": [
       "**Prompt:** What was the weather like in New York last week?"
      ],
      "text/plain": [
       "<IPython.core.display.Markdown object>"
      ]
     },
     "metadata": {},
     "output_type": "display_data"
    },
    {
     "data": {
      "text/markdown": [
       "**Agent Response:** I can only provide forecasts for current or future dates. 'last week' appears to be in the past. If you meant a future date, please specify it.\n"
      ],
      "text/plain": [
       "<IPython.core.display.Markdown object>"
      ]
     },
     "metadata": {},
     "output_type": "display_data"
    },
    {
     "name": "stdout",
     "output_type": "stream",
     "text": [
      "\n",
      "Session state (per conversation):\n",
      "  user_preference_temperature_unit: metric\n",
      "  last_city_checked_stateful: New York\n",
      "  last_date_expr_stateful: last week\n"
     ]
    },
    {
     "data": {
      "text/markdown": [
       "\n",
       "**Testing >> Edge Case - Invalid city name**"
      ],
      "text/plain": [
       "<IPython.core.display.Markdown object>"
      ]
     },
     "metadata": {},
     "output_type": "display_data"
    },
    {
     "name": "stderr",
     "output_type": "stream",
     "text": [
      "Warning: there are non-text parts in the response: ['function_call'], returning concatenated text result from text parts. Check the full candidates.content.parts accessor to get the full model response.\n"
     ]
    },
    {
     "name": "stdout",
     "output_type": "stream",
     "text": [
      "--- Tool: get_current_weather_from_openweather_stateful called for city: NonExistentCity, unit: metric ---\n"
     ]
    },
    {
     "data": {
      "text/markdown": [
       "**Prompt:** What's the weather in NonExistentCity today?"
      ],
      "text/plain": [
       "<IPython.core.display.Markdown object>"
      ]
     },
     "metadata": {},
     "output_type": "display_data"
    },
    {
     "data": {
      "text/markdown": [
       "**Agent Response:** Error fetching current weather data for NonExistentCity: 404 Client Error"
      ],
      "text/plain": [
       "<IPython.core.display.Markdown object>"
      ]
     },
     "metadata": {},
     "output_type": "display_data"
    },
    {
     "name": "stdout",
     "output_type": "stream",
     "text": [
      "\n",
      "Session state (per conversation):\n",
      "  user_preference_temperature_unit: metric\n",
      "  last_city_checked_stateful: NonExistentCity\n",
      "  last_date_expr_stateful: last week\n"
     ]
    },
    {
     "data": {
      "text/markdown": [
       "\n",
       "**Testing >> Edge Case - No city given, no city remembered**"
      ],
      "text/plain": [
       "<IPython.core.display.Markdown object>"
      ]
     },
     "metadata": {},
     "output_type": "display_data"
    },
    {
     "name": "stdout",
     "output_type": "stream",
     "text": [
      "\n",
      "Session reset to clear previous context for this test.\n",
      "\n",
      "Session state (per conversation):\n",
      "  user_preference_temperature_unit: imperial\n"
     ]
    },
    {
     "data": {
      "text/markdown": [
       "**Prompt:** What's the current weather like?"
      ],
      "text/plain": [
       "<IPython.core.display.Markdown object>"
      ]
     },
     "metadata": {},
     "output_type": "display_data"
    },
    {
     "data": {
      "text/markdown": [
       "**Agent Response:** Could you please tell me which city you're interested in?\n"
      ],
      "text/plain": [
       "<IPython.core.display.Markdown object>"
      ]
     },
     "metadata": {},
     "output_type": "display_data"
    },
    {
     "name": "stdout",
     "output_type": "stream",
     "text": [
      "\n",
      "Session state (per conversation):\n",
      "  user_preference_temperature_unit: imperial\n"
     ]
    },
    {
     "data": {
      "text/markdown": [
       "\n",
       "**Testing >> Edge Case - Out of scope query**"
      ],
      "text/plain": [
       "<IPython.core.display.Markdown object>"
      ]
     },
     "metadata": {},
     "output_type": "display_data"
    },
    {
     "data": {
      "text/markdown": [
       "**Prompt:** What is the capital of France?"
      ],
      "text/plain": [
       "<IPython.core.display.Markdown object>"
      ]
     },
     "metadata": {},
     "output_type": "display_data"
    },
    {
     "data": {
      "text/markdown": [
       "**Agent Response:** I am designed to provide weather information. I cannot provide information about capital cities. Would you like me to get the weather for you?\n"
      ],
      "text/plain": [
       "<IPython.core.display.Markdown object>"
      ]
     },
     "metadata": {},
     "output_type": "display_data"
    },
    {
     "name": "stdout",
     "output_type": "stream",
     "text": [
      "\n",
      "Session state (per conversation):\n",
      "  user_preference_temperature_unit: imperial\n"
     ]
    },
    {
     "data": {
      "text/markdown": [
       "\n",
       "**Testing >> Explicit 'this week' vs 'next week'**"
      ],
      "text/plain": [
       "<IPython.core.display.Markdown object>"
      ]
     },
     "metadata": {},
     "output_type": "display_data"
    },
    {
     "name": "stderr",
     "output_type": "stream",
     "text": [
      "Warning: there are non-text parts in the response: ['function_call'], returning concatenated text result from text parts. Check the full candidates.content.parts accessor to get the full model response.\n"
     ]
    },
    {
     "name": "stdout",
     "output_type": "stream",
     "text": [
      "--- Tool: get_weather_summary_from_openweather_stateful called for city: London, date_expr: this week, unit: imperial ---\n"
     ]
    },
    {
     "data": {
      "text/markdown": [
       "**Prompt:** How's the weather in London this week?"
      ],
      "text/plain": [
       "<IPython.core.display.Markdown object>"
      ]
     },
     "metadata": {},
     "output_type": "display_data"
    },
    {
     "data": {
      "text/markdown": [
       "**Agent Response:** OK. The weather in London from June 09 to June 15 will be generally overcast clouds, clear sky, light rain, with an average temperature of 67.0°F. Temperatures will range from 55.4°F to 81.5°F.\n"
      ],
      "text/plain": [
       "<IPython.core.display.Markdown object>"
      ]
     },
     "metadata": {},
     "output_type": "display_data"
    },
    {
     "name": "stdout",
     "output_type": "stream",
     "text": [
      "\n",
      "Session state (per conversation):\n",
      "  user_preference_temperature_unit: imperial\n",
      "  last_city_checked_stateful: London\n",
      "  last_date_expr_stateful: this week\n"
     ]
    },
    {
     "name": "stderr",
     "output_type": "stream",
     "text": [
      "Warning: there are non-text parts in the response: ['function_call'], returning concatenated text result from text parts. Check the full candidates.content.parts accessor to get the full model response.\n"
     ]
    },
    {
     "name": "stdout",
     "output_type": "stream",
     "text": [
      "--- Tool: get_weather_summary_from_openweather_stateful called for city: London, date_expr: next week, unit: imperial ---\n"
     ]
    },
    {
     "data": {
      "text/markdown": [
       "**Prompt:** And next week?"
      ],
      "text/plain": [
       "<IPython.core.display.Markdown object>"
      ]
     },
     "metadata": {},
     "output_type": "display_data"
    },
    {
     "data": {
      "text/markdown": [
       "**Agent Response:** The weather in London from June 16 to June 22 will be generally scattered clouds, broken clouds, clear sky, with an average temperature of 66.1°F. Temperatures will range from 56.9°F to 77.8°F.\n"
      ],
      "text/plain": [
       "<IPython.core.display.Markdown object>"
      ]
     },
     "metadata": {},
     "output_type": "display_data"
    },
    {
     "name": "stdout",
     "output_type": "stream",
     "text": [
      "\n",
      "Session state (per conversation):\n",
      "  user_preference_temperature_unit: imperial\n",
      "  last_city_checked_stateful: London\n",
      "  last_date_expr_stateful: next week\n",
      "\n",
      "====== [all stateful weather agent interactions complete] ======\n"
     ]
    }
   ],
   "source": [
    "# Example Interactions to demonstrate Conversational Context (Statefulness)\n",
    "\n",
    "print(\"====== [starting stateful weather agent interactions] ======\\n\")\n",
    "\n",
    "# Define common parameters for our agent interactions.\n",
    "APP_NAME = \"wanderwise_app\"\n",
    "USER_ID = \"user_001\"\n",
    "SESSION_ID = \"weather_demo_session_stateful\" # Use a distinct session ID for this demo\n",
    "\n",
    "# Initialize InMemorySessionService and create a session with an initial preference.\n",
    "# This session will persist across turns for this sequence of interactions.\n",
    "session_service = InMemorySessionService() # Ensure this is initialized here if not global\n",
    "initial_state = {\n",
    "    \"user_preference_temperature_unit\": \"imperial\" # Start with Fahrenheit\n",
    "}\n",
    "await session_service.create_session(\n",
    "    app_name=APP_NAME,\n",
    "    user_id=USER_ID,\n",
    "    session_id=SESSION_ID,\n",
    "    state=initial_state\n",
    ")\n",
    "\n",
    "# Initialize InMemoryMemoryService (though primarily tool_context.state is used here)\n",
    "memory_service = InMemoryMemoryService()\n",
    "\n",
    "# Create the Runner instance, binding it to the persistent session and agent.\n",
    "runner = Runner(\n",
    "    agent=weather_agent,\n",
    "    app_name=APP_NAME,\n",
    "    session_service=session_service,\n",
    "    memory_service=memory_service\n",
    ")\n",
    "\n",
    "print(f\"Initialized session '{SESSION_ID}' for user '{USER_ID}'. Initial state:\")\n",
    "await show_context()\n",
    "time.sleep(1) # Small delay after setup\n",
    "\n",
    "\n",
    "# --- Test Case 1: Initial query, sets last_city and uses initial unit preference ---\n",
    "display(Markdown(f\"\\n**Testing >> Initial query - Current weather, sets city and uses initial unit**\"))\n",
    "await ask_weather_agent(runner, \"What's the weather in San Francisco?\")\n",
    "await show_context()\n",
    "time.sleep(1)\n",
    "\n",
    "\n",
    "# --- Test Case 2: Subsequent query, relies on remembered city for forecast ---\n",
    "display(Markdown(f\"\\n**Testing >> Follow-up Query - Forecast using remembered city**\"))\n",
    "await ask_weather_agent(runner, \"And, what will the weather be like for the next 3 days?\")\n",
    "await show_context()\n",
    "time.sleep(1)\n",
    "\n",
    "\n",
    "# --- Test Case 3: New city, different date expression, updates context ---\n",
    "display(Markdown(f\"\\n**Testing >> New Query - Different city and flexible date expression**\"))\n",
    "await ask_weather_agent(runner, \"What's the weather in Paris this weekend?\")\n",
    "await show_context()\n",
    "time.sleep(1)\n",
    "\n",
    "\n",
    "# --- Test Case 4: Change preference and re-ask previous query (should use new unit) ---\n",
    "display(Markdown(f\"\\n**Testing >> User Changes Preference - Re-ask query with new unit**\"))\n",
    "await update_temperature_unit(\"metric\") # Update preference directly\n",
    "await ask_weather_agent(runner, \"What's the weather in Paris this weekend?\") # Re-ask same query\n",
    "await show_context()\n",
    "time.sleep(1)\n",
    "\n",
    "\n",
    "# --- Test Case 5: Ask for weather in a remembered city, explicit future date ---\n",
    "display(Markdown(f\"\\n** Testing >> Forecast for remembered city on a specific future date**\"))\n",
    "await ask_weather_agent(runner, \"What about London on July 15, 2025?\")\n",
    "await show_context()\n",
    "time.sleep(1)\n",
    "\n",
    "\n",
    "# --- Test Case 6: Ask for last remembered city (agent answers from its knowledge of state) ---\n",
    "display(Markdown(f\"\\n**Testing >> Ask Agent about its remembered context (last city)**\"))\n",
    "await ask_weather_agent(runner, \"What was the last city I checked the weather for?\")\n",
    "await show_context()\n",
    "time.sleep(1)\n",
    "\n",
    "\n",
    "# --- Test Case 7: Ask for last remembered date expression (agent answers from its knowledge of state) ---\n",
    "display(Markdown(f\"\\n**Testing >> Ask Agent about its remembered context (last date range)**\"))\n",
    "await ask_weather_agent(runner, \"What date range did I last ask about?\")\n",
    "await show_context()\n",
    "time.sleep(1)\n",
    "\n",
    "\n",
    "# --- Test Case 8: Request for a date too far in the future (beyond 5-day forecast) ---\n",
    "display(Markdown(f\"\\n**Testing >> Edge Case - Date too far in the future**\"))\n",
    "await ask_weather_agent(runner, \"What will the weather be like in Tokyo in December 2026?\")\n",
    "await show_context()\n",
    "time.sleep(1)\n",
    "\n",
    "\n",
    "# --- Test Case 9: Request for a past date (no historical data from API) ---\n",
    "display(Markdown(f\"\\n**Testing >> Edge Case - Past date request**\"))\n",
    "await ask_weather_agent(runner, \"What was the weather like in New York last week?\")\n",
    "await show_context()\n",
    "time.sleep(1)\n",
    "\n",
    "\n",
    "# --- Test Case 10: Invalid City Name (tool error handling) ---\n",
    "display(Markdown(f\"\\n**Testing >> Edge Case - Invalid city name**\"))\n",
    "await ask_weather_agent(runner, \"What's the weather in NonExistentCity today?\")\n",
    "await show_context()\n",
    "time.sleep(1)\n",
    "\n",
    "\n",
    "# --- Test Case 11: Ask for current weather with no prior city remembered and no city specified ---\n",
    "display(Markdown(f\"\\n**Testing >> Edge Case - No city given, no city remembered**\"))\n",
    "# Reset session to simulate starting fresh with no context\n",
    "await session_service.delete_session(app_name=APP_NAME, user_id=USER_ID, session_id=SESSION_ID)\n",
    "await session_service.create_session(app_name=APP_NAME, user_id=USER_ID, session_id=SESSION_ID, state=initial_state) # Recreate session with initial state\n",
    "print(\"\\nSession reset to clear previous context for this test.\")\n",
    "await show_context()\n",
    "\n",
    "await ask_weather_agent(runner, \"What's the current weather like?\") # Should respond with \"No city specified...\"\n",
    "await show_context()\n",
    "time.sleep(1)\n",
    "\n",
    "\n",
    "# --- Test Case 12: Ask a non-weather related question (agent should defer or state inability) ---\n",
    "display(Markdown(f\"\\n**Testing >> Edge Case - Out of scope query**\"))\n",
    "await ask_weather_agent(runner, \"What is the capital of France?\")\n",
    "await show_context()\n",
    "time.sleep(1)\n",
    "\n",
    "\n",
    "# --- Test Case 13: Request for \"this week\" vs. \"next week\" specifically ---\n",
    "display(Markdown(f\"\\n**Testing >> Explicit 'this week' vs 'next week'**\"))\n",
    "await ask_weather_agent(runner, \"How's the weather in London this week?\")\n",
    "await show_context()\n",
    "time.sleep(1)\n",
    "await ask_weather_agent(runner, \"And next week?\") # Should remember London and apply to next week\n",
    "await show_context()\n",
    "time.sleep(1)\n",
    "\n",
    "\n",
    "print(\"\\n====== [all stateful weather agent interactions complete] ======\")"
   ]
  },
  {
   "cell_type": "code",
   "execution_count": 16,
   "id": "55c47156",
   "metadata": {},
   "outputs": [],
   "source": [
    "# Congratulations 🎉 \n",
    "# You now have a sophisticated ADK agent that effectively uses conversational context (session state)\n",
    "# to remember user preferences and past queries. This makes the agent much more user-friendly and capable of\n",
    "# handling multi-turn dialogues seamlessly.\n",
    "# You've demonstrated how to:\n",
    "# - Define stateful custom tools that read from and write to `tool_context.state`.\n",
    "# - Initialize session state with user preferences.\n",
    "# - Leverage remembered context for subsequent queries (e.g., city, date range).\n",
    "# - Allow the agent to directly answer questions about remembered context.\n",
    "# - Handle cases where context is missing gracefully.\n",
    "# Remember to ensure your OPEN_WEATHER_API_KEY is correctly set for the tools to function!"
   ]
  }
 ],
 "metadata": {
  "kernelspec": {
   "display_name": "Python 3",
   "language": "python",
   "name": "python3"
  },
  "language_info": {
   "codemirror_mode": {
    "name": "ipython",
    "version": 3
   },
   "file_extension": ".py",
   "mimetype": "text/x-python",
   "name": "python",
   "nbconvert_exporter": "python",
   "pygments_lexer": "ipython3",
   "version": "3.12.1"
  }
 },
 "nbformat": 4,
 "nbformat_minor": 5
}
