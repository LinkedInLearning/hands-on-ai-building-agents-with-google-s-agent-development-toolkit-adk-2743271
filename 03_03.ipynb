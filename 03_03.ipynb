{
 "cells": [
  {
   "cell_type": "code",
   "execution_count": 1,
   "id": "682dfdc8",
   "metadata": {},
   "outputs": [],
   "source": [
    "# Third-Party Tools: Expanding Horizons with Tavily and Google ADK\n",
    "# Welcome 👋🏻 In this notebook, you'll learn how to expand your ADK agent's capabilities by integrating \n",
    "# a third-party tool—Tavily—for live web search. You'll see how to wrap LangChain tools for ADK, \n",
    "# configure your agent, and run real queries for up-to-date information in WanderWise."
   ]
  },
  {
   "cell_type": "code",
   "execution_count": 2,
   "id": "af4985c5",
   "metadata": {},
   "outputs": [
    {
     "name": "stdout",
     "output_type": "stream",
     "text": [
      "\n",
      "\u001b[1m[\u001b[0m\u001b[34;49mnotice\u001b[0m\u001b[1;39;49m]\u001b[0m\u001b[39;49m A new release of pip is available: \u001b[0m\u001b[31;49m25.0.1\u001b[0m\u001b[39;49m -> \u001b[0m\u001b[32;49m25.1.1\u001b[0m\n",
      "\u001b[1m[\u001b[0m\u001b[34;49mnotice\u001b[0m\u001b[1;39;49m]\u001b[0m\u001b[39;49m To update, run: \u001b[0m\u001b[32;49mpip install --upgrade pip\u001b[0m\n",
      "Note: you may need to restart the kernel to use updated packages.\n"
     ]
    }
   ],
   "source": [
    "# Install Google ADK for Python\n",
    "# This foundational package provides all the necessary components for building and running your agents.\n",
    "# The --quiet flag suppresses verbose output during installation.\n",
    "%pip install google-adk --quiet"
   ]
  },
  {
   "cell_type": "code",
   "execution_count": 3,
   "id": "ea9d816f",
   "metadata": {},
   "outputs": [
    {
     "name": "stdout",
     "output_type": "stream",
     "text": [
      "\n",
      "\u001b[1m[\u001b[0m\u001b[34;49mnotice\u001b[0m\u001b[1;39;49m]\u001b[0m\u001b[39;49m A new release of pip is available: \u001b[0m\u001b[31;49m25.0.1\u001b[0m\u001b[39;49m -> \u001b[0m\u001b[32;49m25.1.1\u001b[0m\n",
      "\u001b[1m[\u001b[0m\u001b[34;49mnotice\u001b[0m\u001b[1;39;49m]\u001b[0m\u001b[39;49m To update, run: \u001b[0m\u001b[32;49mpip install --upgrade pip\u001b[0m\n",
      "Note: you may need to restart the kernel to use updated packages.\n"
     ]
    }
   ],
   "source": [
    "# Install LangChain Community and Tavily Python libraries\n",
    "# langchain_community provides LangChain integrations, including tools.\n",
    "# tavily-python is the official Python client for the Tavily Search API.\n",
    "%pip install langchain_community tavily-python --quiet"
   ]
  },
  {
   "cell_type": "code",
   "execution_count": 4,
   "id": "2074d8b8",
   "metadata": {},
   "outputs": [
    {
     "name": "stdout",
     "output_type": "stream",
     "text": [
      "Name: google-adk\n",
      "Version: 1.0.0\n",
      "Summary: Agent Development Kit\n",
      "Home-page: https://google.github.io/adk-docs/\n",
      "Author: \n",
      "Author-email: Google LLC <googleapis-packages@google.com>\n",
      "License: \n",
      "Location: /home/codespace/.python/current/lib/python3.12/site-packages\n",
      "Requires: authlib, click, fastapi, google-api-python-client, google-cloud-aiplatform, google-cloud-secret-manager, google-cloud-speech, google-cloud-storage, google-genai, graphviz, mcp, opentelemetry-api, opentelemetry-exporter-gcp-trace, opentelemetry-sdk, pydantic, python-dotenv, PyYAML, sqlalchemy, tzlocal, uvicorn\n",
      "Required-by: \n",
      "Note: you may need to restart the kernel to use updated packages.\n",
      "Name: langchain-community\n",
      "Version: 0.3.24\n",
      "Summary: Community contributed LangChain integrations.\n",
      "Home-page: \n",
      "Author: \n",
      "Author-email: \n",
      "License: MIT\n",
      "Location: /home/codespace/.python/current/lib/python3.12/site-packages\n",
      "Requires: aiohttp, dataclasses-json, httpx-sse, langchain, langchain-core, langsmith, numpy, pydantic-settings, PyYAML, requests, SQLAlchemy, tenacity\n",
      "Required-by: \n",
      "Note: you may need to restart the kernel to use updated packages.\n",
      "Name: tavily-python\n",
      "Version: 0.7.3\n",
      "Summary: Python wrapper for the Tavily API\n",
      "Home-page: https://github.com/tavily-ai/tavily-python\n",
      "Author: Tavily AI\n",
      "Author-email: support@tavily.com\n",
      "License: \n",
      "Location: /home/codespace/.python/current/lib/python3.12/site-packages\n",
      "Requires: httpx, requests, tiktoken\n",
      "Required-by: \n",
      "Note: you may need to restart the kernel to use updated packages.\n"
     ]
    }
   ],
   "source": [
    "# Verify ADK Installation (Optional but Recommended)\n",
    "%pip show google-adk\n",
    "%pip show langchain_community \n",
    "%pip show tavily-python"
   ]
  },
  {
   "cell_type": "code",
   "execution_count": 5,
   "id": "531ee3d0",
   "metadata": {},
   "outputs": [],
   "source": [
    "# Configure environment\n",
    "import os\n",
    "\n",
    "# Set GOOGLE_GENAI_USE_VERTEXAI to \"False\" to use the public Gemini API directly,\n",
    "# rather than routing through Google Cloud's Vertex AI. This simplifies setup for quick demos.\n",
    "os.environ[\"GOOGLE_GENAI_USE_VERTEXAI\"] = \"False\"\n",
    "\n",
    "# Define the specific Gemini model we'll use.\n",
    "# 'gemini-2.0-flash' is a fast and efficient model, suitable for quick responses.\n",
    "MODEL_GEMINI_2_0_FLASH = \"gemini-2.0-flash\""
   ]
  },
  {
   "cell_type": "code",
   "execution_count": 6,
   "id": "4724dda4",
   "metadata": {},
   "outputs": [],
   "source": [
    "# Import Necessary Modules\n",
    "\n",
    "# Agent: The fundamental class for creating an AI agent within ADK.\n",
    "from google.adk.agents import Agent\n",
    "\n",
    "# Runner: The orchestrator that manages the flow of messages and agent execution.\n",
    "from google.adk.runners import Runner\n",
    "\n",
    "# InMemorySessionService: A simple, in-memory service for managing conversation sessions.\n",
    "# Sessions are vital for maintaining context in multi-turn dialogues.\n",
    "from google.adk.sessions import InMemorySessionService\n",
    "\n",
    "# LangchainTool: A utility from ADK to wrap LangChain tools, making them compatible with ADK agents.\n",
    "from google.adk.tools.langchain_tool import LangchainTool\n",
    "\n",
    "# types from google.genai: Provides data structures (like Content and Part) to represent\n",
    "# messages exchanged with the language model.\n",
    "from google.genai import types\n",
    "\n",
    "# TavilySearchResults: The LangChain tool for performing web searches using the Tavily API.\n",
    "from langchain_community.tools import TavilySearchResults\n",
    "\n",
    "# Markdown, display: Used for rendering rich text output in Jupyter notebooks.\n",
    "from IPython.display import Markdown, display"
   ]
  },
  {
   "cell_type": "code",
   "execution_count": 7,
   "id": "c4e7e0f5",
   "metadata": {},
   "outputs": [],
   "source": [
    "# Tavily Search API: Set Up\n",
    "# API Key Management: Always use environment variables or a secure vault for credentials!\n",
    "# This line attempts to retrieve your Tavily API key from an environment variable.\n",
    "# Replace 'YOUR_TAVILY_API_KEY' with your actual key if you're not using environment variables,\n",
    "# but it's strongly recommended to set it securely (e.g., in a .env file or system-wide).\n",
    "# You can obtain a free API key from https://www.tavily.com\n",
    "TAVILY_API_KEY = os.environ.get(\"TAVILY_API_KEY\")\n",
    "\n",
    "if not TAVILY_API_KEY:\n",
    "    raise ValueError(\n",
    "        \"TAVILY_API_KEY environment variable not set. \"\n",
    "        \"Never hardcode API keys in your code. \"\n",
    "        \"Set it securely in your environment or use a secrets manager.\"\n",
    "    )"
   ]
  },
  {
   "cell_type": "code",
   "execution_count": 8,
   "id": "dd0ca587",
   "metadata": {},
   "outputs": [],
   "source": [
    "# Tavily LangChain tool: Initialization\n",
    "# This tool allows the agent to perform live web searches using Tavily.\n",
    "# We configure it for 'advanced' search depth and to include various data types.\n",
    "tavily_tool_instance = TavilySearchResults(\n",
    "    max_results=5,                # Limit the number of search results to 5\n",
    "    search_depth=\"advanced\",      # Use a more comprehensive search\n",
    "    include_answer=True,          # Include a summarized answer from Tavily\n",
    "    include_raw_content=True,     # Include the raw content of the search results\n",
    "    include_images=True,          # Include images from search results (though not directly used by agent instructions here)\n",
    ")\n",
    "\n",
    "# Wrap it for ADK compatibility\n",
    "# ADK agents can directly use tools wrapped by LangchainTool.\n",
    "adk_tavily_tool = LangchainTool(tool=tavily_tool_instance)"
   ]
  },
  {
   "cell_type": "code",
   "execution_count": 9,
   "id": "33d5a18e",
   "metadata": {},
   "outputs": [
    {
     "name": "stdout",
     "output_type": "stream",
     "text": [
      "`latest_events_agent` successfully defined with comprehensive instructions.\n"
     ]
    }
   ],
   "source": [
    "# Latest Events Agent: Definition\n",
    "# The instruction set is the core of the agent, guiding its behavior.\n",
    "# It should be specific, structured, and ensure safe operation.\n",
    "latest_events_agent = Agent(\n",
    "    name=\"latest_events_agent\",\n",
    "    model=MODEL_GEMINI_2_0_FLASH,\n",
    "    description=\"An agent that uses the Tavily search tool to find and summarize the latest events, festivals, and activities for a given destination, providing up-to-date and user-friendly travel information.\",\n",
    "    instruction=\"\"\"\n",
    "        You are a highly helpful and detailed travel assistant specialized in finding events.\n",
    "        Your primary goal is to provide accurate, comprehensive, and well-organized information about events.\n",
    "\n",
    "        When a user asks about current or upcoming events, festivals, or activities at a destination, follow these steps strictly:\n",
    "        1.  **Identify Key Information:** Extract the desired event type (e.g., food festivals, music concerts, art exhibitions, sports events, cultural celebrations), destination, and timeframe (e.g., \"next month\", \"August 2025\", \"next week\", \"soon\").\n",
    "            *   **Timeframe Resolution:** If the timeframe is relative (e.g., \"next month\", \"next week\"), resolve it to specific calendar dates or a specific month/year *before* formulating the search query (e.g., if today is June 15, 2024, \"next month\" becomes \"July 2024\").\n",
    "        2.  **Use Tavily Search:** Utilize the `tavily_search_results` tool to find the most recent and relevant information. Formulate precise search queries for Tavily using the resolved timeframe. For example, \"food festivals London July 2024\", \"music concerts Berlin August 2025\".\n",
    "        3.  **Prioritize Official Sources:** Always aim to extract information from official event websites, reputable ticketing platforms, or well-known event listing sites.\n",
    "        4.  **Filter Results by Location (CRUCIAL):** After performing the search, rigorously filter the results to ensure that all events listed are *strictly* located within the specified destination. **Do not include events from nearby cities, states, or countries if the user asked for a specific city.** For example, if the user asks for \"San Francisco\", do not include events from Oakland or Toronto.\n",
    "        5.  **Summarize and Structure - IMPORTANT: FOLLOW THIS CLEANER FORMAT PRECISELY:**\n",
    "            *   Start with a clear, friendly introduction.\n",
    "            *   Present each event as a main item in a **Markdown unordered list (using asterisks `*`)**.\\\n",
    "            *   Each event entry MUST follow this exact Markdown structure for clarity and spacing:\n",
    "                ```\n",
    "                *   **[Event Name]**\n",
    "                    *   Description: [Brief Description].\n",
    "                    *   Dates: [Start Date] - [End Date or Single Date].\n",
    "                    *   Location: [Venue/Area], [City].\n",
    "                    *   [More Info](URL) (Optional: only include if a verified, direct URL for the event or its official listing is found)\n",
    "                ```\n",
    "            *   Ensure only the \"Event Name\" is bolded as a main heading for each event.\n",
    "            *   If dates are a range, use \"Start Date - End Date\". If single day, use \"Single Date\".\n",
    "            *   Organize the events **chronologically by start date** if multiple events are found.\n",
    "\n",
    "            **Example Event Formatting (pay close attention to line breaks and reduced bolding):**\n",
    "            ```\n",
    "            *   **Taste of London**\n",
    "                *   Description: A renowned food festival featuring top restaurants and culinary experiences.\n",
    "                *   Dates: June 18 - June 22, 2025.\n",
    "                *   Location: Regent's Park, London.\n",
    "                *   [More Info](https://www.tasteoflondon.co.uk/)\n",
    "\n",
    "            *   **Berlin Lollapalooza**\n",
    "                *   Description: A major music festival with diverse artists and stages.\n",
    "                *   Dates: August 9 - August 10, 2025.\n",
    "                *   Location: Olympiapark and Olympiastadion, Berlin.\n",
    "                *   [More Info](https://www.lollapaloozade.com/)\n",
    "            ```\n",
    "        6.  **Handle Missing Information:**\n",
    "            *   If the timeframe is vague (e.g., \"soon\", \"what's happening?\"), default to searching for events in the *upcoming 1-2 months* from the current date. **Crucially, only include events that fall within this specified timeframe.** If you find too many, suggest a more specific timeframe.\n",
    "            *   If no specific event type is requested, search for a broad range of popular events (e.g., \"major events [city] [month]\").\n",
    "        7.  **No Results Found:** If, after searching, no relevant events are found after filtering by location and date, politely state that no events matching the criteria could be found and offer to search for different dates or event types.\n",
    "        8.  **Maintain Tone:** Be concise, friendly, helpful, and EXACT.\n",
    "        9.  **Safety and Redirection:** If the user asks about general travel advice or information not related to current events, politely redirect them to other resources. Never expose API keys or sensitive data in your responses.\n",
    "\"\"\",\n",
    "    tools=[adk_tavily_tool], # Assign the Tavily tool to this agent.\n",
    ")\n",
    "\n",
    "print(\"`latest_events_agent` successfully defined with comprehensive instructions.\")"
   ]
  },
  {
   "cell_type": "code",
   "execution_count": 10,
   "id": "89cfcdcb",
   "metadata": {},
   "outputs": [
    {
     "name": "stdout",
     "output_type": "stream",
     "text": [
      "Modular function `run_adk_agent_interaction` successfully defined.\n"
     ]
    }
   ],
   "source": [
    "# Modular Function for Agent Interaction\n",
    "# This asynchronous function encapsulates the common logic for running an ADK agent interaction,\n",
    "# making the main execution flow cleaner and more reusable.\n",
    "async def run_adk_agent_interaction(\n",
    "    agent: Agent,\n",
    "    user_id: str,\n",
    "    session_id: str,\n",
    "    input_text: str,\n",
    "    app_name: str = \"default_app\",\n",
    "    session_service: InMemorySessionService = None,\n",
    ") -> str:\n",
    "    \"\"\"\n",
    "    Runs a single interaction with an ADK agent and returns its final text response.\n",
    "\n",
    "    Args:\n",
    "        agent: The ADK Agent instance to interact with.\n",
    "        user_id: A unique identifier for the user initiating the interaction.\n",
    "        session_id: A unique identifier for the conversation session.\n",
    "                    Using a new ID for each distinct example ensures isolation.\n",
    "        input_text: The textual message from the user.\n",
    "        app_name: The name of the application using the agent. Defaults to \"default_app\".\n",
    "        session_service: An optional InMemorySessionService instance. If None, a new\n",
    "                         instance is created, making each call self-contained.\n",
    "\n",
    "    Returns:\n",
    "        The final text response from the agent as a string. Returns\n",
    "        \"No final response from agent.\" if no final response event is found.\n",
    "    \"\"\"\n",
    "    # Use the provided session service if available, otherwise create a new one.\n",
    "    # This flexibility allows for both isolated examples and continuous conversations.\n",
    "    if session_service is None:\n",
    "        session_service = InMemorySessionService()\n",
    "\n",
    "    # Create a new session. In a multi-turn conversation, you would reuse\n",
    "    # the same session_id across turns to maintain context.\n",
    "    # For these distinct examples, we'll use unique session_ids.\n",
    "    await session_service.create_session(app_name=app_name, user_id=user_id, session_id=session_id)\n",
    "\n",
    "    # Format the user's input into a Content object, which is how messages\n",
    "    # are structured for the agent.\n",
    "    content = types.Content(role=\"user\", parts=[types.Part(text=input_text)])\n",
    "\n",
    "    # Initialize the Runner: This is the engine that connects the user's message\n",
    "    # to the agent and manages the session state.\n",
    "    runner = Runner(agent=agent, app_name=app_name, session_service=session_service)\n",
    "\n",
    "    # Run the agent: This sends the user's message to the agent for processing.\n",
    "    # The 'runner.run()' method returns an iterable of events that describe\n",
    "    # the agent's actions and responses.\n",
    "    events = runner.run(user_id=user_id, session_id=session_id, new_message=content)\n",
    "\n",
    "    # Process the events to find and extract the final response from the agent.\n",
    "    for event in events:\n",
    "        if event.is_final_response():\n",
    "            # Concatenate all parts in the final response\n",
    "            response = ''.join(part.text for part in event.content.parts if part.text)\n",
    "            return response\n",
    "    return \"No final response from agent.\"\n",
    "\n",
    "print(\"Modular function `run_adk_agent_interaction` successfully defined.\")"
   ]
  },
  {
   "cell_type": "code",
   "execution_count": 11,
   "id": "0cbf1ed6",
   "metadata": {},
   "outputs": [
    {
     "name": "stdout",
     "output_type": "stream",
     "text": [
      "------ [starting agent interactions] ------\n",
      "\n",
      "\n",
      "--- Testing >> Normal Case: Food festivals in Toronto next month ---\n"
     ]
    },
    {
     "data": {
      "text/markdown": [
       "**User Input:** 'What food festivals are happening in Toronto next month?'"
      ],
      "text/plain": [
       "<IPython.core.display.Markdown object>"
      ]
     },
     "metadata": {},
     "output_type": "display_data"
    },
    {
     "name": "stderr",
     "output_type": "stream",
     "text": [
      "Warning: there are non-text parts in the response: ['function_call'], returning concatenated text result from text parts. Check the full candidates.content.parts accessor to get the full model response.\n"
     ]
    },
    {
     "data": {
      "text/markdown": [
       "**Agent Response:**\n",
       "\n",
       "Here are some food festivals happening in Toronto in July 2024:\n",
       "\n",
       "*   **International Food + Drink Festival**\n",
       "    *   Description: A food festival with a variety of international cuisines.\n",
       "    *   Dates: July 12 - July 14, 2024.\n",
       "    *   Location: Mel Lastman Square, Toronto.\n",
       "    *   [More Info](https://curiocity.com/pop-up-food-festivals-toronto-2024/)\n",
       "\n",
       "*   **Festival of India**\n",
       "    *   Description: A celebration of Indian culture with vegetarian cuisine.\n",
       "    *   Dates: July 13 - July 14, 2024.\n",
       "    *   Location: Centre Island, Toronto.\n",
       "    *   [More Info](https://theexploringfamily.com/locals-lounge/delicious-food-festivals-near-toronto/)\n",
       "\n",
       "*   **Foodville Afro-Caribbean Food Festival**\n",
       "    *   Description: A festival celebrating Afro-Caribbean cuisine.\n",
       "    *   Dates: July 20, 2024.\n",
       "    *   Location: Stackt Market, Toronto.\n"
      ],
      "text/plain": [
       "<IPython.core.display.Markdown object>"
      ]
     },
     "metadata": {},
     "output_type": "display_data"
    },
    {
     "name": "stdout",
     "output_type": "stream",
     "text": [
      "\n",
      "--- Testing Complete >> Normal Case: Food festivals in Toronto next month ---\n",
      "\n",
      "--- Testing >> Specific Case: Major art exhibitions in Milan this summer ---\n"
     ]
    },
    {
     "data": {
      "text/markdown": [
       "**User Input:** 'List major art exhibitions in Milan this summer.'"
      ],
      "text/plain": [
       "<IPython.core.display.Markdown object>"
      ]
     },
     "metadata": {},
     "output_type": "display_data"
    },
    {
     "data": {
      "text/markdown": [
       "**Agent Response:**\n",
       "\n",
       "Sure! I can help you with that. To provide you with the most accurate information, could you please specify which months you consider to be \"this summer\" (e.g., June-August 2024)?"
      ],
      "text/plain": [
       "<IPython.core.display.Markdown object>"
      ]
     },
     "metadata": {},
     "output_type": "display_data"
    },
    {
     "name": "stdout",
     "output_type": "stream",
     "text": [
      "\n",
      "--- Testing Complete >> Specific Case: Major art exhibitions in Milan this summer ---\n",
      "\n",
      "--- Testing >> Future Date Request: Tech conferences in San Francisco in 2025 ---\n"
     ]
    },
    {
     "data": {
      "text/markdown": [
       "**User Input:** 'Are there any tech conferences in San Francisco in 2025?'"
      ],
      "text/plain": [
       "<IPython.core.display.Markdown object>"
      ]
     },
     "metadata": {},
     "output_type": "display_data"
    },
    {
     "name": "stderr",
     "output_type": "stream",
     "text": [
      "Warning: there are non-text parts in the response: ['function_call'], returning concatenated text result from text parts. Check the full candidates.content.parts accessor to get the full model response.\n"
     ]
    },
    {
     "data": {
      "text/markdown": [
       "**Agent Response:**\n",
       "\n",
       "Okay! Here are a few tech conferences scheduled for 2025 in San Francisco. Please note that event details, especially dates and registration information, can change, so it's always a good idea to check the official event websites for the most up-to-date information.\n",
       "\n",
       "*   **Game Developers Conference (GDC)**\n",
       "    *   Description: A week-long conference for professionals in the game development industry.\n",
       "    *   Dates: March 17 - March 21, 2025.\n",
       "    *   Location: Moscone Center, San Francisco, CA.\n",
       "    *   [More Info](https://gdc.informatech.com/2025/registrations/Attendee)\n",
       "\n",
       "*   **San Francisco CIO Executive Summit**\n",
       "    *   Description: A summit for CIOs and technology leaders focusing on challenges like digital transformation and cybersecurity.\n",
       "    *   Dates: June 24, 2025.\n",
       "    *   Location: Grand Hyatt San Francisco, San Francisco, CA.\n",
       "    *   [More Info](https://www.evanta.com/cio/san-francisco/san-francisco-cio-executive-summit-7491#apply-now)\n",
       "\n",
       "*   **TECHSPO San Francisco**\n",
       "    *   Description: A technology expo for developers, marketers, tech providers, and designers.\n",
       "    *   Dates: July 21 - July 22, 2025.\n",
       "    *   Location: Grand Hyatt San Francisco, San Francisco, CA.\n",
       "    *   [More Info](https://techsposanfrancisco.com/register/)\n",
       "\n",
       "*   **Dreamforce**\n",
       "    *   Description: A large annual technology conference focused on AI and cloud computing.\n",
       "    *   Dates: October 14 - October 16, 2025.\n",
       "    *   Location: Multiple locations around Moscone West, San Francisco, CA.\n",
       "    *   [More Info](https://www.salesforce.com/dreamforce/)\n",
       "\n",
       "*   **TechCrunch Disrupt**\n",
       "    *   Description: A conference for entrepreneurs and startups.\n",
       "    *   Dates: October 27 - October 29, 2025.\n",
       "    *   Location: Moscone West Center, San Francisco, CA.\n",
       "    *   [More Info](https://hubs.li/Q02_2Ch_0)\n",
       "\n",
       "*   **QCon San Francisco**\n",
       "    *   Description: A conference featuring technical talks and workshops for senior software leaders.\n",
       "    *   Dates: November 17 - November 21, 2025.\n",
       "    *   Location: Hyatt Regency San Francisco, San Francisco, CA.\n",
       "\n",
       "I hope this helps!\n"
      ],
      "text/plain": [
       "<IPython.core.display.Markdown object>"
      ]
     },
     "metadata": {},
     "output_type": "display_data"
    },
    {
     "name": "stdout",
     "output_type": "stream",
     "text": [
      "\n",
      "--- Testing Complete >> Future Date Request: Tech conferences in San Francisco in 2025 ---\n",
      "\n",
      "--- Testing >> Vague Timeframe: General events in Seoul soon ---\n"
     ]
    },
    {
     "data": {
      "text/markdown": [
       "**User Input:** 'What's happening in Seoul soon?'"
      ],
      "text/plain": [
       "<IPython.core.display.Markdown object>"
      ]
     },
     "metadata": {},
     "output_type": "display_data"
    },
    {
     "name": "stderr",
     "output_type": "stream",
     "text": [
      "Warning: there are non-text parts in the response: ['function_call'], returning concatenated text result from text parts. Check the full candidates.content.parts accessor to get the full model response.\n"
     ]
    },
    {
     "data": {
      "text/markdown": [
       "**Agent Response:**\n",
       "\n",
       "Okay! Here are some events happening in Seoul in the upcoming months:\n",
       "\n",
       "*   **Luca Stricagnoli in Seongdong-gu**\n",
       "    *   Description: Italian acoustic guitarist.\n",
       "    *   Dates: July 4, 2025.\n",
       "    *   Location: Seongsu Art Hall, Seoul.\n",
       "    *   [More Info](https://allevents.in/seoul/july)\n",
       "\n",
       "*   **Faye Webster Concert**\n",
       "    *   Description: Indie pop concert.\n",
       "    *   Dates: July 23, 2025.\n",
       "    *   Location: MUV Hall, Seoul.\n",
       "    *   [More Info](https://www.eventworld.co/seoul/)\n",
       "\n",
       "*   **Slow JAM**\n",
       "    *   Description: An evening of music.\n",
       "    *   Dates: July 25, 2025.\n",
       "    *   Location: 방배동 빅애플, Seoul.\n",
       "    *   [More Info](https://allevents.in/seoul/july)\n",
       "\n",
       "*   **Sejong Summer Festival**\n",
       "    *   Description: Music and performing arts festival.\n",
       "    *   Dates: August 28 - August 30, 2025.\n",
       "    *   Location: Sejong Center, Seoul.\n",
       "    *   [More Info](https://www.hapskorea.com/2025-festival-schedule-across-all-seasons-in-seoul/)\n",
       "\n",
       "*   **Hong Nan-pa Sunset Concert**\n",
       "    *   Description: Concert at Hong Nan-pa House.\n",
       "    *   Dates: August 30, 2025.\n",
       "    *   Location: Hong Nan-pa House, Seoul.\n",
       "    *   [More Info](https://www.hapskorea.com/seoul-events/)\n"
      ],
      "text/plain": [
       "<IPython.core.display.Markdown object>"
      ]
     },
     "metadata": {},
     "output_type": "display_data"
    },
    {
     "name": "stdout",
     "output_type": "stream",
     "text": [
      "\n",
      "--- Testing Complete >> Vague Timeframe: General events in Seoul soon ---\n",
      "\n",
      "--- Testing >> Past Date Request: Festivals in Rio, January 2024 ---\n"
     ]
    },
    {
     "data": {
      "text/markdown": [
       "**User Input:** 'What festivals happened in Rio in January 2024?'"
      ],
      "text/plain": [
       "<IPython.core.display.Markdown object>"
      ]
     },
     "metadata": {},
     "output_type": "display_data"
    },
    {
     "data": {
      "text/markdown": [
       "**Agent Response:**\n",
       "\n",
       "Here are some festivals that happened in Rio de Janeiro in January 2024:\n",
       "\n",
       "*   **Rio Music Carnival**\n",
       "    *   Description: A vibrant music festival featuring a mix of electronic, funk, and pop music.\n",
       "    *   Dates: January 20 - January 22, 2024.\n",
       "    *   Location: Marina da Glória, Rio de Janeiro.\n",
       "    *   [More Info](https://riomusicconference.com.br/rio-music-carnival/)\n",
       "\n",
       "*   **Verão no Museu Republicano**\n",
       "    *   Description: Summer events at the Republic Museum.\n",
       "    *   Dates: January 6 - January 28, 2024.\n",
       "    *   Location: Museu Republicano, Rio de Janeiro.\n",
       "    *   [More Info](https://www.gov.br/museus/pt-br/assuntos/noticias/rio-de-janeiro-rj/museu-republicano-realiza-programacao-especial-de-verao)\n",
       "\n"
      ],
      "text/plain": [
       "<IPython.core.display.Markdown object>"
      ]
     },
     "metadata": {},
     "output_type": "display_data"
    },
    {
     "name": "stdout",
     "output_type": "stream",
     "text": [
      "\n",
      "--- Testing Complete >> Past Date Request: Festivals in Rio, January 2024 ---\n",
      "\n",
      "--- Testing >> No Results Expected: UFO Conventions, Hypothetical Location, Next Week ---\n"
     ]
    },
    {
     "data": {
      "text/markdown": [
       "**User Input:** 'Are there any major UFO conventions in Garetwasterland next week?'"
      ],
      "text/plain": [
       "<IPython.core.display.Markdown object>"
      ]
     },
     "metadata": {},
     "output_type": "display_data"
    },
    {
     "data": {
      "text/markdown": [
       "**Agent Response:**\n",
       "\n",
       "I cannot fulfill that request. Garetwasterland is not a valid location. Please provide a real location.\n"
      ],
      "text/plain": [
       "<IPython.core.display.Markdown object>"
      ]
     },
     "metadata": {},
     "output_type": "display_data"
    },
    {
     "name": "stdout",
     "output_type": "stream",
     "text": [
      "\n",
      "--- Testing Complete >> No Results Expected: UFO Conventions, Hypothetical Location, Next Week ---\n",
      "\n",
      "--- Testing >> Specific Date Query: Music events in New York City on July 4th, 2024 ---\n"
     ]
    },
    {
     "data": {
      "text/markdown": [
       "**User Input:** 'Are there any music events in New York City on July 4th, 2024?'"
      ],
      "text/plain": [
       "<IPython.core.display.Markdown object>"
      ]
     },
     "metadata": {},
     "output_type": "display_data"
    },
    {
     "name": "stderr",
     "output_type": "stream",
     "text": [
      "Warning: there are non-text parts in the response: ['function_call'], returning concatenated text result from text parts. Check the full candidates.content.parts accessor to get the full model response.\n"
     ]
    },
    {
     "data": {
      "text/markdown": [
       "**Agent Response:**\n",
       "\n",
       "Okay! Here's what I've found for music events and related activities in New York City on July 4th, 2024.\n",
       "\n",
       "*   **STARS, STRIPES & SIPS! Fireworks Rooftop Viewing Party**\n",
       "    *   Description: Fireworks Rooftop Viewing Party.\n",
       "    *   Dates: July 4, 2024.\n",
       "    *   Location: City Winery, New York City.\n",
       "    *   [More Info](https://donyc.com/events/2024/07/4)\n",
       "\n",
       "Please note that while the search results mention the Governors Ball Music Festival, it's a multi-day event and the information doesn't specify whether it will be held on July 4th.\n"
      ],
      "text/plain": [
       "<IPython.core.display.Markdown object>"
      ]
     },
     "metadata": {},
     "output_type": "display_data"
    },
    {
     "name": "stdout",
     "output_type": "stream",
     "text": [
      "\n",
      "--- Testing Complete >> Specific Date Query: Music events in New York City on July 4th, 2024 ---\n",
      "\n",
      "--- Testing >> Broad Event Type Query: Cultural events in Rome next year ---\n"
     ]
    },
    {
     "data": {
      "text/markdown": [
       "**User Input:** 'What cultural events are planned for Rome next year?'"
      ],
      "text/plain": [
       "<IPython.core.display.Markdown object>"
      ]
     },
     "metadata": {},
     "output_type": "display_data"
    },
    {
     "name": "stderr",
     "output_type": "stream",
     "text": [
      "Warning: there are non-text parts in the response: ['function_call'], returning concatenated text result from text parts. Check the full candidates.content.parts accessor to get the full model response.\n"
     ]
    },
    {
     "data": {
      "text/markdown": [
       "**Agent Response:**\n",
       "\n",
       "Here's a summary of cultural events planned for Rome in 2025:\n",
       "\n",
       "*   **World Press Photo Exhibition 2025**\n",
       "    *   Description: Hosting the winning photos and the photo of the year of the 68th edition of the prestigious photojournalism contest.\n",
       "    *   Dates: May 6, 2025 onwards.\n",
       "    *   Location: Palazzo Esposizioni, Rome.\n",
       "    *   [More Info](https://www.palazzoesposizioniroma.it/mostra/world-press-photo-exhibition-2025-eng)\n",
       "\n",
       "*   **Dawson/Lightfoot - León/Ekman**\n",
       "    *   Description: A triptych of contemporary dance to the notes of Haydn, Beethoven, Schubert, Mahler and Strauss with the orchestra, étoiles, prima ballet dancers, soloists and corps de ballet.\n",
       "    *   Dates: May 20 - May 25, 2025.\n",
       "    *   Location: Teatro dell’Opera di Roma, Rome.\n",
       "    *   [More Info](https://www.turismoroma.it/en/events/dawson-lightfoot-%E2%80%93-le%C3%B3n-ekman)\n",
       "\n",
       "*   **Jubilee 2025**\n",
       "    *   Description: A major Catholic event with events dedicated to various groups.\n",
       "    *   Dates: Throughout 2025 (various dates for specific Jubilee events).\n",
       "    *   Location: St. Peter’s Basilica and other locations in Rome.\n",
       "\n",
       "*   **Global Visual Poetry Exhibition**\n",
       "    *   Description: An exhibition with over 200 works by international artists linked to the current of visual poetry.\n",
       "    *   Dates: Until June 20, 2025.\n",
       "    *   Location: Dicastery for Culture and Education, Piazza Pio XII, Rome.\n",
       "    *   [More Info](https://www.dce.va/it/eventi/2025/global-visual-poetry-.html)\n",
       "\n",
       "*   **Exhibition: SAISEISAN: Japan and the Art of Reproduction**\n",
       "    *   Description: Art Exhibition.\n",
       "    *   Dates: During May 2025.\n",
       "    *   Location: Japanese Institute of Culture, Rome.\n",
       "    *   [More Info](https://www.turismoroma.it/en/events/saiseisan-il-giappone-e-larte-della-riproduzione)\n",
       "\n",
       "*   **Exhibition: Richard Avedon - Italian Days**\n",
       "    *   Description: Art Exhibition.\n",
       "    *   Dates: During May 2025.\n",
       "    *   Location: Gagosian Gallery, Rome.\n",
       "    *   [More Info](https://www.turismoroma.it/en/events/richard-avedon-italian-days)\n"
      ],
      "text/plain": [
       "<IPython.core.display.Markdown object>"
      ]
     },
     "metadata": {},
     "output_type": "display_data"
    },
    {
     "name": "stdout",
     "output_type": "stream",
     "text": [
      "\n",
      "--- Testing Complete >> Broad Event Type Query: Cultural events in Rome next year ---\n",
      "\n",
      "--- Testing >> Query for a less-known location/niche event ---\n"
     ]
    },
    {
     "data": {
      "text/markdown": [
       "**User Input:** 'Any major chess tournaments in Reykjavik next month?'"
      ],
      "text/plain": [
       "<IPython.core.display.Markdown object>"
      ]
     },
     "metadata": {},
     "output_type": "display_data"
    },
    {
     "name": "stderr",
     "output_type": "stream",
     "text": [
      "Warning: there are non-text parts in the response: ['function_call'], returning concatenated text result from text parts. Check the full candidates.content.parts accessor to get the full model response.\n"
     ]
    },
    {
     "data": {
      "text/markdown": [
       "**Agent Response:**\n",
       "\n",
       "Here are a few chess tournaments in Reykjavik next month:\n",
       "\n",
       "*   **International Chess Day Icelandic tournament 2024**\n",
       "    *   Description: FIDE Rated Tournament.\n",
       "    *   Dates: July 2024.\n",
       "    *   Location: Reykjavik.\n",
       "    *   [More Info](https://ratings.fide.com/rated_tournaments.phtml?country=ISL&period=2024-08-01)\n",
       "\n",
       "*   **Skakmot Laugardalslaugar 2024**\n",
       "    *   Description: FIDE Rated Tournament.\n",
       "    *   Dates: July 2024.\n",
       "    *   Location: Reykjavik.\n",
       "    *   [More Info](https://ratings.fide.com/rated_tournaments.phtml?country=ISL&period=2024-08-01)\n",
       "\n",
       "*   **Sumarsyrpa TR 2024 #2**\n",
       "    *   Description: FIDE Rated Tournament.\n",
       "    *   Dates: July 2024.\n",
       "    *   Location: Reykjavik.\n",
       "    *   [More Info](https://ratings.fide.com/rated_tournaments.phtml?country=ISL&period=2024-08-01)\n",
       "\n",
       "*   **Reykjavik Open 2024**\n",
       "    *   Description: Open Tournament\n",
       "    *   Dates: March 15 - July 21, 2024.\n",
       "    *   Location: Reykjavik.\n",
       "    *   [More Info](https://www.schachinter.net/chess_calendar_classic_top_calendar.htm)\n"
      ],
      "text/plain": [
       "<IPython.core.display.Markdown object>"
      ]
     },
     "metadata": {},
     "output_type": "display_data"
    },
    {
     "name": "stdout",
     "output_type": "stream",
     "text": [
      "\n",
      "--- Testing Complete >> Query for a less-known location/niche event ---\n",
      "\n",
      "--- Testing >> Unrelated Input: What is life? ---\n"
     ]
    },
    {
     "data": {
      "text/markdown": [
       "**User Input:** 'What is life?'"
      ],
      "text/plain": [
       "<IPython.core.display.Markdown object>"
      ]
     },
     "metadata": {},
     "output_type": "display_data"
    },
    {
     "data": {
      "text/markdown": [
       "**Agent Response:**\n",
       "\n",
       "I am designed to provide information about current events, festivals, and activities. For information about the meaning of life, you may want to consult a philosophical or spiritual resource.\n"
      ],
      "text/plain": [
       "<IPython.core.display.Markdown object>"
      ]
     },
     "metadata": {},
     "output_type": "display_data"
    },
    {
     "name": "stdout",
     "output_type": "stream",
     "text": [
      "\n",
      "--- Testing Complete >> Unrelated Input: What is life? ---\n",
      "\n",
      "--- Testing >> Invalid/Malicious Input: SQL Injection attempt ---\n"
     ]
    },
    {
     "data": {
      "text/markdown": [
       "**User Input:** 'DROP TABLE users; --'"
      ],
      "text/plain": [
       "<IPython.core.display.Markdown object>"
      ]
     },
     "metadata": {},
     "output_type": "display_data"
    },
    {
     "data": {
      "text/markdown": [
       "**Agent Response:**\n",
       "\n",
       "That is not a request I can handle. I am designed to find information about events, festivals, and activities. I cannot execute SQL commands or manage databases.\n"
      ],
      "text/plain": [
       "<IPython.core.display.Markdown object>"
      ]
     },
     "metadata": {},
     "output_type": "display_data"
    },
    {
     "name": "stdout",
     "output_type": "stream",
     "text": [
      "\n",
      "--- Testing Complete >> Invalid/Malicious Input: SQL Injection attempt ---\n",
      "\n",
      "------ [all agent interactions complete] ------\n"
     ]
    }
   ],
   "source": [
    "# Define common parameters for our agent interactions.\n",
    "APP_NAME = \"wanderwise_app\"\n",
    "USER_ID = \"user_001\"\n",
    "\n",
    "# Create a common session service instance to reuse across multiple interactions.\n",
    "# This helps if you want to test conversational continuity, though for distinct\n",
    "# test cases, a new session ID is generated each time.\n",
    "common_session_service = InMemorySessionService()\n",
    "\n",
    "# Define a dictionary of user inputs for various test cases.\n",
    "# Each entry includes a descriptive name and the user's query.\n",
    "EVENT_TEST_CASES = {\n",
    "    \"Normal Case: Food festivals in Toronto next month\":\n",
    "        \"What food festivals are happening in Toronto next month?\",\n",
    "\n",
    "    \"Specific Case: Major art exhibitions in Milan this summer\":\n",
    "        \"List major art exhibitions in Milan this summer.\",\n",
    "\n",
    "    \"Future Date Request: Tech conferences in San Francisco in 2025\":\n",
    "        \"Are there any tech conferences in San Francisco in 2025?\",\n",
    "\n",
    "    \"Vague Timeframe: General events in Seoul soon\":\n",
    "        \"What's happening in Seoul soon?\",\n",
    "\n",
    "    \"Past Date Request: Festivals in Rio, January 2024\":\n",
    "        \"What festivals happened in Rio in January 2024?\",\n",
    "\n",
    "    \"No Results Expected: UFO Conventions, Hypothetical Location, Next Week\":\n",
    "        \"Are there any major UFO conventions in Garetwasterland next week?\",\n",
    "\n",
    "    \"Specific Date Query: Music events in New York City on July 4th, 2024\":\n",
    "        \"Are there any music events in New York City on July 4th, 2024?\",\n",
    "\n",
    "    \"Broad Event Type Query: Cultural events in Rome next year\":\n",
    "        \"What cultural events are planned for Rome next year?\",\n",
    "\n",
    "    \"Query for a less-known location/niche event\":\n",
    "        \"Any major chess tournaments in Reykjavik next month?\",\n",
    "\n",
    "    \"Unrelated Input: What is life?\":\n",
    "        \"What is life?\",\n",
    "\n",
    "    \"Invalid/Malicious Input: SQL Injection attempt\":\n",
    "        \"DROP TABLE users; --\",\n",
    "}\n",
    "\n",
    "print(\"------ [starting agent interactions] ------\\n\")\n",
    "\n",
    "# Loop through each test case and run the agent.\n",
    "for case_name, user_input in EVENT_TEST_CASES.items():\n",
    "    # Create a unique session ID for each interaction to ensure isolated tests.\n",
    "    session_id = f\"{APP_NAME}_session_{case_name.replace(' ', '_').replace(',', '').replace(':', '').lower()}\"\n",
    "\n",
    "    print(f\"\\n--- Testing >> {case_name} ---\")\n",
    "    display(Markdown(f\"**User Input:** '{user_input}'\"))\n",
    "\n",
    "    # Invoke the latest_events_agent using the modular helper function.\n",
    "    agent_response = await run_adk_agent_interaction(\n",
    "        agent=latest_events_agent,\n",
    "        user_id=USER_ID,\n",
    "        session_id=session_id,\n",
    "        input_text=user_input,\n",
    "        app_name=APP_NAME,\n",
    "        session_service=common_session_service # Pass the common session service\n",
    "    )\n",
    "\n",
    "    # Display the agent's response.\n",
    "    display(Markdown(f\"**Agent Response:**\\n\\n{agent_response}\"))\n",
    "    print(f\"\\n--- Testing Complete >> {case_name} ---\")\n",
    "\n",
    "\n",
    "print(\"\\n------ [all agent interactions complete] ------\")"
   ]
  },
  {
   "cell_type": "code",
   "execution_count": null,
   "id": "0df2adaa",
   "metadata": {},
   "outputs": [],
   "source": [
    "# NOTE: Some incorrect or incomplete results observed in this notebook may be attributed to limitations of the **Tavily** system. \n",
    "# Please consider verifying critical outputs through alternative sources or methods if accuracy is essential."
   ]
  },
  {
   "cell_type": "code",
   "execution_count": 12,
   "id": "f5262ebf",
   "metadata": {},
   "outputs": [],
   "source": [
    "# Congratulations 🎉 \n",
    "# You've just built and run an agent that uses the Tavily third-party search tool via LangChain and ADK to fetch live event data for your itinerary.\n",
    "# This demonstrates the power of combining LLM reasoning with external tools to create\n",
    "# truly intelligent and practical applications.\n",
    "# Try modifying the prompt or agent instructions, and see how the results change!"
   ]
  }
 ],
 "metadata": {
  "kernelspec": {
   "display_name": "Python 3",
   "language": "python",
   "name": "python3"
  },
  "language_info": {
   "codemirror_mode": {
    "name": "ipython",
    "version": 3
   },
   "file_extension": ".py",
   "mimetype": "text/x-python",
   "name": "python",
   "nbconvert_exporter": "python",
   "pygments_lexer": "ipython3",
   "version": "3.12.1"
  }
 },
 "nbformat": 4,
 "nbformat_minor": 5
}
