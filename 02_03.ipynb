{
 "cells": [
  {
   "cell_type": "code",
   "execution_count": 1,
   "id": "682dfdc8",
   "metadata": {},
   "outputs": [],
   "source": [
    "# LLM Agents in Google ADK: Packing List & Itinerary Example\n",
    "# Welcome 👋🏻 In this notebook, you'll install Google’s Agent Development Kit (ADK), \n",
    "# configure your environment, define two LLM agents, and run your agent interactions—all in just a few steps.\n",
    "# You'll see how LLM Agents power real-world travel apps like WanderWise, using natural language understanding, \n",
    "# reasoning, and tool integration to deliver smart, actionable results."
   ]
  },
  {
   "cell_type": "code",
   "execution_count": 2,
   "id": "af4985c5",
   "metadata": {},
   "outputs": [
    {
     "name": "stdout",
     "output_type": "stream",
     "text": [
      "\n",
      "\u001b[1m[\u001b[0m\u001b[34;49mnotice\u001b[0m\u001b[1;39;49m]\u001b[0m\u001b[39;49m A new release of pip is available: \u001b[0m\u001b[31;49m25.0.1\u001b[0m\u001b[39;49m -> \u001b[0m\u001b[32;49m25.1.1\u001b[0m\n",
      "\u001b[1m[\u001b[0m\u001b[34;49mnotice\u001b[0m\u001b[1;39;49m]\u001b[0m\u001b[39;49m To update, run: \u001b[0m\u001b[32;49mpip install --upgrade pip\u001b[0m\n",
      "Note: you may need to restart the kernel to use updated packages.\n"
     ]
    }
   ],
   "source": [
    "# Install Google ADK for Python\n",
    "# This is the foundational package that provides all the necessary components for building and running your agents.\n",
    "# The --quiet flag suppresses verbose output during installation.\n",
    "%pip install google-adk --quiet"
   ]
  },
  {
   "cell_type": "code",
   "execution_count": 3,
   "id": "a883b510",
   "metadata": {},
   "outputs": [
    {
     "name": "stdout",
     "output_type": "stream",
     "text": [
      "Name: google-adk\n",
      "Version: 1.0.0\n",
      "Summary: Agent Development Kit\n",
      "Home-page: https://google.github.io/adk-docs/\n",
      "Author: \n",
      "Author-email: Google LLC <googleapis-packages@google.com>\n",
      "License: \n",
      "Location: /home/codespace/.python/current/lib/python3.12/site-packages\n",
      "Requires: authlib, click, fastapi, google-api-python-client, google-cloud-aiplatform, google-cloud-secret-manager, google-cloud-speech, google-cloud-storage, google-genai, graphviz, mcp, opentelemetry-api, opentelemetry-exporter-gcp-trace, opentelemetry-sdk, pydantic, python-dotenv, PyYAML, sqlalchemy, tzlocal, uvicorn\n",
      "Required-by: \n",
      "Note: you may need to restart the kernel to use updated packages.\n"
     ]
    }
   ],
   "source": [
    "# Verify ADK Installation (Optional but Recommended)\n",
    "%pip show google-adk"
   ]
  },
  {
   "cell_type": "code",
   "execution_count": 4,
   "id": "4e1a517e",
   "metadata": {},
   "outputs": [],
   "source": [
    "# Configure environment\n",
    "import os\n",
    "\n",
    "# Set GOOGLE_GENAI_USE_VERTEXAI to \"False\" to use the public Gemini API directly,\n",
    "# rather than routing through Google Cloud's Vertex AI. This simplifies setup for quick demos.\n",
    "os.environ[\"GOOGLE_GENAI_USE_VERTEXAI\"] = \"False\"\n",
    "\n",
    "# Define the specific Gemini model we'll use. \n",
    "# 'gemini-2.0-flash' is a fast and efficient model.\n",
    "MODEL_GEMINI_2_0_FLASH = \"gemini-2.0-flash\""
   ]
  },
  {
   "cell_type": "code",
   "execution_count": 5,
   "id": "1f669847",
   "metadata": {},
   "outputs": [],
   "source": [
    "# Import Necessary Modules\n",
    "\n",
    "# Agent: The fundamental class for creating an AI agent within ADK.\n",
    "from google.adk.agents import Agent\n",
    "\n",
    "# Runner: The orchestrator that manages the flow of messages and agent execution.\n",
    "from google.adk.runners import Runner\n",
    "\n",
    "# InMemorySessionService: A simple, in-memory service for managing conversation sessions. \n",
    "# Sessions are vital for maintaining context in multi-turn dialogues.\n",
    "from google.adk.sessions import InMemorySessionService\n",
    "\n",
    "# types from google.genai: Provides data structures (like Content and Part) to represent messages exchanged with the language model.\n",
    "from google.genai import types\n",
    "\n",
    "from IPython.display import Markdown, display"
   ]
  },
  {
   "cell_type": "code",
   "execution_count": 6,
   "id": "dad841d6",
   "metadata": {},
   "outputs": [
    {
     "name": "stdout",
     "output_type": "stream",
     "text": [
      "Modular function `run_adk_agent_interaction` successfully defined.\n"
     ]
    }
   ],
   "source": [
    "# Modular Function for Agent Interaction\n",
    "async def run_adk_agent_interaction(\n",
    "    agent: Agent,\n",
    "    user_id: str,\n",
    "    session_id: str,\n",
    "    input_text: str,\n",
    "    app_name: str = \"default_app\",\n",
    "    session_service: InMemorySessionService = None,\n",
    ") -> str:\n",
    "    \"\"\"\n",
    "    Runs a single interaction with an ADK agent and returns its final text response.\n",
    "\n",
    "    Args:\n",
    "        agent: The ADK Agent instance to interact with.\n",
    "        user_id: A unique identifier for the user initiating the interaction.\n",
    "        session_id: A unique identifier for the conversation session.\n",
    "                    Using a new ID for each distinct example ensures isolation.\n",
    "        input_text: The textual message from the user.\n",
    "        app_name: The name of the application using the agent. Defaults to \"default_app\".\n",
    "        session_service: An optional InMemorySessionService instance. If None, a new\n",
    "                         instance is created, making each call self-contained.\n",
    "\n",
    "    Returns:\n",
    "        The final text response from the agent as a string. Returns\n",
    "        \"No final response from agent.\" if no final response event is found.\n",
    "    \"\"\"\n",
    "    # Use the provided session service if available, otherwise create a new one.\n",
    "    # This flexibility allows for both isolated examples and continuous conversations.\n",
    "    if session_service is None:\n",
    "        session_service = InMemorySessionService()\n",
    "\n",
    "    # Create a new session. In a multi-turn conversation, you would reuse\n",
    "    # the same session_id across turns to maintain context. \n",
    "    # For these distinct examples, we'll use unique session_ids.\n",
    "    await session_service.create_session(app_name=app_name, user_id=user_id, session_id=session_id)\n",
    "\n",
    "    # Format the user's input into a Content object, which is how messages\n",
    "    # are structured for the agent.\n",
    "    content = types.Content(role=\"user\", parts=[types.Part(text=input_text)])\n",
    "\n",
    "    # Initialize the Runner: This is the engine that connects the user's message\n",
    "    # to the agent and manages the session state.\n",
    "    runner = Runner(agent=agent, app_name=app_name, session_service=session_service)\n",
    "\n",
    "    # Run the agent: This sends the user's message to the agent for processing.\n",
    "    # The 'runner.run()' method returns an iterable of events that describe\n",
    "    # the agent's actions and responses.\n",
    "    events = runner.run(user_id=user_id, session_id=session_id, new_message=content)\n",
    "\n",
    "    # Process the events to find and extract the final response from the agent.\n",
    "    for event in events:\n",
    "        if event.is_final_response():\n",
    "            # Concatenate all parts in the final response\n",
    "            response = ''.join(part.text for part in event.content.parts if part.text)\n",
    "            return response\n",
    "    return \"No final response from agent.\"\n",
    "\n",
    "print(\"Modular function `run_adk_agent_interaction` successfully defined.\")\n",
    "\n",
    "# # NOTE: More details about Runners, Sessions, and advanced event processing are coming up in later tutorials—stay tuned!"
   ]
  },
  {
   "cell_type": "code",
   "execution_count": 7,
   "id": "1a1033d7",
   "metadata": {},
   "outputs": [
    {
     "name": "stdout",
     "output_type": "stream",
     "text": [
      "`packing_list_agent` successfully defined.\n"
     ]
    }
   ],
   "source": [
    "# Define the Packing List Agent\n",
    "# Our first agent, the packing_list_agent, is designed to generate a comprehensive packing list based on a user's travel details. \n",
    "# The key here is its instruction set, which guides the agent to ask clarifying questions and organize its output in a clear, categorized Markdown format.\n",
    "# name: A unique identifier for the agent.\n",
    "# model: The specific Gemini model (gemini-2.0-flash) powering the agent's reasoning.\n",
    "# description: A brief summary of the agent's function.\n",
    "# instruction: The detailed prompt that defines the agent's behavior, including what information to seek and how to format the output.\n",
    "packing_list_agent = Agent(\n",
    "    name=\"packing_list_agent\",\n",
    "    model=MODEL_GEMINI_2_0_FLASH,\n",
    "    description=\"An agent that generates a packing list for a trip given a destination, duration, and user preferences.\",\n",
    "    instruction=\"\"\"\n",
    "        You are a helpful travel assistant.\n",
    "        When the user provides a destination and trip duration, generate a detailed packing list tailored for that location and timeframe.\n",
    "        Ask about planned activities and any special preferences or needs (such as business, hiking, or traveling with children).\n",
    "        If the user wishes, you may ask about personal preferences (such as specific clothing or toiletries), but do not assume based on gender.\n",
    "        Make sure your suggestions are practical and organized by category (clothing, toiletries, electronics, documents, etc.).\n",
    "        If the user provides additional details, refine the list accordingly.\n",
    "        Present the packing list in a clear and easy-to-read markdown format.\n",
    "    \"\"\",\n",
    ")\n",
    "# NOTE: In future lessons, you will integrate external tools (e.g., weather APIs) for even more personalized lists.\n",
    "print(\"`packing_list_agent` successfully defined.\")"
   ]
  },
  {
   "cell_type": "code",
   "execution_count": 8,
   "id": "8b8531d0",
   "metadata": {},
   "outputs": [
    {
     "name": "stdout",
     "output_type": "stream",
     "text": [
      "--- Running Packing List Agent ---\n"
     ]
    },
    {
     "data": {
      "text/markdown": [
       "Okay, I can help with that! Here is a packing list tailored for a 5-day trip to Banff in July, including easy hiking and city sightseeing:\n",
       "\n",
       "**Clothing:**\n",
       "\n",
       "*   T-shirts (5): Lightweight, moisture-wicking fabrics are ideal.\n",
       "*   Long-sleeved shirt (2): For layering or sun protection.\n",
       "*   Hiking pants or leggings (1-2): Quick-drying and comfortable for hiking.\n",
       "*   Casual pants or jeans (1): For evenings or city exploration.\n",
       "*   Shorts (1-2): For warmer days.\n",
       "*   Light fleece or jacket (1): Evenings can get cool.\n",
       "*   Waterproof jacket (1): Essential for unpredictable mountain weather.\n",
       "*   Underwear (5-7 pairs)\n",
       "*   Socks (5-7 pairs): Include hiking socks if you have them.\n",
       "*   Pajamas or sleepwear\n",
       "*   Comfortable walking shoes (1 pair): For sightseeing.\n",
       "*   Hiking shoes or boots (1 pair): Broken-in and suitable for trails.\n",
       "*   Sandals or flip-flops (1 pair): For relaxing.\n",
       "*   Swimsuit (1): If you plan to visit any hot springs or pools.\n",
       "*   Hat (1): For sun protection.\n",
       "*   Sunglasses (1)\n",
       "\n",
       "**Toiletries:**\n",
       "\n",
       "*   Shampoo, conditioner, and body wash\n",
       "*   Toothbrush, toothpaste, and floss\n",
       "*   Sunscreen: High SPF is recommended.\n",
       "*   Insect repellent: Especially important for hiking.\n",
       "*   Moisturizer\n",
       "*   Lip balm with SPF\n",
       "*   Makeup (if desired)\n",
       "*   Deodorant\n",
       "*   Any personal hygiene items\n",
       "\n",
       "**Electronics:**\n",
       "\n",
       "*   Phone and charger\n",
       "*   Camera and charger\n",
       "*   Portable power bank: Useful for hiking.\n",
       "*   Adapter: If needed\n",
       "\n",
       "**Documents:**\n",
       "\n",
       "*   Driver's license or ID\n",
       "*   Credit cards and cash\n",
       "*   Reservation confirmations\n",
       "*   Travel insurance information (if applicable)\n",
       "\n",
       "**Miscellaneous:**\n",
       "\n",
       "*   Small backpack: For day hikes and city exploring.\n",
       "*   Water bottle: Reusable to stay hydrated.\n",
       "*   Snacks: Trail mix, energy bars, etc.\n",
       "*   First-aid kit: Band-aids, pain relievers, antiseptic wipes.\n",
       "*   Binoculars: For wildlife viewing.\n",
       "*   Book or entertainment for downtime\n",
       "\n",
       "**Optional Items:**\n",
       "\n",
       "*   Trekking poles: For added stability on hikes.\n",
       "*   Headlamp or flashlight: In case you are out late.\n",
       "*   Small notebook and pen\n",
       "*   Reusable shopping bag\n",
       "*   Travel pillow\n",
       "\n",
       "I hope this helps you prepare for your trip! Let me know if you have any other questions.\n"
      ],
      "text/plain": [
       "<IPython.core.display.Markdown object>"
      ]
     },
     "metadata": {},
     "output_type": "display_data"
    },
    {
     "name": "stdout",
     "output_type": "stream",
     "text": [
      "--- Packing List Agent Interaction Complete ---\n"
     ]
    }
   ],
   "source": [
    "#  Define common parameters for our interactions\n",
    "APP_NAME = \"wanderwise_app\"\n",
    "USER_ID = \"user_001\"\n",
    "\n",
    "# Create a common session service instance to reuse.\n",
    "common_session_service = InMemorySessionService()\n",
    "\n",
    "# Define the user's input for the packing list agent.\n",
    "PACKING_LIST_USER_INPUT = \"I’m a 21 yo female traveling to Banff for 5 days in July. I plan to do some easy hiking and some city sightseeing.\"\n",
    "PACKING_LIST_SESSION_ID = f\"{APP_NAME}_packing_list_session_001\" # Unique session ID for this interaction\n",
    "\n",
    "print(\"--- Running Packing List Agent ---\")\n",
    "\n",
    "# Invoke the packing list agent using our modular helper function.\n",
    "packing_list_response = await run_adk_agent_interaction(\n",
    "    agent=packing_list_agent,\n",
    "    user_id=USER_ID,\n",
    "    session_id=PACKING_LIST_SESSION_ID,\n",
    "    input_text=PACKING_LIST_USER_INPUT,\n",
    "    app_name=APP_NAME,\n",
    "    session_service=common_session_service\n",
    ")\n",
    "\n",
    "# Display the agent's response, rendering the Markdown for a nicely formatted list.\n",
    "display(Markdown(f\"{packing_list_response}\"))\n",
    "\n",
    "print(\"--- Packing List Agent Interaction Complete ---\")"
   ]
  },
  {
   "cell_type": "code",
   "execution_count": 9,
   "id": "dc675b8e",
   "metadata": {},
   "outputs": [],
   "source": [
    "# Congratulations 🎉  You’ve just defined and successfully run your first LLM agent for a real-world task: generating a personalized packing list. \n",
    "# This demonstrates how easily you can instruct an LLM to perform structured tasks and manage user interactions within the ADK framework."
   ]
  },
  {
   "cell_type": "code",
   "execution_count": 10,
   "id": "e4b62e64",
   "metadata": {},
   "outputs": [],
   "source": [
    "# Itinerary Agent with Google Search Tool\n",
    "# Now, let's go a step further: create an Itinerary Agent that uses the google_search tool! \n",
    "# This agent will be capable of generating a personalized itinerary for your trip, \n",
    "# leveraging live search results to find up-to-date recommendations for attractions, restaurants, and activities."
   ]
  },
  {
   "cell_type": "code",
   "execution_count": 11,
   "id": "0f3d810c",
   "metadata": {},
   "outputs": [
    {
     "name": "stdout",
     "output_type": "stream",
     "text": [
      "`google_search` tool imported.\n"
     ]
    }
   ],
   "source": [
    "# Import the Google Search tool from ADK.\n",
    "# This tool provides the agent with the ability to perform web searches.\n",
    "from google.adk.tools import google_search\n",
    "\n",
    "print(\"`google_search` tool imported.\")"
   ]
  },
  {
   "cell_type": "code",
   "execution_count": 12,
   "id": "4124fac3",
   "metadata": {},
   "outputs": [
    {
     "name": "stdout",
     "output_type": "stream",
     "text": [
      "`itinerary_agent` successfully defined with `google_search` tool.\n"
     ]
    }
   ],
   "source": [
    "# Define the Itinerary Agent\n",
    "# The agent's instruction should explicitly guide it on when and how to use these tools. \n",
    "# Notice the instruction use the [google_search] tool. \n",
    "# This syntax helps the LLM understand that it has access to a tool named google_search and encourages it to use it appropriately.\n",
    "itinerary_agent = Agent(\n",
    "    name=\"itinerary_agent\",\n",
    "    model=MODEL_GEMINI_2_0_FLASH,\n",
    "    description=\"An agent that creates a travel itinerary for a given destination and trip duration, using Google Search for up-to-date recommendations.\",\n",
    "    instruction=\"\"\"\n",
    "        You are a helpful and creative travel itinerary planner.\n",
    "        When the user provides a destination and trip duration, use the [google_search] tool to find current and popular attractions, restaurants, and activities for each day.\n",
    "        For each day, create a detailed schedule with 2-4 activities, including at least one meal suggestion and one local attraction, prioritizing the user's interests (such as art and food).\n",
    "        Present the itinerary in a clear, easy-to-read markdown format, organized by day.\n",
    "\n",
    "        Example format:\n",
    "\n",
    "        ### Day 1\n",
    "        - Morning: [Attraction or activity]\n",
    "        - Lunch: [Restaurant or food experience]\n",
    "        - Afternoon: [Attraction or activity]\n",
    "        - Evening: [Dinner suggestion or event]\n",
    "\n",
    "        ### Day 2\n",
    "        ...\n",
    "\n",
    "        Always use the [google_search] tool to find the latest recommendations for each activity or restaurant.\n",
    "        When providing recommendations, if a direct and relevant official website or information page URL is prominently found in the search results for a specific item, include it as a Markdown hyperlink like [Item Name](URL).\n",
    "        Be concise, friendly, and ensure the itinerary is complete for all days requested.\n",
    "    \"\"\",\n",
    "    tools=[google_search], # This is the crucial part: assigning the tool to the agent!\n",
    ")\n",
    "\n",
    "print(\"`itinerary_agent` successfully defined with `google_search` tool.\")"
   ]
  },
  {
   "cell_type": "code",
   "execution_count": 13,
   "id": "f06d4669",
   "metadata": {},
   "outputs": [
    {
     "name": "stdout",
     "output_type": "stream",
     "text": [
      "--- Running Itinerary Agent with Google Search ---\n"
     ]
    },
    {
     "data": {
      "text/markdown": [
       "Okay, I can help you plan your 3-day trip to Barcelona, focusing on art, food, and dance. Here is a possible itinerary:\n",
       "\n",
       "Here's a possible itinerary for your 3-day trip to Barcelona:\n",
       "\n",
       "### Day 1: Art and Gothic Charm\n",
       "\n",
       "*   **Morning:** Visit the [Picasso Museum](https://www.museupicasso.bcn.cat/), which houses an extensive collection of Picasso's early works and provides insight into his connection with Barcelona.\n",
       "*   **Lunch:** Enjoy tapas at [Bodega Biarritz 1881](https://vertexaisearch.cloud.google.com/grounding-api-redirect/AbF9wXFO8R1GpDEVtQQfZU0Q7j2c7pOIlh3339210nabu43VH4-gWYOds6vGu1ib3nCpfon7ZWE3HO-sdfAQ4WhMujbmrR3bIo1SpmLE1RFqzZgsp-P45DjhOdLNjyfMe4eghyTfFLaPXiZIPjcJrlp7QTHYfsIqxShM8aA=), known for its authentic Catalan tapas in a rustic setting in the Ciutat Vella.\n",
       "*   **Afternoon:** Explore the Gothic Quarter, wandering through the narrow streets and visiting the Barcelona Cathedral.\n",
       "*   **Evening:** Experience a [Flamenco show](https://www.flamencotickets.com/barcelona/), such as at Tablao Cordobes or Los Tarantos, for a passionate display of dance and music.\n",
       "\n",
       "### Day 2: Modernisme and Culinary Delights\n",
       "\n",
       "*   **Morning:** Explore Park Güell, a whimsical park designed by Gaudí, featuring mosaic art and unique architectural elements.\n",
       "*   **Lunch:** Indulge in a delightful meal at [Lluritu](https://www.freetour.com/blog/barcelona-best-restaurants), known for its authentic warmth and \"savoir faire\" spirit.\n",
       "*   **Afternoon:** Visit the Sagrada Familia, Gaudí's iconic basilica, and marvel at its stunning architecture.\n",
       "*   **Evening:** Have dinner at [Batea](https://www.freetour.com/blog/barcelona-best-restaurants), a trendy seafood restaurant that embodies the essence of the Mediterranean lifestyle and tradition.\n",
       "\n",
       "### Day 3: Contemporary Art and Dance\n",
       "\n",
       "*   **Morning:** Visit the [Museu Nacional d'Art de Catalunya (MNAC)](https://www.museunacional.cat/en), which features a comprehensive collection of Catalan art, including Modernista works.\n",
       "*   **Lunch:** Enjoy the food at [Soma](https://www.freetour.com/blog/barcelona-best-restaurants), a relaxed choice with a warm vibe serving innovative Mediterranean food.\n",
       "*   **Afternoon:** Explore the [Moco Museum Barcelona](https://mocomuseum.com/barcelona/), which showcases modern and contemporary art from Warhol, Basquiat, Haring, and Murakami.\n",
       "*   **Evening:** Check out local dance events or classes; consider a [Salsa or Bachata class](https://www.eventbrite.com/d/spain--barcelona/dance-events/) for a fun and engaging experience.\n"
      ],
      "text/plain": [
       "<IPython.core.display.Markdown object>"
      ]
     },
     "metadata": {},
     "output_type": "display_data"
    },
    {
     "name": "stdout",
     "output_type": "stream",
     "text": [
      "--- Itinerary Agent Interaction Complete ---\n"
     ]
    }
   ],
   "source": [
    "# Run the Itinerary Agent\n",
    "ITINERARY_USER_INPUT = \"I'm visiting Barcelona for 3 days and I love art, food, and dance. Can you plan my trip?\"\n",
    "ITINERARY_SESSION_ID = f\"{APP_NAME}_itinerary_session_001\" # Unique session ID for this interaction\n",
    "\n",
    "print(\"--- Running Itinerary Agent with Google Search ---\")\n",
    "\n",
    "# Invoke the itinerary agent using our modular helper function.\n",
    "# This agent will internally decide to use the `google_search` tool based on its instructions.\n",
    "itinerary_response = await run_adk_agent_interaction(\n",
    "    agent=itinerary_agent,\n",
    "    user_id=USER_ID,\n",
    "    session_id=ITINERARY_SESSION_ID,\n",
    "    input_text=ITINERARY_USER_INPUT,\n",
    "    app_name=APP_NAME,\n",
    "    session_service=common_session_service\n",
    ")\n",
    "\n",
    "# Display the agent's response, rendering the Markdown.\n",
    "display(Markdown(f\"{itinerary_response}\"))\n",
    "\n",
    "print(\"--- Itinerary Agent Interaction Complete ---\")"
   ]
  },
  {
   "cell_type": "code",
   "execution_count": 14,
   "id": "c414ae74",
   "metadata": {},
   "outputs": [],
   "source": [
    "# Congratulations 🎉 You’ve now successfully built and run two different LLM agents in ADK:\n",
    "# A Packing List Agent for smart, personalized packing suggestions.\n",
    "# An Itinerary Agent that effectively uses a google_search tool to plan an amazing trip with live, up-to-date recommendations.\n",
    "# This demonstrates the power of ADK in combining LLM reasoning with external tools to create truly intelligent and practical applications. \n",
    "# This is the foundation for building even richer, multi-agent travel assistants and other sophisticated AI solutions with Google ADK."
   ]
  }
 ],
 "metadata": {
  "kernelspec": {
   "display_name": "Python 3",
   "language": "python",
   "name": "python3"
  },
  "language_info": {
   "codemirror_mode": {
    "name": "ipython",
    "version": 3
   },
   "file_extension": ".py",
   "mimetype": "text/x-python",
   "name": "python",
   "nbconvert_exporter": "python",
   "pygments_lexer": "ipython3",
   "version": "3.12.1"
  }
 },
 "nbformat": 4,
 "nbformat_minor": 5
}
