{
 "cells": [
  {
   "cell_type": "code",
   "execution_count": null,
   "id": "682dfdc8",
   "metadata": {},
   "outputs": [],
   "source": [
    "# Function Tools: Building Custom Actions\n",
    "# Welcome 👋🏻 In this notebook, you’ll learn how to create and integrate custom tools in Google's Agent Development Kit (ADK).\n",
    "# Custom tools allow your agents to interact with external systems, APIs, or perform specific computational tasks\n",
    "# that go beyond the capabilities of a large language model alone.\n",
    "# This example focuses on building a \"Weather Agent\" that uses custom tools\n",
    "# to fetch current and forecasted weather data from the OpenWeatherMap API."
   ]
  },
  {
   "cell_type": "code",
   "execution_count": 2,
   "id": "af4985c5",
   "metadata": {},
   "outputs": [
    {
     "name": "stdout",
     "output_type": "stream",
     "text": [
      "\n",
      "\u001b[1m[\u001b[0m\u001b[34;49mnotice\u001b[0m\u001b[1;39;49m]\u001b[0m\u001b[39;49m A new release of pip is available: \u001b[0m\u001b[31;49m25.0.1\u001b[0m\u001b[39;49m -> \u001b[0m\u001b[32;49m25.1.1\u001b[0m\n",
      "\u001b[1m[\u001b[0m\u001b[34;49mnotice\u001b[0m\u001b[1;39;49m]\u001b[0m\u001b[39;49m To update, run: \u001b[0m\u001b[32;49mpip install --upgrade pip\u001b[0m\n",
      "Note: you may need to restart the kernel to use updated packages.\n"
     ]
    }
   ],
   "source": [
    "# Install Google ADK for Python\n",
    "# This foundational package provides all the necessary components for building and running your agents.\n",
    "# The --quiet flag suppresses verbose output during installation.\n",
    "%pip install google-adk --quiet"
   ]
  },
  {
   "cell_type": "code",
   "execution_count": 3,
   "id": "a883b510",
   "metadata": {},
   "outputs": [
    {
     "name": "stdout",
     "output_type": "stream",
     "text": [
      "Name: google-adk\n",
      "Version: 1.0.0\n",
      "Summary: Agent Development Kit\n",
      "Home-page: https://google.github.io/adk-docs/\n",
      "Author: \n",
      "Author-email: Google LLC <googleapis-packages@google.com>\n",
      "License: \n",
      "Location: /home/codespace/.python/current/lib/python3.12/site-packages\n",
      "Requires: authlib, click, fastapi, google-api-python-client, google-cloud-aiplatform, google-cloud-secret-manager, google-cloud-speech, google-cloud-storage, google-genai, graphviz, mcp, opentelemetry-api, opentelemetry-exporter-gcp-trace, opentelemetry-sdk, pydantic, python-dotenv, PyYAML, sqlalchemy, tzlocal, uvicorn\n",
      "Required-by: \n",
      "Note: you may need to restart the kernel to use updated packages.\n"
     ]
    }
   ],
   "source": [
    "# Verify ADK Installation (Optional but Recommended)\n",
    "%pip show google-adk"
   ]
  },
  {
   "cell_type": "code",
   "execution_count": 4,
   "id": "4e1a517e",
   "metadata": {},
   "outputs": [
    {
     "name": "stdout",
     "output_type": "stream",
     "text": [
      "\n",
      "Environment configured.\n"
     ]
    }
   ],
   "source": [
    "# Configure environment\n",
    "import os\n",
    "\n",
    "# Set GOOGLE_GENAI_USE_VERTEXAI to \"False\" to use the public Gemini API directly,\n",
    "# rather than routing through Google Cloud's Vertex AI. This simplifies setup for quick demos.\n",
    "os.environ[\"GOOGLE_GENAI_USE_VERTEXAI\"] = \"False\"\n",
    "\n",
    "# Define the specific Gemini model we'll use.\n",
    "# 'gemini-2.0-flash' is a fast and efficient model suitable for many tasks.\n",
    "MODEL_GEMINI_2_0_FLASH = \"gemini-2.0-flash\"\n",
    "\n",
    "print(\"\\nEnvironment configured.\")"
   ]
  },
  {
   "cell_type": "code",
   "execution_count": 5,
   "id": "1f669847",
   "metadata": {},
   "outputs": [],
   "source": [
    "# Import Necessary Modules\n",
    "import requests # Used for making HTTP requests to external APIs (OpenWeatherMap)\n",
    "from typing import Dict, Any, Optional # Type hints for better code readability and error checking\n",
    "from datetime import datetime, timedelta # For handling dates and time calculations\n",
    "from collections import Counter # For counting occurrences of weather descriptions\n",
    "from dateutil import parser as date_parser # A robust library for parsing various date strings\n",
    "import calendar # For calendar-related calculations, e.g., finding weeks in a month\n",
    "import re # Regular expressions for parsing complex date expressions\n",
    "import time # For adding delays (e.g., to avoid hitting API rate limits\n",
    "\n",
    "# ADK Core Modules\n",
    "from google.adk.agents import Agent # The fundamental class for creating an AI agent\n",
    "from google.adk.runners import Runner # The orchestrator that manages agent execution\n",
    "from google.adk.sessions import InMemorySessionService # Simple, in-memory session management\n",
    "from google.genai import types # Data structures (like Content and Part) for LLM interaction\n",
    "from IPython.display import Markdown, display # For rendering rich text output in notebooks"
   ]
  },
  {
   "cell_type": "code",
   "execution_count": 6,
   "id": "a766f468",
   "metadata": {},
   "outputs": [
    {
     "name": "stdout",
     "output_type": "stream",
     "text": [
      "OpenWeather API key loaded (if set).\n"
     ]
    }
   ],
   "source": [
    "# OpenWeather API: Set Up\n",
    "# It's crucial to set your OpenWeatherMap API key as an environment variable\n",
    "# for security and ease of management. Replace 'YOUR_OPEN_WEATHER_API_KEY' with your actual key.\n",
    "# You can obtain a free API key from https://openweathermap.org/api\n",
    "OPEN_WEATHER_API_KEY = os.environ.get(\"OPEN_WEATHER_API_KEY\")\n",
    "\n",
    "# Raise an error if the API key is not set, preventing execution without proper authentication.\n",
    "if not OPEN_WEATHER_API_KEY:\n",
    "    raise ValueError(\n",
    "        \"OPEN_WEATHER_API_KEY environment variable not set. Please set it. \"\n",
    "        \"Get your key from https://openweathermap.org/api and run 'export OPEN_WEATHER_API_KEY=\\\"YOUR_KEY_HERE\\\"' \"\n",
    "        \"in your terminal, or add it to your .env file if using python-dotenv.\"\n",
    "    )\n",
    "\n",
    "print(\"OpenWeather API key loaded (if set).\")"
   ]
  },
  {
   "cell_type": "code",
   "execution_count": 7,
   "id": "c262056f",
   "metadata": {},
   "outputs": [
    {
     "name": "stdout",
     "output_type": "stream",
     "text": [
      "`parse_flexible_date_range` helper function defined.\n"
     ]
    }
   ],
   "source": [
    "# Helper Functions: Parse flexible date expressions for weather queries\n",
    "# This function is designed to interpret a wide range of natural language date requests\n",
    "# (e.g., \"tomorrow\", \"next week\", \"first week of July\") and convert them into precise\n",
    "# start and end datetime objects. This makes the weather agent much more user-friendly.\n",
    "\n",
    "def parse_flexible_date_range(date_str: str) -> Optional[tuple]:\n",
    "    \"\"\"\n",
    "    Parses a wide variety of date expressions and returns (start_date, end_date).\n",
    "    Supports:\n",
    "    - 'today', 'tomorrow', 'in 3 days'\n",
    "    - 'this weekend', 'next weekend'\n",
    "    - 'next week', 'this week'\n",
    "    - 'first week of July', 'second week of August', etc.\n",
    "    - Specific dates: '2025-07-01', 'July 1', '07-01'\n",
    "    - Date ranges: 'July 1 to July 5'\n",
    "    Returns (datetime, datetime) or None if parsing fails.\n",
    "    \"\"\"\n",
    "    date_str = date_str.lower().strip()\n",
    "    today = datetime.today()\n",
    "    weekday = today.weekday()  # Monday=0, Sunday=6\n",
    "\n",
    "    # Handle 'today', 'tomorrow', 'in X days'\n",
    "    if date_str in [\"today\", \"now\"]:\n",
    "        return today, today\n",
    "    if date_str == \"tomorrow\":\n",
    "        tmr = today + timedelta(days=1)\n",
    "        return tmr, tmr\n",
    "    match = re.match(r\"in (\\d+) days?\", date_str)\n",
    "    if match:\n",
    "        days = int(match.group(1))\n",
    "        target = today + timedelta(days=days)\n",
    "        return target, target\n",
    "\n",
    "    # Handle 'this week' (Monday to Sunday)\n",
    "    if date_str == \"this week\":\n",
    "        start = today - timedelta(days=weekday)\n",
    "        end = start + timedelta(days=6)\n",
    "        return start, end\n",
    "\n",
    "    # Handle 'next week' (Monday to Sunday)\n",
    "    if date_str == \"next week\":\n",
    "        start = today - timedelta(days=weekday) + timedelta(days=7)\n",
    "        end = start + timedelta(days=6)\n",
    "        return start, end\n",
    "\n",
    "    # Handle 'this weekend' (Saturday & Sunday)\n",
    "    if date_str == \"this weekend\":\n",
    "        saturday = today + timedelta((5 - weekday) % 7)\n",
    "        sunday = saturday + timedelta(days=1)\n",
    "        return saturday, sunday\n",
    "\n",
    "    # Handle 'next weekend' (Saturday & Sunday)\n",
    "    if date_str == \"next weekend\":\n",
    "        saturday = today + timedelta((5 - weekday) % 7 + 7)\n",
    "        sunday = saturday + timedelta(days=1)\n",
    "        return saturday, sunday\n",
    "\n",
    "    # Handle \"first week of July\", \"second week of August\", etc.\n",
    "    match = re.match(r\"(first|second|third|fourth|last) week of (\\w+)\", date_str)\n",
    "    if match:\n",
    "        week_map = {\n",
    "            \"first\": 0, \"second\": 1, \"third\": 2, \"fourth\": 3, \"last\": -1\n",
    "        }\n",
    "        week_num = week_map[match.group(1)]\n",
    "        month_str = match.group(2)\n",
    "        try:\n",
    "            month = list(calendar.month_name).index(month_str.capitalize())\n",
    "            year = today.year\n",
    "            # If the month has already passed this year, assume next year\n",
    "            if month < today.month:\n",
    "                year += 1\n",
    "            cal = calendar.monthcalendar(year, month)\n",
    "            \n",
    "            # Adjust week_num for 'last' or if calendar doesn't have enough weeks\n",
    "            if week_num == -1: # 'last' week\n",
    "                week = cal[-1]\n",
    "            elif week_num < len(cal):\n",
    "                week = cal[week_num]\n",
    "            else:\n",
    "                return None # Week number out of range for the month\n",
    "\n",
    "            # Find first non-zero day for start, last non-zero for end in the selected week\n",
    "            start_day_of_week = None\n",
    "            end_day_of_week = None\n",
    "            for d in week:\n",
    "                if d != 0:\n",
    "                    if start_day_of_week is None:\n",
    "                        start_day_of_week = d\n",
    "                    end_day_of_week = d # Keep updating until the last non-zero day\n",
    "\n",
    "            if start_day_of_week is not None and end_day_of_week is not None:\n",
    "                start = datetime(year, month, start_day_of_week)\n",
    "                end = datetime(year, month, end_day_of_week)\n",
    "                return start, end\n",
    "            else:\n",
    "                return None # No valid days found in the parsed week\n",
    "        except ValueError: # month_str not found in calendar.month_name\n",
    "            return None\n",
    "        except Exception: # Catch any other parsing issues\n",
    "            return None\n",
    "\n",
    "    # Try parsing as a specific date (e.g., \"July 1\", \"07-01\", \"2025-07-01\")\n",
    "    try:\n",
    "        dt = date_parser.parse(date_str, fuzzy=True, default=today)\n",
    "        return dt, dt\n",
    "    except Exception:\n",
    "        pass\n",
    "\n",
    "    # Try parsing as a date range (e.g., \"July 1 to July 5\", \"07-01 to 07-05\")\n",
    "    if \" to \" in date_str:\n",
    "        parts = date_str.split(\" to \")\n",
    "        try:\n",
    "            start = date_parser.parse(parts[0], fuzzy=True, default=today)\n",
    "            end = date_parser.parse(parts[1], fuzzy=True, default=today)\n",
    "            return start, end\n",
    "        except Exception:\n",
    "            return None\n",
    "\n",
    "    return None\n",
    "\n",
    "print(\"`parse_flexible_date_range` helper function defined.\")"
   ]
  },
  {
   "cell_type": "code",
   "execution_count": 8,
   "id": "e8d9fe47",
   "metadata": {},
   "outputs": [
    {
     "name": "stdout",
     "output_type": "stream",
     "text": [
      "`get_current_weather_from_openweather` custom tool defined.\n"
     ]
    }
   ],
   "source": [
    "# Custom Tool: Get Current Weather (Updated with timeout)\n",
    "def get_current_weather_from_openweather(city: str) -> Dict[str, Any]:\n",
    "    \"\"\"\n",
    "    Retrieves current weather data for a given city from OpenWeatherMap.\n",
    "    Args:\n",
    "        city: The name of the city for which to retrieve weather.\n",
    "    Returns:\n",
    "        A dictionary containing the status ('success' or 'error') and the weather report\n",
    "        or an error message.\n",
    "    \"\"\"\n",
    "    print(f\"--- Tool: get_current_weather_from_openweather called for city: {city} ---\")\n",
    "    try:\n",
    "        url = f\"http://api.openweathermap.org/data/2.5/weather?q={city}&appid={OPEN_WEATHER_API_KEY}&units=metric\"\n",
    "        # Add a timeout for the request (e.g., 5 seconds)\n",
    "        response = requests.get(url, timeout=5)\n",
    "        response.raise_for_status()\n",
    "        data = response.json()\n",
    "\n",
    "        if data[\"cod\"] == 200:\n",
    "            description = data[\"weather\"][0][\"description\"]\n",
    "            temperature = data[\"main\"][\"temp\"]\n",
    "            feels_like = data[\"main\"][\"feels_like\"]\n",
    "            humidity = data[\"main\"][\"humidity\"]\n",
    "            wind_speed = data[\"wind\"][\"speed\"]\n",
    "            report = (\n",
    "                f\"The current weather in {city} is {description} with a temperature of {temperature}°C \"\n",
    "                f\"(feels like {feels_like}°C). Humidity is {humidity}% and wind speed is {wind_speed} m/s.\"\n",
    "            )\n",
    "            return {\"status\": \"success\", \"report\": report}\n",
    "        else:\n",
    "            return {\"status\": \"error\", \"error_message\": f\"OpenWeatherMap API Error: {data.get('message', 'Unknown error')}\"}\n",
    "    except requests.exceptions.Timeout:\n",
    "        return {\"status\": \"error\", \"error_message\": f\"Request to OpenWeatherMap timed out for {city}. Please try again later.\"}\n",
    "    except requests.exceptions.RequestException as e:\n",
    "        return {\"status\": \"error\", \"error_message\": f\"Error fetching current weather data for {city}: {e}\"}\n",
    "    except KeyError as e:\n",
    "        return {\"status\": \"error\", \"error_message\": f\"Error parsing current weather data for {city}: Missing key: {e}\"}\n",
    "    except Exception as e:\n",
    "        return {\"status\": \"error\", \"error_message\": f\"An unexpected error occurred while getting current weather for {city}: {e}\"}\n",
    "\n",
    "print(\"`get_current_weather_from_openweather` custom tool defined.\")"
   ]
  },
  {
   "cell_type": "code",
   "execution_count": 9,
   "id": "a20eea80",
   "metadata": {},
   "outputs": [
    {
     "name": "stdout",
     "output_type": "stream",
     "text": [
      "`get_weather_summary_from_openweather` custom tool defined.\n"
     ]
    }
   ],
   "source": [
    "# Custom Tool: Get Weather Summary for a Flexible Date Range\n",
    "# This tool fetches weather forecasts for a specified city and a date range,\n",
    "# leveraging the `parse_flexible_date_range` helper to handle diverse date inputs.\n",
    "# It uses OpenWeatherMap's 5-day / 3-hour forecast API.\n",
    "\n",
    "def get_weather_summary_from_openweather(city: str, date_expr: str) -> Dict[str, Any]:\n",
    "    \"\"\"\n",
    "    Summarizes weather data for a given city and flexible date expression from OpenWeatherMap.\n",
    "    Args:\n",
    "        city: The name of the city for which to retrieve weather.\n",
    "        date_expr: A natural language expression for the date or date range (e.g., \"tomorrow\", \"next week\", \"July 1 to July 5\").\n",
    "    Returns:\n",
    "        A dictionary containing summarized weather data or an error message.\n",
    "    \"\"\"\n",
    "    print(f\"--- Tool: get_weather_summary_from_openweather called for city: {city}, date_expr: {date_expr} ---\")\n",
    "    try:\n",
    "        date_range = parse_flexible_date_range(date_expr)\n",
    "        if not date_range:\n",
    "            return {\"status\": \"error\", \"error_message\": f\"Could not parse date expression: '{date_expr}'. Please try a different format (e.g., 'tomorrow', 'next week', 'July 1').\"}\n",
    "        start, end = date_range\n",
    "        num_days = (end - start).days + 1\n",
    "\n",
    "        forecast_limit_days = 5\n",
    "        current_utc_date = datetime.utcnow().date()\n",
    "        if start.date() < current_utc_date:\n",
    "            return {\"status\": \"info\", \"report\": f\"I can only provide forecasts for current or future dates. '{date_expr}' is in the past.\"}\n",
    "        if (start.date() - current_utc_date).days > forecast_limit_days:\n",
    "            return {\"status\": \"info\", \"report\": f\"I can only provide a detailed forecast for up to {forecast_limit_days} days from today. '{date_expr}' is too far in the future for a precise summary.\"}\n",
    "\n",
    "        url = f\"http://api.openweathermap.org/data/2.5/forecast?q={city}&appid={OPEN_WEATHER_API_KEY}&units=metric\"\n",
    "        # Add a timeout for the request (e.g., 5 seconds)\n",
    "        response = requests.get(url, timeout=5)\n",
    "        response.raise_for_status()\n",
    "        data = response.json()\n",
    "\n",
    "        if data[\"cod\"] != \"200\":\n",
    "             return {\"status\": \"error\", \"error_message\": f\"OpenWeatherMap API Error for forecast: {data.get('message', 'Unknown error')}\"}\n",
    "\n",
    "        all_temps = []\n",
    "        all_descriptions = []\n",
    "\n",
    "        for entry in data.get(\"list\", []):\n",
    "            entry_dt = datetime.fromtimestamp(entry[\"dt\"])\n",
    "            if start.date() <= entry_dt.date() <= end.date():\n",
    "                all_temps.append(entry[\"main\"][\"temp\"])\n",
    "                all_descriptions.append(entry[\"weather\"][0][\"description\"])\n",
    "\n",
    "        if not all_temps:\n",
    "            if (end.date() - current_utc_date).days <= forecast_limit_days:\n",
    "                current_weather_data = get_current_weather_from_openweather(city)\n",
    "                if current_weather_data[\"status\"] == \"success\":\n",
    "                    return {\"status\": \"info\", \"report\": f\"Could not find specific forecast data for '{date_expr}' in {city}, but the current weather is: {current_weather_data['report']}\"}\n",
    "                else:\n",
    "                    return {\"status\": \"error\", \"error_message\": f\"No forecast available for {city} for '{date_expr}' and could not retrieve current weather: {current_weather_data['error_message']}\"}\n",
    "            else:\n",
    "                return {\"status\": \"info\", \"report\": f\"No forecast available for {city} for '{date_expr}'. This might be too far in the future or an invalid location.\"}\n",
    "\n",
    "        min_temp = round(min(all_temps), 1)\n",
    "        max_temp = round(max(all_temps), 1)\n",
    "        avg_temp = round(sum(all_temps) / len(all_temps), 1)\n",
    "\n",
    "        weather_type_counts = Counter(all_descriptions)\n",
    "        most_common_weather_types = [desc for desc, _ in weather_type_counts.most_common(3)]\n",
    "        weather_description_str = \", \".join(most_common_weather_types)\n",
    "\n",
    "        report = (\n",
    "            f\"The weather in {data['city']['name']} from {start.strftime('%B %d')} to {end.strftime('%B %d')} \"\n",
    "            f\"will be generally {weather_description_str}, with an average temperature of {avg_temp}°C. \"\n",
    "            f\"Temperatures will range from {min_temp}°C to {max_temp}°C.\"\n",
    "        )\n",
    "        return {\"status\": \"success\", \"report\": report}\n",
    "\n",
    "    except requests.exceptions.Timeout:\n",
    "        return {\"status\": \"error\", \"error_message\": f\"Request to OpenWeatherMap timed out for {city} and '{date_expr}'. Please try again later.\"}\n",
    "    except requests.exceptions.RequestException as e:\n",
    "        return {\"status\": \"error\", \"error_message\": f\"Error fetching weather forecast data for {city}: {e}\"}\n",
    "    except KeyError as e:\n",
    "        return {\"status\": \"error\", \"error_message\": f\"Error parsing weather forecast data for {city}: Missing key: {e}. The API response might be malformed or an invalid city was provided.\"}\n",
    "    except Exception as e:\n",
    "        return {\"status\": \"error\", \"error_message\": f\"An unexpected error occurred while getting weather summary for {city} and '{date_expr}': {e}\"}\n",
    "\n",
    "print(\"`get_weather_summary_from_openweather` custom tool defined.\")"
   ]
  },
  {
   "cell_type": "code",
   "execution_count": 10,
   "id": "cbf53e41",
   "metadata": {},
   "outputs": [],
   "source": [
    "weather_agent = Agent(\n",
    "    name=\"weather_agent_v1\",\n",
    "    model=MODEL_GEMINI_2_0_FLASH,\n",
    "    description=\"Provides weather information for specific cities and flexible date expressions.\",\n",
    "    instruction=(\n",
    "        \"You are a helpful weather assistant. \"\n",
    "        \"When the user asks for the current weather in a specific city, \"\n",
    "        \"use the 'get_current_weather_from_openweather' tool. \"\n",
    "        \"When the user asks for weather for a specific date or date range, use the 'get_weather_summary_from_openweather' tool. \"\n",
    "        \"The 'get_weather_summary_from_openweather' tool can handle flexible date expressions like 'this weekend', 'next week', 'first week of July', as well as specific dates. \"\n",
    "        \"If a tool returns an error, inform the user politely. \"\n",
    "        \"If a tool is successful, present the weather report clearly.\"\n",
    "    ),\n",
    "    tools=[get_current_weather_from_openweather, get_weather_summary_from_openweather],\n",
    ")"
   ]
  },
  {
   "cell_type": "code",
   "execution_count": 11,
   "id": "30ada057",
   "metadata": {},
   "outputs": [
    {
     "name": "stdout",
     "output_type": "stream",
     "text": [
      "`weather_agent` successfully defined.\n"
     ]
    }
   ],
   "source": [
    "# Define the Weather Agent\n",
    "# This agent leverages the two custom tools defined above:\n",
    "# - `get_current_weather_from_openweather` for immediate weather reports.\n",
    "# - `get_weather_summary_from_openweather` for forecasts across various date expressions.\n",
    "# The `instruction` guides the agent on when to use each tool and how to present the results.\n",
    "weather_agent = Agent(\n",
    "    name=\"weather_agent_v1\",\n",
    "    model=MODEL_GEMINI_2_0_FLASH,\n",
    "    description=\"Provides weather information for specific cities and flexible date expressions.\",\n",
    "    instruction=(\n",
    "        \"You are a helpful and accurate weather assistant. \"\n",
    "        \"When the user asks for the **current weather** in a specific city, \"\n",
    "        \"you MUST use the `get_current_weather_from_openweather` tool. \"\n",
    "        \"When the user asks for the **weather forecast** for a specific date or date range, \"\n",
    "        \"you MUST use the `get_weather_summary_from_openweather` tool. \"\n",
    "        \"The `get_weather_summary_from_openweather` tool can handle flexible date expressions like 'this weekend', 'next week', 'first week of July', 'tomorrow', 'in 3 days', as well as specific dates like '2025-07-01' or 'July 1 to July 5'. \"\n",
    "        \"Always extract the city and date expression precisely from the user's query. \"\n",
    "        \"If a tool returns an error or an 'info' status, directly inform the user with the provided message. \"\n",
    "        \"If a tool is successful, present the weather report clearly and concisely. \"\n",
    "        \"Do not invent information if a tool cannot provide it.\"\n",
    "    ),\n",
    "    # Assign the custom tools to the agent, making them available for use.\n",
    "    tools=[get_current_weather_from_openweather, get_weather_summary_from_openweather],\n",
    ")\n",
    "\n",
    "print(\"`weather_agent` successfully defined.\")"
   ]
  },
  {
   "cell_type": "code",
   "execution_count": 12,
   "id": "e6ee619b",
   "metadata": {},
   "outputs": [
    {
     "name": "stdout",
     "output_type": "stream",
     "text": [
      "Modular function `run_adk_agent_interaction` successfully defined.\n"
     ]
    }
   ],
   "source": [
    "# Modular Function for Agent Interaction\n",
    "# This asynchronous function encapsulates the common logic for running an ADK agent interaction,\n",
    "# making the main execution flow cleaner and more reusable for multiple test cases.\n",
    "async def run_adk_agent_interaction(\n",
    "    agent: Agent,\n",
    "    user_id: str,\n",
    "    session_id: str,\n",
    "    input_text: str,\n",
    "    app_name: str = \"default_app\",\n",
    "    session_service: InMemorySessionService = None,\n",
    ") -> str:\n",
    "    \"\"\"\n",
    "    Runs a single interaction with an ADK agent and returns its final text response.\n",
    "\n",
    "    Args:\n",
    "        agent: The ADK Agent instance to interact with.\n",
    "        user_id: A unique identifier for the user initiating the interaction.\n",
    "        session_id: A unique identifier for the conversation session.\n",
    "                    Using a new ID for each distinct example ensures isolation.\n",
    "        input_text: The textual message from the user.\n",
    "        app_name: The name of the application using the agent. Defaults to \"default_app\".\n",
    "        session_service: An optional InMemorySessionService instance. If None, a new\n",
    "                         instance is created, making each call self-contained.\n",
    "\n",
    "    Returns:\n",
    "        The final text response from the agent as a string. Returns\n",
    "        \"No final response from agent.\" if no final response event is found.\n",
    "    \"\"\"\n",
    "    # Use the provided session service if available, otherwise create a new one.\n",
    "    if session_service is None:\n",
    "        session_service = InMemorySessionService()\n",
    "\n",
    "    # Create a new session. For multiple distinct interactions, it's good to use unique session_ids.\n",
    "    await session_service.create_session(app_name=app_name, user_id=user_id, session_id=session_id)\n",
    "\n",
    "    # Format the user's input into a Content object.\n",
    "    content = types.Content(role=\"user\", parts=[types.Part(text=input_text)])\n",
    "\n",
    "    # Initialize the Runner for the agent.\n",
    "    runner = Runner(agent=agent, app_name=app_name, session_service=session_service)\n",
    "\n",
    "    # Run the agent and process the events.\n",
    "    events = runner.run(user_id=user_id, session_id=session_id, new_message=content)\n",
    "\n",
    "    for event in events:\n",
    "        if event.is_final_response():\n",
    "            response = ''.join(part.text for part in event.content.parts if part.text)\n",
    "            return response\n",
    "    return \"No final response from agent.\"\n",
    "\n",
    "print(\"Modular function `run_adk_agent_interaction` successfully defined.\")"
   ]
  },
  {
   "cell_type": "code",
   "execution_count": 13,
   "id": "03966daf",
   "metadata": {},
   "outputs": [
    {
     "name": "stdout",
     "output_type": "stream",
     "text": [
      "------ [starting weather agent interactions] ------\n",
      "\n",
      "\n",
      "--- Testing >> Current Weather: London ---\n",
      "User Input: 'What's the current weather in London?'\n"
     ]
    },
    {
     "name": "stderr",
     "output_type": "stream",
     "text": [
      "Warning: there are non-text parts in the response: ['function_call'], returning concatenated text result from text parts. Check the full candidates.content.parts accessor to get the full model response.\n"
     ]
    },
    {
     "name": "stdout",
     "output_type": "stream",
     "text": [
      "--- Tool: get_current_weather_from_openweather called for city: London ---\n"
     ]
    },
    {
     "data": {
      "text/markdown": [
       "**Agent Response:**\n",
       "OK. The current weather in London is overcast clouds with a temperature of 13.73°C (feels like 13.43°C). Humidity is 87% and wind speed is 4.63 m/s.\n"
      ],
      "text/plain": [
       "<IPython.core.display.Markdown object>"
      ]
     },
     "metadata": {},
     "output_type": "display_data"
    },
    {
     "name": "stdout",
     "output_type": "stream",
     "text": [
      "\n",
      "--- Testing Complete >> Current Weather: London ---\n",
      "\n",
      "--- Testing >> Forecast: London, Next Week ---\n",
      "User Input: 'What will the weather be like in London next week?'\n"
     ]
    },
    {
     "name": "stderr",
     "output_type": "stream",
     "text": [
      "Warning: there are non-text parts in the response: ['function_call'], returning concatenated text result from text parts. Check the full candidates.content.parts accessor to get the full model response.\n",
      "/tmp/ipykernel_49678/4125063256.py:24: DeprecationWarning: datetime.datetime.utcnow() is deprecated and scheduled for removal in a future version. Use timezone-aware objects to represent datetimes in UTC: datetime.datetime.now(datetime.UTC).\n",
      "  current_utc_date = datetime.utcnow().date()\n"
     ]
    },
    {
     "name": "stdout",
     "output_type": "stream",
     "text": [
      "--- Tool: get_weather_summary_from_openweather called for city: London, date_expr: next week ---\n"
     ]
    },
    {
     "data": {
      "text/markdown": [
       "**Agent Response:**\n",
       "The weather in London from June 16 to June 22 will be generally few clouds, clear sky, with an average temperature of 13.5°C. Temperatures will range from 12.6°C to 14.4°C.\n"
      ],
      "text/plain": [
       "<IPython.core.display.Markdown object>"
      ]
     },
     "metadata": {},
     "output_type": "display_data"
    },
    {
     "name": "stdout",
     "output_type": "stream",
     "text": [
      "\n",
      "--- Testing Complete >> Forecast: London, Next Week ---\n",
      "\n",
      "--- Testing >> Forecast: Paris, This Weekend ---\n",
      "User Input: 'What's the weather in Paris this weekend?'\n"
     ]
    },
    {
     "name": "stderr",
     "output_type": "stream",
     "text": [
      "Warning: there are non-text parts in the response: ['function_call'], returning concatenated text result from text parts. Check the full candidates.content.parts accessor to get the full model response.\n"
     ]
    },
    {
     "name": "stdout",
     "output_type": "stream",
     "text": [
      "--- Tool: get_weather_summary_from_openweather called for city: Paris, date_expr: this weekend ---\n"
     ]
    },
    {
     "data": {
      "text/markdown": [
       "**Agent Response:**\n",
       "OK. The weather in Paris from June 14 to June 15 will be generally broken clouds, light rain, clear sky, with an average temperature of 22.0°C. Temperatures will range from 17.5°C to 28.4°C.\n"
      ],
      "text/plain": [
       "<IPython.core.display.Markdown object>"
      ]
     },
     "metadata": {},
     "output_type": "display_data"
    },
    {
     "name": "stdout",
     "output_type": "stream",
     "text": [
      "\n",
      "--- Testing Complete >> Forecast: Paris, This Weekend ---\n",
      "\n",
      "--- Testing >> Forecast: Tokyo, First Week of July ---\n",
      "User Input: 'How's the weather in Tokyo in the first week of July?'\n"
     ]
    },
    {
     "name": "stderr",
     "output_type": "stream",
     "text": [
      "Warning: there are non-text parts in the response: ['function_call'], returning concatenated text result from text parts. Check the full candidates.content.parts accessor to get the full model response.\n"
     ]
    },
    {
     "name": "stdout",
     "output_type": "stream",
     "text": [
      "--- Tool: get_weather_summary_from_openweather called for city: Tokyo, date_expr: the first week of July ---\n"
     ]
    },
    {
     "data": {
      "text/markdown": [
       "**Agent Response:**\n",
       "I can only provide a detailed forecast for up to 5 days from today. 'the first week of July' is too far in the future for a precise summary.\n"
      ],
      "text/plain": [
       "<IPython.core.display.Markdown object>"
      ]
     },
     "metadata": {},
     "output_type": "display_data"
    },
    {
     "name": "stdout",
     "output_type": "stream",
     "text": [
      "\n",
      "--- Testing Complete >> Forecast: Tokyo, First Week of July ---\n",
      "\n",
      "--- Testing >> Forecast: Rome, Tomorrow ---\n",
      "User Input: 'Will it rain in Rome tomorrow?'\n"
     ]
    },
    {
     "name": "stderr",
     "output_type": "stream",
     "text": [
      "Warning: there are non-text parts in the response: ['function_call'], returning concatenated text result from text parts. Check the full candidates.content.parts accessor to get the full model response.\n"
     ]
    },
    {
     "name": "stdout",
     "output_type": "stream",
     "text": [
      "--- Tool: get_weather_summary_from_openweather called for city: Rome, date_expr: tomorrow ---\n"
     ]
    },
    {
     "data": {
      "text/markdown": [
       "**Agent Response:**\n",
       "Here is the weather forecast for Rome tomorrow, June 12: The weather will be generally overcast clouds, broken clouds, scattered clouds, with an average temperature of 24.0°C. Temperatures will range from 18.1°C to 30.7°C."
      ],
      "text/plain": [
       "<IPython.core.display.Markdown object>"
      ]
     },
     "metadata": {},
     "output_type": "display_data"
    },
    {
     "name": "stdout",
     "output_type": "stream",
     "text": [
      "\n",
      "--- Testing Complete >> Forecast: Rome, Tomorrow ---\n",
      "\n",
      "--- Testing >> Forecast: New York, In 3 Days ---\n",
      "User Input: 'Weather forecast for New York in 3 days?'\n"
     ]
    },
    {
     "name": "stderr",
     "output_type": "stream",
     "text": [
      "Warning: there are non-text parts in the response: ['function_call'], returning concatenated text result from text parts. Check the full candidates.content.parts accessor to get the full model response.\n"
     ]
    },
    {
     "name": "stdout",
     "output_type": "stream",
     "text": [
      "--- Tool: get_weather_summary_from_openweather called for city: New York, date_expr: in 3 days ---\n"
     ]
    },
    {
     "data": {
      "text/markdown": [
       "**Agent Response:**\n",
       "OK. The weather in New York from June 14 to June 14 will be generally overcast clouds, light rain, with an average temperature of 18.9°C. Temperatures will range from 18.1°C to 21.0°C.\n"
      ],
      "text/plain": [
       "<IPython.core.display.Markdown object>"
      ]
     },
     "metadata": {},
     "output_type": "display_data"
    },
    {
     "name": "stdout",
     "output_type": "stream",
     "text": [
      "\n",
      "--- Testing Complete >> Forecast: New York, In 3 Days ---\n",
      "\n",
      "--- Testing >> Forecast: Mumbai, July 1 to July 5 ---\n",
      "User Input: 'What will the weather be like in Mumbai July 1 to July 5?'\n"
     ]
    },
    {
     "name": "stderr",
     "output_type": "stream",
     "text": [
      "Warning: there are non-text parts in the response: ['function_call'], returning concatenated text result from text parts. Check the full candidates.content.parts accessor to get the full model response.\n"
     ]
    },
    {
     "name": "stdout",
     "output_type": "stream",
     "text": [
      "--- Tool: get_weather_summary_from_openweather called for city: Mumbai, date_expr: July 1 to July 5 ---\n"
     ]
    },
    {
     "data": {
      "text/markdown": [
       "**Agent Response:**\n",
       "I can only provide a detailed forecast for up to 5 days from today. 'July 1 to July 5' is too far in the future for a precise summary.\n"
      ],
      "text/plain": [
       "<IPython.core.display.Markdown object>"
      ]
     },
     "metadata": {},
     "output_type": "display_data"
    },
    {
     "name": "stdout",
     "output_type": "stream",
     "text": [
      "\n",
      "--- Testing Complete >> Forecast: Mumbai, July 1 to July 5 ---\n",
      "\n",
      "--- Testing >> Current Weather: San Francisco ---\n",
      "User Input: 'Tell me the current weather in San Francisco.'\n"
     ]
    },
    {
     "name": "stderr",
     "output_type": "stream",
     "text": [
      "Warning: there are non-text parts in the response: ['function_call'], returning concatenated text result from text parts. Check the full candidates.content.parts accessor to get the full model response.\n"
     ]
    },
    {
     "name": "stdout",
     "output_type": "stream",
     "text": [
      "--- Tool: get_current_weather_from_openweather called for city: San Francisco ---\n"
     ]
    },
    {
     "data": {
      "text/markdown": [
       "**Agent Response:**\n",
       "OK. The current weather in San Francisco is broken clouds with a temperature of 11.97°C (feels like 11.47°C). Humidity is 86% and wind speed is 8.94 m/s.\n"
      ],
      "text/plain": [
       "<IPython.core.display.Markdown object>"
      ]
     },
     "metadata": {},
     "output_type": "display_data"
    },
    {
     "name": "stdout",
     "output_type": "stream",
     "text": [
      "\n",
      "--- Testing Complete >> Current Weather: San Francisco ---\n",
      "\n",
      "--- Testing >> Forecast: Sydney, Next Weekend ---\n",
      "User Input: 'What's the forecast for Sydney next weekend?'\n"
     ]
    },
    {
     "name": "stderr",
     "output_type": "stream",
     "text": [
      "Warning: there are non-text parts in the response: ['function_call'], returning concatenated text result from text parts. Check the full candidates.content.parts accessor to get the full model response.\n"
     ]
    },
    {
     "name": "stdout",
     "output_type": "stream",
     "text": [
      "--- Tool: get_weather_summary_from_openweather called for city: Sydney, date_expr: next weekend ---\n"
     ]
    },
    {
     "data": {
      "text/markdown": [
       "**Agent Response:**\n",
       "I can only provide a detailed forecast for up to 5 days from today. 'next weekend' is too far in the future for a precise summary.\n"
      ],
      "text/plain": [
       "<IPython.core.display.Markdown object>"
      ]
     },
     "metadata": {},
     "output_type": "display_data"
    },
    {
     "name": "stdout",
     "output_type": "stream",
     "text": [
      "\n",
      "--- Testing Complete >> Forecast: Sydney, Next Weekend ---\n",
      "\n",
      "--- Testing >> Forecast: Berlin, August 15, 2025 (Specific Date) ---\n",
      "User Input: 'What's the weather on August 15, 2025, in Berlin?'\n"
     ]
    },
    {
     "name": "stderr",
     "output_type": "stream",
     "text": [
      "Warning: there are non-text parts in the response: ['function_call'], returning concatenated text result from text parts. Check the full candidates.content.parts accessor to get the full model response.\n"
     ]
    },
    {
     "name": "stdout",
     "output_type": "stream",
     "text": [
      "--- Tool: get_weather_summary_from_openweather called for city: Berlin, date_expr: August 15, 2025 ---\n"
     ]
    },
    {
     "data": {
      "text/markdown": [
       "**Agent Response:**\n",
       "I can only provide a detailed forecast for up to 5 days from today. 'August 15, 2025' is too far in the future for a precise summary."
      ],
      "text/plain": [
       "<IPython.core.display.Markdown object>"
      ]
     },
     "metadata": {},
     "output_type": "display_data"
    },
    {
     "name": "stdout",
     "output_type": "stream",
     "text": [
      "\n",
      "--- Testing Complete >> Forecast: Berlin, August 15, 2025 (Specific Date) ---\n",
      "\n",
      "--- Testing >> Invalid City Name ---\n",
      "User Input: 'What's the weather in NonExistentCity today?'\n"
     ]
    },
    {
     "name": "stderr",
     "output_type": "stream",
     "text": [
      "Warning: there are non-text parts in the response: ['function_call'], returning concatenated text result from text parts. Check the full candidates.content.parts accessor to get the full model response.\n"
     ]
    },
    {
     "name": "stdout",
     "output_type": "stream",
     "text": [
      "--- Tool: get_current_weather_from_openweather called for city: NonExistentCity ---\n"
     ]
    },
    {
     "data": {
      "text/markdown": [
       "**Agent Response:**\n",
       "There was an error retrieving the weather data for NonExistentCity. The city was not found.\n"
      ],
      "text/plain": [
       "<IPython.core.display.Markdown object>"
      ]
     },
     "metadata": {},
     "output_type": "display_data"
    },
    {
     "name": "stdout",
     "output_type": "stream",
     "text": [
      "\n",
      "--- Testing Complete >> Invalid City Name ---\n",
      "\n",
      "--- Testing >> Date Too Far in Future ---\n",
      "User Input: 'What will the weather be like in Tokyo in December 2026?'\n"
     ]
    },
    {
     "name": "stderr",
     "output_type": "stream",
     "text": [
      "Warning: there are non-text parts in the response: ['function_call'], returning concatenated text result from text parts. Check the full candidates.content.parts accessor to get the full model response.\n"
     ]
    },
    {
     "name": "stdout",
     "output_type": "stream",
     "text": [
      "--- Tool: get_weather_summary_from_openweather called for city: Tokyo, date_expr: December 2026 ---\n"
     ]
    },
    {
     "data": {
      "text/markdown": [
       "**Agent Response:**\n",
       "I can only provide a detailed forecast for up to 5 days from today. 'December 2026' is too far in the future for a precise summary.\n"
      ],
      "text/plain": [
       "<IPython.core.display.Markdown object>"
      ]
     },
     "metadata": {},
     "output_type": "display_data"
    },
    {
     "name": "stdout",
     "output_type": "stream",
     "text": [
      "\n",
      "--- Testing Complete >> Date Too Far in Future ---\n",
      "\n",
      "--- Testing >> Past Date Request ---\n",
      "User Input: 'What was the weather like in New York last week?'\n"
     ]
    },
    {
     "name": "stderr",
     "output_type": "stream",
     "text": [
      "Warning: there are non-text parts in the response: ['function_call'], returning concatenated text result from text parts. Check the full candidates.content.parts accessor to get the full model response.\n"
     ]
    },
    {
     "name": "stdout",
     "output_type": "stream",
     "text": [
      "--- Tool: get_weather_summary_from_openweather called for city: New York, date_expr: last week ---\n"
     ]
    },
    {
     "data": {
      "text/markdown": [
       "**Agent Response:**\n",
       "I am sorry, I cannot process your request because the date expression 'last week' is not supported. Please try a different format (e.g., 'tomorrow', 'next week', 'July 1').\n"
      ],
      "text/plain": [
       "<IPython.core.display.Markdown object>"
      ]
     },
     "metadata": {},
     "output_type": "display_data"
    },
    {
     "name": "stdout",
     "output_type": "stream",
     "text": [
      "\n",
      "--- Testing Complete >> Past Date Request ---\n",
      "\n",
      "------ [all weather agent interactions complete] ------\n"
     ]
    }
   ],
   "source": [
    "# Run the Weather Agent with Multiple Test Cases\n",
    "# Define common parameters for our agent interactions.\n",
    "APP_NAME = \"wanderwise_app\"\n",
    "USER_ID = \"user_001\"\n",
    "\n",
    "# Create a common session service instance to reuse across multiple test runs.\n",
    "common_session_service = InMemorySessionService()\n",
    "\n",
    "# Define a dictionary of user inputs for various weather scenarios.\n",
    "# Each entry includes a descriptive name and the user's query.\n",
    "WEATHER_TEST_CASES = {\n",
    "    \"Current Weather: London\":\n",
    "        \"What's the current weather in London?\",\n",
    "\n",
    "    \"Forecast: London, Next Week\":\n",
    "        \"What will the weather be like in London next week?\",\n",
    "\n",
    "    \"Forecast: Paris, This Weekend\":\n",
    "        \"What's the weather in Paris this weekend?\",\n",
    "\n",
    "    \"Forecast: Tokyo, First Week of July\":\n",
    "        \"How's the weather in Tokyo in the first week of July?\",\n",
    "\n",
    "    \"Forecast: Rome, Tomorrow\":\n",
    "        \"Will it rain in Rome tomorrow?\",\n",
    "\n",
    "    \"Forecast: New York, In 3 Days\":\n",
    "        \"Weather forecast for New York in 3 days?\",\n",
    "\n",
    "    \"Forecast: Mumbai, July 1 to July 5\":\n",
    "        \"What will the weather be like in Mumbai July 1 to July 5?\",\n",
    "\n",
    "    \"Current Weather: San Francisco\":\n",
    "        \"Tell me the current weather in San Francisco.\",\n",
    "\n",
    "    \"Forecast: Sydney, Next Weekend\":\n",
    "        \"What's the forecast for Sydney next weekend?\",\n",
    "\n",
    "    \"Forecast: Berlin, August 15, 2025 (Specific Date)\":\n",
    "        \"What's the weather on August 15, 2025, in Berlin?\",\n",
    "\n",
    "    \"Invalid City Name\":\n",
    "        \"What's the weather in NonExistentCity today?\",\n",
    "\n",
    "    \"Date Too Far in Future\":\n",
    "        \"What will the weather be like in Tokyo in December 2026?\",\n",
    "\n",
    "    \"Past Date Request\":\n",
    "        \"What was the weather like in New York last week?\", # Should handle by `parse_flexible_date_range`\n",
    "}\n",
    "\n",
    "print(\"------ [starting weather agent interactions] ------\\n\")\n",
    "\n",
    "# Loop through each test case and run the agent.\n",
    "for case_name, user_input in WEATHER_TEST_CASES.items():\n",
    "    # Create a unique session ID for each interaction to ensure isolated tests.\n",
    "    session_id = f\"{APP_NAME}_weather_session_{case_name.replace(' ', '_').replace(',', '').replace('(', '').replace(')', '').lower()}\"\n",
    "\n",
    "    print(f\"\\n--- Testing >> {case_name} ---\")\n",
    "    print(f\"User Input: '{user_input}'\")\n",
    "\n",
    "    # Invoke the weather_agent using the modular helper function.\n",
    "    agent_response = await run_adk_agent_interaction(\n",
    "        agent=weather_agent,\n",
    "        user_id=USER_ID,\n",
    "        session_id=session_id,\n",
    "        input_text=user_input,\n",
    "        app_name=APP_NAME,\n",
    "        session_service=common_session_service # Pass the common session service\n",
    "    )\n",
    "    time.sleep(1) # Sleep for 1 seconds after each interaction\n",
    "\n",
    "    # Display the agent's response.\n",
    "    display(Markdown(f\"**Agent Response:**\\n{agent_response}\"))\n",
    "    print(f\"\\n--- Testing Complete >> {case_name} ---\")\n",
    "\n",
    "print(\"\\n------ [all weather agent interactions complete] ------\")"
   ]
  },
  {
   "cell_type": "code",
   "execution_count": 14,
   "id": "bd550316",
   "metadata": {},
   "outputs": [],
   "source": [
    "# Congratulations 🎉 \n",
    "# You now have a flexible, robust ADK agent that integrates custom tools for weather lookups.\n",
    "# Remember to ensure your OPEN_WEATHER_API_KEY is correctly set for the tools to function.\n",
    "# Try more prompts, or extend your agent with additional travel tools!"
   ]
  }
 ],
 "metadata": {
  "kernelspec": {
   "display_name": "Python 3",
   "language": "python",
   "name": "python3"
  },
  "language_info": {
   "codemirror_mode": {
    "name": "ipython",
    "version": 3
   },
   "file_extension": ".py",
   "mimetype": "text/x-python",
   "name": "python",
   "nbconvert_exporter": "python",
   "pygments_lexer": "ipython3",
   "version": "3.12.1"
  }
 },
 "nbformat": 4,
 "nbformat_minor": 5
}
