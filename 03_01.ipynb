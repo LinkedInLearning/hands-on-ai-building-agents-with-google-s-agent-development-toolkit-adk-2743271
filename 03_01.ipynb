{
 "cells": [
  {
   "cell_type": "code",
   "execution_count": null,
   "id": "682dfdc8",
   "metadata": {},
   "outputs": [],
   "source": [
    "# ADK's Built-in Toolbox: The Foundation\n",
    "# Welcome 👋🏻 This notebook demonstrates how to use Google's Agent Development Kit (ADK) to build an agent\n",
    "# that leverages a built-in tool, specifically `google_search`, to fetch live event data.\n",
    "# This approach allows agents to provide dynamic and tailored responses to user queries.\n",
    "# Example: A user asks, “What food festivals are happening in London next month?”\n",
    "# The agent will use the `google_search` tool to find the latest events and then summarize them."
   ]
  },
  {
   "cell_type": "code",
   "execution_count": 2,
   "id": "af4985c5",
   "metadata": {},
   "outputs": [
    {
     "name": "stdout",
     "output_type": "stream",
     "text": [
      "\n",
      "\u001b[1m[\u001b[0m\u001b[34;49mnotice\u001b[0m\u001b[1;39;49m]\u001b[0m\u001b[39;49m A new release of pip is available: \u001b[0m\u001b[31;49m25.0.1\u001b[0m\u001b[39;49m -> \u001b[0m\u001b[32;49m25.1.1\u001b[0m\n",
      "\u001b[1m[\u001b[0m\u001b[34;49mnotice\u001b[0m\u001b[1;39;49m]\u001b[0m\u001b[39;49m To update, run: \u001b[0m\u001b[32;49mpip install --upgrade pip\u001b[0m\n",
      "Note: you may need to restart the kernel to use updated packages.\n"
     ]
    }
   ],
   "source": [
    "# Install Google ADK for Python\n",
    "# This is the foundational package that provides all the necessary components for building and running your agents.\n",
    "# The --quiet flag suppresses verbose output during installation.\n",
    "%pip install google-adk --quiet"
   ]
  },
  {
   "cell_type": "code",
   "execution_count": 3,
   "id": "a883b510",
   "metadata": {},
   "outputs": [
    {
     "name": "stdout",
     "output_type": "stream",
     "text": [
      "Name: google-adk\n",
      "Version: 1.0.0\n",
      "Summary: Agent Development Kit\n",
      "Home-page: https://google.github.io/adk-docs/\n",
      "Author: \n",
      "Author-email: Google LLC <googleapis-packages@google.com>\n",
      "License: \n",
      "Location: /home/codespace/.python/current/lib/python3.12/site-packages\n",
      "Requires: authlib, click, fastapi, google-api-python-client, google-cloud-aiplatform, google-cloud-secret-manager, google-cloud-speech, google-cloud-storage, google-genai, graphviz, mcp, opentelemetry-api, opentelemetry-exporter-gcp-trace, opentelemetry-sdk, pydantic, python-dotenv, PyYAML, sqlalchemy, tzlocal, uvicorn\n",
      "Required-by: \n",
      "Note: you may need to restart the kernel to use updated packages.\n"
     ]
    }
   ],
   "source": [
    "# Verify ADK Installation (Optional but Recommended)\n",
    "%pip show google-adk"
   ]
  },
  {
   "cell_type": "code",
   "execution_count": 4,
   "id": "4e1a517e",
   "metadata": {},
   "outputs": [],
   "source": [
    "# Configure environment\n",
    "import os\n",
    "\n",
    "# Set GOOGLE_GENAI_USE_VERTEXAI to \"False\" to use the public Gemini API directly,\n",
    "# rather than routing through Google Cloud's Vertex AI. This simplifies setup for quick demos.\n",
    "os.environ[\"GOOGLE_GENAI_USE_VERTEXAI\"] = \"False\"\n",
    "\n",
    "# Define the specific Gemini model we'll use. \n",
    "# 'gemini-2.0-flash' is a fast and efficient model.\n",
    "MODEL_GEMINI_2_0_FLASH = \"gemini-2.0-flash\""
   ]
  },
  {
   "cell_type": "code",
   "execution_count": 5,
   "id": "1f669847",
   "metadata": {},
   "outputs": [],
   "source": [
    "# Import Necessary Modules\n",
    "\n",
    "# Agent: The fundamental class for creating an AI agent within ADK.\n",
    "from google.adk.agents import Agent\n",
    "\n",
    "# Runner: The orchestrator that manages the flow of messages and agent execution.\n",
    "from google.adk.runners import Runner\n",
    "\n",
    "# InMemorySessionService: A simple, in-memory service for managing conversation sessions.\n",
    "# Sessions are vital for maintaining context in multi-turn dialogues.\n",
    "from google.adk.sessions import InMemorySessionService\n",
    "\n",
    "# types from google.genai: Provides data structures (like Content and Part) to represent\n",
    "# messages exchanged with the language model.\n",
    "from google.genai import types\n",
    "\n",
    "# google_search: The built-in tool that allows the agent to perform web searches.\n",
    "from google.adk.tools import google_search\n",
    "\n",
    "# Markdown, display: Used for rendering rich text output in Jupyter notebooks.\n",
    "from IPython.display import Markdown, display"
   ]
  },
  {
   "cell_type": "code",
   "execution_count": 6,
   "id": "fac575dc",
   "metadata": {},
   "outputs": [
    {
     "name": "stdout",
     "output_type": "stream",
     "text": [
      "Modular function `run_adk_agent_interaction` successfully defined.\n"
     ]
    }
   ],
   "source": [
    "# Modular Function for Agent Interaction\n",
    "# This asynchronous function encapsulates the common logic for running an ADK agent interaction,\n",
    "# making the main execution flow cleaner and more reusable.\n",
    "async def run_adk_agent_interaction(\n",
    "    agent: Agent,\n",
    "    user_id: str,\n",
    "    session_id: str,\n",
    "    input_text: str,\n",
    "    app_name: str = \"default_app\",\n",
    "    session_service: InMemorySessionService = None,\n",
    ") -> str:\n",
    "    \"\"\"\n",
    "    Runs a single interaction with an ADK agent and returns its final text response.\n",
    "\n",
    "    Args:\n",
    "        agent: The ADK Agent instance to interact with.\n",
    "        user_id: A unique identifier for the user initiating the interaction.\n",
    "        session_id: A unique identifier for the conversation session.\n",
    "                    Using a new ID for each distinct example ensures isolation.\n",
    "        input_text: The textual message from the user.\n",
    "        app_name: The name of the application using the agent. Defaults to \"default_app\".\n",
    "        session_service: An optional InMemorySessionService instance. If None, a new\n",
    "                         instance is created, making each call self-contained.\n",
    "\n",
    "    Returns:\n",
    "        The final text response from the agent as a string. Returns\n",
    "        \"No final response from agent.\" if no final response event is found.\n",
    "    \"\"\"\n",
    "    # Use the provided session service if available, otherwise create a new one.\n",
    "    # This flexibility allows for both isolated examples and continuous conversations.\n",
    "    if session_service is None:\n",
    "        session_service = InMemorySessionService()\n",
    "\n",
    "    # Create a new session. In a multi-turn conversation, you would reuse\n",
    "    # the same session_id across turns to maintain context.\n",
    "    # For these distinct examples, we'll use unique session_ids.\n",
    "    await session_service.create_session(app_name=app_name, user_id=user_id, session_id=session_id)\n",
    "\n",
    "    # Format the user's input into a Content object, which is how messages\n",
    "    # are structured for the agent.\n",
    "    content = types.Content(role=\"user\", parts=[types.Part(text=input_text)])\n",
    "\n",
    "    # Initialize the Runner: This is the engine that connects the user's message\n",
    "    # to the agent and manages the session state.\n",
    "    runner = Runner(agent=agent, app_name=app_name, session_service=session_service)\n",
    "\n",
    "    # Run the agent: This sends the user's message to the agent for processing.\n",
    "    # The 'runner.run()' method returns an iterable of events that describe\n",
    "    # the agent's actions and responses.\n",
    "    events = runner.run(user_id=user_id, session_id=session_id, new_message=content)\n",
    "\n",
    "    # Process the events to find and extract the final response from the agent.\n",
    "    for event in events:\n",
    "        if event.is_final_response():\n",
    "            # Concatenate all parts in the final response\n",
    "            response = ''.join(part.text for part in event.content.parts if part.text)\n",
    "            return response\n",
    "    return \"No final response from agent.\"\n",
    "\n",
    "print(\"Modular function `run_adk_agent_interaction` successfully defined.\")"
   ]
  },
  {
   "cell_type": "code",
   "execution_count": 7,
   "id": "bf41f2ef",
   "metadata": {},
   "outputs": [
    {
     "name": "stdout",
     "output_type": "stream",
     "text": [
      "`latest_events_agent` successfully defined with comprehensive instructions.\n"
     ]
    }
   ],
   "source": [
    "# Latest Events Agent: Definition\n",
    "# The instruction set is the core of the agent, guiding its behavior.\n",
    "# It should be specific, structured, and ensure safe operation.\n",
    "latest_events_agent = Agent(\n",
    "    name=\"latest_events_agent\",\n",
    "    model=MODEL_GEMINI_2_0_FLASH,\n",
    "    description=\"An agent that finds and summarizes current or upcoming events for a given destination and timeframe.\",\n",
    "    instruction=\"\"\"\n",
    "        You are a highly helpful and detailed travel assistant specialized in finding events.\n",
    "        Your primary primary goal is to provide accurate, comprehensive, and well-organized information about events.\n",
    "\n",
    "        When a user asks about events, follow these steps strictly:\n",
    "        1.  **Identify Key Information:** Extract the desired event type (e.g., food festivals, music concerts, art exhibitions, sports events, cultural celebrations), destination, and timeframe (e.g., \"next month\", \"August 2025\", \"next week\", \"soon\").\n",
    "        2.  **Use Google Search:** Utilize the `google_search` tool to find relevant current or upcoming events. Formulate precise search queries. For example, \"food festivals London June 2025\", \"music concerts Berlin August 2025\".\n",
    "        3.  **Prioritize Official Sources:** Always aim to extract information from official event websites, reputable ticketing platforms, or well-known event listing sites.\n",
    "        4.  **Summarize and Structure - IMPORTANT: FOLLOW THIS CLEANER FORMAT PRECISELY:**\n",
    "            *   Start with a clear, friendly introduction.\n",
    "            *   Present each event as a main item in a **Markdown unordered list (using asterisks `*`)**.\n",
    "            *   Each event entry MUST follow this exact Markdown structure for clarity and spacing:\n",
    "                ```\n",
    "                *   **[Event Name]**\n",
    "                    *   Description: [Brief Description].\n",
    "                    *   Dates: [Start Date] - [End Date or Single Date].\n",
    "                    *   Location: [Venue/Area], [City].\n",
    "                    *   [More Info](URL) (Optional: if official URL found)\n",
    "                ```\n",
    "            *   Ensure only the \"Event Name\" is bolded as a main heading for each event.\n",
    "            *   If dates are a range, use \"Start Date - End Date\". If single day, use \"Single Date\".\n",
    "            *   Organize the events **chronologically by start date** if multiple events are found.\n",
    "\n",
    "            **Example Event Formatting (pay close attention to line breaks and reduced bolding):**\n",
    "            ```\n",
    "            *   **Taste of London**\n",
    "                *   Description: A renowned food festival featuring top restaurants and culinary experiences.\n",
    "                *   Dates: June 18 - June 22, 2025.\n",
    "                *   Location: Regent's Park, London.\n",
    "                *   [More Info](https://www.tasteoflondon.co.uk/)\n",
    "\n",
    "            *   **Berlin Lollapalooza**\n",
    "                *   Description: A major music festival with diverse artists and stages.\n",
    "                *   Dates: August 9 - August 10, 2025.\n",
    "                *   Location: Olympiapark and Olympiastadion, Berlin.\n",
    "                *   [More Info](https://www.lollapaloozade.com/)\n",
    "            ```\n",
    "\n",
    "        5.  **Handle Missing Information:**\n",
    "            *   If the timeframe is vague (e.g., \"soon\", \"what's happening?\"), default to searching for events in the *upcoming 1-2 months* from the current date. If you find too many, suggest a more specific timeframe.\n",
    "            *   If no specific event type is requested, search for a broad range of popular events (e.g., \"major events [city] [month]\").\n",
    "        6.  **No Results Found:** If, after searching, no relevant events are found, politely state that no events matching the criteria could be found and offer to search for different dates or event types.\n",
    "        7.  **Maintain Tone:** Be concise, friendly, and helpful.\n",
    "\"\"\",\n",
    "    tools=[google_search], # Assign the google_search tool to this agent.\n",
    ")\n",
    "\n",
    "print(\"`latest_events_agent` successfully defined with comprehensive instructions.\")"
   ]
  },
  {
   "cell_type": "code",
   "execution_count": 8,
   "id": "98cb9a37",
   "metadata": {},
   "outputs": [
    {
     "name": "stdout",
     "output_type": "stream",
     "text": [
      "------ [starting agent interactions] ------\n",
      "\n",
      "\n",
      "--- Testing >> Normal Case: Food Festivals, London, Next Month (July 2025) ---\n",
      "User Input: 'What food festivals are happening in London next month?'\n"
     ]
    },
    {
     "data": {
      "text/markdown": [
       "**Agent Response:**\n",
       "Here are some food festivals happening in London next month (July 2025):\n",
       "\n",
       "*   **The Great British Food Festival**\n",
       "    *   Description: A mix of local and regional artisan producers, street food, chef demos, bars, crafts, live music, and children's entertainment.\n",
       "    *   Dates: July 5 - July 6, 2025.\n",
       "    *   Location: Danson Park, Bexleyheath, London.\n",
       "    *   [More Info](https://vertexaisearch.cloud.google.com/grounding-api-redirect/AbF9wXFwgAO_VIOj61yA3acmhrweSUBmNEOrLHrhXbOuWZCTukeAAZwj3aU7Lqu6cgdhEcoPBKHVCXrhUERgiaVZjaYTtOs5DP4dmiQQabhDR1qwQxNvogf_HSyQXaWEnWUDB59dtvRr8t2UYRmW)\n",
       "\n",
       "*   **Marzamemi Festival**\n",
       "    *   Description: Italian food and drink including arancini, cannoli, and gelato, cooking workshops, live music, and a pop-up Italian cinema.\n",
       "    *   Dates: July 5 - July 6, 2025.\n",
       "    *   Location: Old Deer Park, Richmond.\n",
       "\n",
       "*   **National Geographic Traveller (UK) Food Festival**\n",
       "    *   Description: A celebration of food culture and travel, featuring chefs, workshops, tasting sessions, and exhibitors from around the world.\n",
       "    *   Dates: July 19 - July 20, 2025.\n",
       "    *   Location: Business Design Centre, Islington, London.\n",
       "    *   [More Info](https://vertexaisearch.cloud.google.com/grounding-api-redirect/AbF9wXHZuoAS5VytBniIESV_PDsYcYpSmgDsHwTKQ5dUB8MqVDZkE3BdnsJ7BzLkf6oob0lFtopH_4ZqivZTDUxha4P9f6sH39Rm8EFe9YHgv5IHkEPsE6f6MGcyyHJdAZs-wvWlAmNYkw==)\n",
       "\n",
       "*   **London Wing Fest**\n",
       "    *   Description: Featuring 45 traders and over 90 different wings to try, with eating contests, hot wing challenges, bourbon masterclasses, and live music.\n",
       "    *   Dates: July 25, 2025 and other dates.\n",
       "    *   Location: London Stadium.\n"
      ],
      "text/plain": [
       "<IPython.core.display.Markdown object>"
      ]
     },
     "metadata": {},
     "output_type": "display_data"
    },
    {
     "name": "stdout",
     "output_type": "stream",
     "text": [
      "\n",
      "--- Testing Complete >> Normal Case: Food Festivals, London, Next Month (July 2025) ---\n",
      "\n",
      "--- Testing >> Specific Case: Music Concerts, Berlin, August 2025 ---\n",
      "User Input: 'Music concerts in Berlin in August 2025.'\n"
     ]
    },
    {
     "data": {
      "text/markdown": [
       "**Agent Response:**\n",
       "Okay, I can help you with that! Here are some music concerts in Berlin in August 2025:\n",
       "\n",
       "Here are some music concerts scheduled for Berlin in August 2025:\n",
       "\n",
       "*   **Orgel und Oper! — International Organ Summer 2025**\n",
       "\n",
       "    *   Description: International Organ Summer.\n",
       "    *   Dates: August 1, 2025.\n",
       "    *   Location: Berliner Dom, Berlin.\n",
       "    *   [More Info](https://vertexaisearch.cloud.google.com/grounding-api-redirect/AbF9wXGEcFmlpyjk5pjx8ATISpxmmU4n2kkkThRYbUTOLnwscgHrne3VhiH_fHjyVsOZbgRfLAI1XDOnNqslgpoLkJ8AnRpyEyGzPCj7sedohc0SEj8hHc9kFQ4PVkwmvWll7YpdJkTJ943L2zKDxARm8o0FMa5LPu11hHBrLYz9zYhtdiaT8-nw02SGuoKtL_Do5gJiCBtAcLHdYwZEVqJgixzpNCza)\n",
       "*   **Carlos Santana Cologne Concert Tour 2025**\n",
       "\n",
       "    *   Description: Performance by Carlos Santana.\n",
       "    *   Dates: August 8, 2025.\n",
       "    *   Location: LanxessArena, Cologne.\n",
       "    *   [More Info](https://vertexaisearch.cloud.google.com/grounding-api-redirect/AbF9wXEiy2rDlR_a-SKEKrVcGndOgW-q3Sm42_3YHA2pARncLYHbZYbFfxFgru52l6EHE2ivi4GnKgEgE9AWcFoIqdLlDX5j_a3SsPea-yZUkNb_ywWhUo9cmvBj50hyCbpuS4c_l8pBGaZMl0DPNOY-kpwTkyIkpllRjhIBsl3UORBJRfH8)\n",
       "*   **Cro**\n",
       "\n",
       "    *   Description: Concert by Cro.\n",
       "    *   Dates: August 9, 2025.\n",
       "    *   Location: Parkbühne Wuhlheide (Kindl-Bühne Wuhlheide), Berlin.\n",
       "    *   [More Info](https://vertexaisearch.cloud.google.com/grounding-api-redirect/AbF9wXG3iXhUscJumHkuP2U_7fYkNSa_ERyi0kW_JPyAFGp6JLj6nMxcjCsxEehoAbmwqcm2uSuf9FksdPJGsJClX8dYg8rSSb0XopFkfNkgoIrW-8YyLLaZwXWzh75RDPWlnqLbqQ==)\n",
       "*   **The Wailers**\n",
       "\n",
       "    *   Description: Concert by The Wailers.\n",
       "    *   Dates: August 11, 2025.\n",
       "    *   Location: Huxleys Neue Welt, Berlin.\n",
       "    *   [More Info](https://vertexaisearch.cloud.google.com/grounding-api-redirect/AbF9wXG3iXhUscJumHkuP2U_7fYkNSa_ERyi0kW_JPyAFGp6JLj6nMxcjCsxEehoAbmwqcm2uSuf9FksdPJGsJClX8dYg8rSSb0XopFkfNkgoIrW-8YyLLaZwXWzh75RDPWlnqLbqQ==)\n",
       "*   **Tokio Hotel**\n",
       "\n",
       "    *   Description: Concert by Tokio Hotel.\n",
       "    *   Dates: August 15, 2025.\n",
       "    *   Location: Parkbühne Wuhlheide (Kindl-Bühne Wuhlheide), Berlin.\n",
       "    *   [More Info](https://vertexaisearch.cloud.google.com/grounding-api-redirect/AbF9wXG3iXhUscJumHkuP2U_7fYkNSa_ERyi0kW_JPyAFGp6JLj6nMxcjCsxEehoAbmwqcm2uSuf9FksdPJGsJClX8dYg8rSSb0XopFkfNkgoIrW-8YyLLaZwXWzh75RDPWlnqLbqQ==)\n",
       "*   **AC/DC, The Pretty Reckless Karlsruhe Concert Tour 2025**\n",
       "\n",
       "    *   Description: Performances by AC/DC and The Pretty Reckless.\n",
       "    *   Dates: August 17, 2025.\n",
       "    *   Location: KarlsruherMesseundKongressGmbH, Karlsruhe.\n",
       "    *   [More Info](https://vertexaisearch.cloud.google.com/grounding-api-redirect/AbF9wXEiy2rDlR_a-SKEKrVcGndOgW-q3Sm42_3YHA2pARncLYHbZYbFfxFgru52l6EHE2ivi4GnKgEgE9AWcFoIqdLlDX5j_a3SsPea-yZUkNb_ywWhUo9cmvBj50hyCbpuS4c_l8pBGaZMl0DPNOY-kpwTkyIkpllRjhIBsl3UORBJRfH8)\n",
       "*   **Empire Of The Sun**\n",
       "\n",
       "    *   Description: Concert by Empire Of The Sun.\n",
       "    *   Dates: August 17, 2025.\n",
       "    *   Location: Uber Eats Music Hall, Berlin.\n",
       "    *   [More Info](https://vertexaisearch.cloud.google.com/grounding-api-redirect/AbF9wXG3iXhUscJumHkuP2U_7fYkNSa_ERyi0kW_JPyAFGp6JLj6nMxcjCsxEehoAbmwqcm2uSuf9FksdPJGsJClX8dYg8rSSb0XopFkfNkgoIrW-8YyLLaZwXWzh75RDPWlnqLbqQ==)\n",
       "*   **Post Malone, Jelly Roll Berlin Concert Tour 2025**\n",
       "\n",
       "    *   Description: Performances by Post Malone and Jelly Roll.\n",
       "    *   Dates: August 19, 2025.\n",
       "    *   Location: Parkbühne Wuhlheide, Berlin.\n",
       "    *   [More Info](https://vertexaisearch.cloud.google.com/grounding-api-redirect/AbF9wXEiy2rDlR_a-SKEKrVcGndOgW-q3Sm42_3YHA2pARncLYHbZYbFfxFgru52l6EHE2ivi4GnKgEgE9AWcFoIqdLlDX5j_a3SsPea-yZUkNb_ywWhUo9cmvBj50hyCbpuS4c_l8pBGaZMl0DPNOY-kpwTkyIkpllRjhIBsl3UORBJRfH8)\n",
       "*   **The Berlin Orchestra: Classic Spectacular at French Cathedral**\n",
       "\n",
       "    *   Description: Classic Spectacular.\n",
       "    *   Dates: August 23, 2025.\n",
       "    *   Location: French Cathedral, Berlin.\n",
       "    *   [More Info](https://vertexaisearch.cloud.google.com/grounding-api-redirect/AbF9wXGEcFmlpyjk5pjx8ATISpxmmU4n2kkkThRYbUTOLnwscgHrne3VhiH_fHjyVsOZbgRfLAI1XDOnNqslgpoLkJ8AnRpyEyGzPCj7sedohc0SEj8hHc9kFQ4PVkwmvWll7YpdJkTJ943L2zKDxARm8o0FMa5LPu11hHBrLYz9zYhtdiaT8-nw02SGuoKtL_Do5gJiCBtAcLHdYwZEVqJgixzpNCza)\n",
       "*   **Musikfest Berlin**\n",
       "\n",
       "    *   Description: Music festival featuring orchestras and vocal ensembles.\n",
       "    *   Dates: August 30 - September 23, 2025.\n",
       "    *   Location: Philharmonie Berlin, its Chamber Music Hall and the Konzerthaus Berlin.\n",
       "    *   [More Info](https://vertexaisearch.cloud.google.com/grounding-api-redirect/AbF9wXH6yiPqwO4NbhFLQv1s9B9hG4NyKtBd1T36m_Hvp1ehzPunl_VXmKEArC49mE7G3mxbtnU1ZkYBZMbBlUA_zQr7vo1sKvGcXGZ6LyEZlfQe4PxAZPahsNkNinJHkZSo0gkskkpe5QXbhsTAcXRJbdjr)\n",
       "\n",
       "I hope you enjoy the concerts!\n"
      ],
      "text/plain": [
       "<IPython.core.display.Markdown object>"
      ]
     },
     "metadata": {},
     "output_type": "display_data"
    },
    {
     "name": "stdout",
     "output_type": "stream",
     "text": [
      "\n",
      "--- Testing Complete >> Specific Case: Music Concerts, Berlin, August 2025 ---\n",
      "\n",
      "--- Testing >> Vague Timeframe: General Events, Tokyo, Soon ---\n",
      "User Input: 'What's happening in Tokyo soon?'\n"
     ]
    },
    {
     "data": {
      "text/markdown": [
       "**Agent Response:**\n",
       "Here's a summary of events happening in Tokyo soon:\n",
       "\n",
       "*   **FOOMA JAPAN 2025**\n",
       "    *   Description: Food industry trade show.\n",
       "    *   Dates: June 10 - June 13, 2025.\n",
       "    *   Location: Tokyo Big Sight.\n",
       "\n",
       "*   **Asia-Pacific AIDS and Co-Infections Conference 2025**\n",
       "    *   Description: Medical conference.\n",
       "    *   Dates: June 12 - June 14, 2025.\n",
       "    *   Location: Tokyo International Exchange Center, Plaza Heisei.\n",
       "\n",
       "*   **Torigoe Matsuri**\n",
       "    *   Description: A major festival in Tokyo featuring a large omikoshi (portable shrine).\n",
       "    *   Dates: June 6 - June 8, 2025.\n",
       "    *   Location: Torigoe Shrine.\n",
       "\n",
       "*   **Bunkyo Ajisai Festival**\n",
       "    *   Description: Hydrangea Festival.\n",
       "    *   Dates: June 7 - June 15, 2025.\n",
       "    *   Location: Hakusan Shrine to Hakusan Park.\n",
       "\n",
       "*   **Tsukiji Lion Dance Festival**\n",
       "    *   Description: Shrine festival with lion head processions.\n",
       "    *   Dates: June 7 - June 9, 2025.\n",
       "    *   Location: Namiyoke Inari Shrine, Tsukiji.\n",
       "\n",
       "*   **Oedo Antique Market**\n",
       "    *   Description: An antique market.\n",
       "    *   Dates: Sunday, June 15th, 2025\n",
       "    *   Location: Tokyo International Forum.\n",
       "\n",
       "*   **Interior Lifestyle Tokyo 2025**\n",
       "    *   Description: Trade show for interior design.\n",
       "    *   Dates: June 18 - June 20, 2025.\n",
       "    *   Location: Tokyo Big Sight.\n",
       "\n",
       "*   **Japan Sports Week 2025**\n",
       "    *   Description: Trade show related to sports.\n",
       "    *   Dates: June 25 - June 27, 2025.\n",
       "    *   Location: Tokyo Big Sight.\n",
       "\n",
       "*   **Kagurazaka Matsuri Festival**\n",
       "    *   Description: A unique festival.\n",
       "    *   Dates: July 23 - July 26, 2025.\n",
       "\n",
       "*   **Sumida River Fireworks Hanabi Festival**\n",
       "    *   Description: Fireworks festival.\n",
       "    *   Dates: July 26, 2025.\n",
       "    *   Location: Sumida River.\n",
       "\n",
       "*   **Shinjuku Okinawa Eisa Festival**\n",
       "    *   Description: Parade dedicated to traditional dance of Okinawa.\n",
       "    *   Dates: July 26, 2025.\n",
       "    *   Location: Shinjuku streets.\n"
      ],
      "text/plain": [
       "<IPython.core.display.Markdown object>"
      ]
     },
     "metadata": {},
     "output_type": "display_data"
    },
    {
     "name": "stdout",
     "output_type": "stream",
     "text": [
      "\n",
      "--- Testing Complete >> Vague Timeframe: General Events, Tokyo, Soon ---\n",
      "\n",
      "--- Testing >> Multiple Event Types: Cultural Events & Art Exhibitions, Paris, October 2025 ---\n",
      "User Input: 'What are the major cultural events and art exhibitions happening in Paris in October 2025?'\n"
     ]
    },
    {
     "data": {
      "text/markdown": [
       "**Agent Response:**\n",
       "Here are some major cultural events and art exhibitions happening in Paris in October 2025:\n",
       "\n",
       "*   **Montmartre Grape Harvest Festival**\n",
       "    *   Description: Celebrate the grape harvest in the picturesque neighborhood of Montmartre with dance performances, live music, and wine tastings.\n",
       "    *   Dates: October 8 - October 12, 2025.\n",
       "    *   Location: Montmartre, Paris.\n",
       "    *   [More Info](https://www.francegalop-live.com/evenement/qatar-prix-de-larc-de-triomphe/)\n",
       "\n",
       "*   **Berthe Weill. Avant-Garde Gallerist**\n",
       "    *   Description: Dive into the history of this pioneering art market figure, who supported major artists like Picasso and Modigliani. Explore over 100 works that testify to her impact on modern art.\n",
       "    *   Dates: October 8, 2025 - January 26, 2026.\n",
       "    *   Location: Paris.\n",
       "\n",
       "*   **Arte Povera Exhibition**\n",
       "    *   Description: Discover the Italian art movement Arte Povera. Showcases provocative works that push the boundaries of contemporary art.\n",
       "    *   Dates: October 9, 2025 - March 24, 2026.\n",
       "    *   Location: Bourse de Commerce, Paris.\n",
       "\n",
       "*   **La Haine**\n",
       "    *   Description: Immerse yourself in the world of the cult classic film from the 90s with La Haine at La Seine Musicale, an immersive stage adaptation directed by Matthieu Kassovitz. A captivating theatrical experience that revisits the film's timeless themes.\n",
       "    *   Dates: October 10-19, 2025.\n",
       "    *   Location: La Seine Musicale, Paris.\n",
       "\n",
       "*   **Kandinsky. The Music of Colours**\n",
       "    *   Description: Reveals almost 200 works by the master of abstraction with his rich musical imagination through paintings, tools and scores.\n",
       "    *   Dates: October 13, 2025 - February 1, 2026.\n",
       "    *   Location: Philharmonie de Paris - Cité de la Musique, Paris.\n",
       "\n",
       "*   **Michel Paysant. Voir Monet**\n",
       "    *   Description: The artist explores art and science using an innovative technique, drawing with his eyes. Don't miss this unique encounter between heritage, technology, and contemporary creation.\n",
       "    *   Dates: October 15, 2025 - January 26, 2026.\n",
       "    *   Location: Musée de l'Orangerie, Paris.\n",
       "\n",
       "*   **Golden Books: Treasures of the Duc d'Aumale**\n",
       "    *   Description: Exhibition at Château de Chantilly.\n",
       "    *   Dates: October 15, 2025 - January 4, 2026.\n",
       "    *   Location: Château de Chantilly, Paris.\n",
       "\n",
       "*   **The Intimate Exhibition: From the Room to Social Media**\n",
       "    *   Description: Dive into a deep exploration of intimacy throughout the ages.\n",
       "    *   Dates: October 16, 2025 - March 30, 2025.\n",
       "    *   Location: Paris.\n",
       "\n",
       "*   **Art Shopping Paris**\n",
       "    *   Description: Art fair.\n",
       "    *   Dates: October 17 - October 19, 2025.\n",
       "    *   Location: Carrousel du Louvre, Paris.\n",
       "\n",
       "*   **The Fate of a Princess of Monaco at Chantilly**\n",
       "    *   Description: Exhibition at Château de Chantilly.\n",
       "    *   Dates: October 18, 2025 - January 4, 2026.\n",
       "    *   Location: Château de Chantilly, Paris.\n",
       "\n",
       "*   **One Hundred Years of Art Deco**\n",
       "    *   Description: Celebrating the centenary of this iconic movement. The exhibition explores its many facets, from its origins to contemporary reinterpretations, through masterpieces from the museum's collection.\n",
       "    *   Dates: October 21, 2025 - March 29, 2026.\n",
       "    *   Location: Musée des Arts Décoratifs, Paris.\n",
       "\n",
       "*   **Salon International du Patrimoine Culturel**\n",
       "    *   Description: Fair.\n",
       "    *   Dates: October 23 - October 26, 2025.\n",
       "    *   Location: Carrousel du Louvre, Paris.\n",
       "\n",
       "*   **Art Basel Paris**\n",
       "    *   Description: Modern and contemporary art fair, featuring 195 galleries presenting a selection of works of art (paintings, videos, sculptures, installations, photography and digital art).\n",
       "    *   Dates: October 22 - October 26, 2025.\n",
       "    *   Location: Grand Palais, Paris.\n",
       "\n",
       "*   **Salon du Chocolat**\n",
       "    *   Description: The world's leading chocolate companies and artisans will be at Paris Expo Porte de Versailles.\n",
       "    *   Dates: October 29 - November 2, 2025.\n",
       "    *   Location: Paris Expo Porte de Versailles, Paris.\n",
       "\n",
       "*   **Halloween Show at Le Manoir de Paris**\n",
       "    *   Description: Halloween themed show\n",
       "    *   Dates: October - November 2025.\n",
       "    *   Location: Le Manoir de Paris, Paris.\n",
       "\n",
       "*   **Festival d'Automne (Autumn Festival)**\n",
       "    *   Description: Showcases the latest creations and artists in contemporary dance, theater, music, cinema, and visual arts at a variety of venues around Paris.\n",
       "    *   Dates: Extends until the end of January.\n",
       "    *   Location: Variety of venues around Paris.\n"
      ],
      "text/plain": [
       "<IPython.core.display.Markdown object>"
      ]
     },
     "metadata": {},
     "output_type": "display_data"
    },
    {
     "name": "stdout",
     "output_type": "stream",
     "text": [
      "\n",
      "--- Testing Complete >> Multiple Event Types: Cultural Events & Art Exhibitions, Paris, October 2025 ---\n",
      "\n",
      "--- Testing >> Specific Event Type: Major Sports Events, New York City, July 2025 ---\n",
      "User Input: 'Any major sports events in New York City in July 2025?'\n"
     ]
    },
    {
     "data": {
      "text/markdown": [
       "**Agent Response:**\n",
       "Okay, I can help you with that! Here are some major sports events that are scheduled to occur in New York City in July 2025:\n",
       "\n",
       "*   **New York Mets Games**\n",
       "    *   Description: Catch a New York Mets baseball game.\n",
       "    *   Dates: Games throughout July 2025.\n",
       "    *   Location: Citi Field, New York City.\n",
       "    *   [More Info](https://www.newyorkcity.ca/what-to-do/monthly-events-new-york/july)\n",
       "\n",
       "I hope this helps!\n"
      ],
      "text/plain": [
       "<IPython.core.display.Markdown object>"
      ]
     },
     "metadata": {},
     "output_type": "display_data"
    },
    {
     "name": "stdout",
     "output_type": "stream",
     "text": [
      "\n",
      "--- Testing Complete >> Specific Event Type: Major Sports Events, New York City, July 2025 ---\n",
      "\n",
      "--- Testing >> No Results Expected: UFO Conventions, Hypothetical Location, Next Week (June 2025) ---\n",
      "User Input: 'Are there any major UFO conventions in Garetwasterland next week?'\n"
     ]
    },
    {
     "data": {
      "text/markdown": [
       "**Agent Response:**\n",
       "I couldn't find any UFO conventions specifically in \"Garetwasterland\" for next week. However, here are some UFO-related events that may be of interest, happening in the coming weeks:\n",
       "\n",
       "*   **Contact in the Desert**\n",
       "    *   Description: The 11th annual UFO/UAP conference, billed as the world's largest assemblage of UFO researchers and experts.\n",
       "    *   Dates: May 29 - June 2, 2025.\n",
       "    *   Location: Renaissance Esmeralda Resort and Spa, Indian Wells.\n",
       "    *   [More Info](http://www.contactinthedesert.com/)\n",
       "\n",
       "*   **McMenamins UFO Festival**\n",
       "    *   Description: A 2-day festival includes speakers, movie screenings, a podcast recording, vendor booths, live music, the Alien Abduction Dash fun run, pet costume contest, and beer tastings.\n",
       "    *   Dates: Dates for the next edition are not yet available, but it usually happens around May.\n",
       "    *   Location: Hotel Oregon, location not specified.\n",
       "    *   [More Info](https://vertexaisearch.cloud.google.com/grounding-api-redirect/AbF9wXFCLutIl0a7CEWN1jItVCeDHR2z0m5WhxqVpMwkSgRLO1K4I7pJgFwc0b3rqZfykB0vRgiMY5ay2IiY9tWP78MJ6wD5x7VHP8xuTZI6CFNP)\n",
       "\n",
       "*   **Roswell UFO Festival**\n",
       "    *   Description: Festival with space/alien/UFO related attractions.\n",
       "    *   Dates: Dates for the next edition are not yet available.\n",
       "    *   Location: Roswell.\n",
       "    *   [More Info](https://vertexaisearch.cloud.google.com/grounding-api-redirect/AbF9wXH5IfOw7dGJ-Fy67yWkRGhAcdPk8emNUMp2e2uo8lV9x6jlxS1nk4NbNcqoylnj_guPnchu4XYS06QCpDadEbXgCqCZXxrn1ZuAO0w6nciCk-fyWQ==)\n"
      ],
      "text/plain": [
       "<IPython.core.display.Markdown object>"
      ]
     },
     "metadata": {},
     "output_type": "display_data"
    },
    {
     "name": "stdout",
     "output_type": "stream",
     "text": [
      "\n",
      "--- Testing Complete >> No Results Expected: UFO Conventions, Hypothetical Location, Next Week (June 2025) ---\n",
      "\n",
      "--- Testing >> Past Date Request: Festivals, Rio, January 2024 ---\n",
      "User Input: 'What festivals happened in Rio in January 2024?'\n"
     ]
    },
    {
     "data": {
      "text/markdown": [
       "**Agent Response:**\n",
       "Here are some festivals that took place in Rio de Janeiro in January 2024:\n",
       "\n",
       "*   **Let's Flow Festival 2024**\n",
       "    *   Description: Brazilian Zouk Dance event with parties and workshops.\n",
       "    *   Dates: January 1 - January 3, 2024.\n",
       "    *   Location: Experience Music @ Lapa and Portal, Rio de Janeiro.\n",
       "    *   [More Info](https://danceplace.com/event/lets-flow-festival-2024)\n",
       "\n",
       "*   **Universo Spanta**\n",
       "    *   Description: A music festival with a diverse line-up of established and new artists, Carnival blocks and samba schools.\n",
       "    *   Dates: January 6 - January 20, 2024\n",
       "    *   Location: Marina da Glória, Rio de Janeiro.\n",
       "\n",
       "*   **Summer Breaking (Breaking do Verão)**\n",
       "    *   Description: Breaking festival featuring national and international athletes.\n",
       "    *   Dates: January 2024\n",
       "    *   Location: Lapa neighborhood, Rio de Janeiro.\n",
       "\n",
       "*   **Candlelight Concerts**\n",
       "    *   Description: Series of candlelight concerts featuring tributes to various artists and genres.\n",
       "    *   Dates: January 16, 21, 22, 23, 25, 26, 29, 2024\n",
       "    *   Location: Iconic places in Rio de Janeiro.\n",
       "\n",
       "I hope this helps!\n"
      ],
      "text/plain": [
       "<IPython.core.display.Markdown object>"
      ]
     },
     "metadata": {},
     "output_type": "display_data"
    },
    {
     "name": "stdout",
     "output_type": "stream",
     "text": [
      "\n",
      "--- Testing Complete >> Past Date Request: Festivals, Rio, January 2024 ---\n",
      "\n",
      "--- Testing >> Future Date Request: Tech Conferences, San Francisco, December 2026 ---\n",
      "User Input: 'Any big tech conferences in San Francisco in December 2026?'\n"
     ]
    },
    {
     "data": {
      "text/markdown": [
       "**Agent Response:**\n",
       "Okay, I've found a potential tech conference and some listings for tech-related events that may be relevant to your request for San Francisco in December 2026.\n",
       "\n",
       "*   **Future Identity Customer North America**\n",
       "    *   Description: Event focusing on the evolution of customer digital identity, bringing together innovators from various sectors.\n",
       "    *   Dates: December 2026.\n",
       "    *   Location: San Francisco.\n",
       "    *   [More Info](https://vertexaisearch.cloud.google.com/grounding-api-redirect/AbF9wXHdzOqiOt_65iEA2XHsD1wtbhuQ7gZHYPCMv7E8MgdOVzi0LBmWhIp4foAYReWR6jt5OD9PMEcLfcy5P1CABwwcNvoWn2hj3D-nxGp0opC8Q-LXUurLJ8Hh6XgUKfirf3E8Jb73BpvtWZ8EFaMO1Q==)\n",
       "\n",
       "*   **CSBA AEC - California School Boards Association Annual Education Conference & Trade Show 2026**\n",
       "    *   Description: Annual education conference and trade show.\n",
       "    *   Dates: December 03, 2026.\n",
       "    *   Location: San Diego, California.\n",
       "    *   [More Info](https://vertexaisearch.cloud.google.com/grounding-api-redirect/AbF9wXGXUCNDsEN7bEN4vZhf7V_phjoGasiXSvzdQVNgV_R3irzZLsIBUaUr5GYWLi_Wr58gG-H7hnjsJzjlCJnBStS5hBH2_ZV0KzuO0gW83armvrkR82RfDS1ZkDz4oMWtz783LQocYmQqjjZcn7AFWqqzGQ_VR4eglSf5sh-3GtDw)\n",
       "\n",
       "I hope this is helpful. Please let me know if you have any other questions.\n"
      ],
      "text/plain": [
       "<IPython.core.display.Markdown object>"
      ]
     },
     "metadata": {},
     "output_type": "display_data"
    },
    {
     "name": "stdout",
     "output_type": "stream",
     "text": [
      "\n",
      "--- Testing Complete >> Future Date Request: Tech Conferences, San Francisco, December 2026 ---\n",
      "\n",
      "------ [all agent interactions complete] ------\n"
     ]
    }
   ],
   "source": [
    "# Define common parameters for our agent interactions.\n",
    "APP_NAME = \"wanderwise_events_app\"\n",
    "USER_ID = \"user_001\"\n",
    "\n",
    "# Create a common session service instance to reuse across multiple interactions.\n",
    "common_session_service = InMemorySessionService()\n",
    "\n",
    "# Define a dictionary of user inputs for various test cases.\n",
    "# Each entry includes a descriptive name and the user's query.\n",
    "EVENT_TEST_CASES = {\n",
    "    \"Normal Case: Food Festivals, London, Next Month (July 2025)\":\n",
    "        \"What food festivals are happening in London next month?\",\n",
    "\n",
    "    \"Specific Case: Music Concerts, Berlin, August 2025\":\n",
    "        \"Music concerts in Berlin in August 2025.\",\n",
    "\n",
    "    \"Vague Timeframe: General Events, Tokyo, Soon\":\n",
    "        \"What's happening in Tokyo soon?\",\n",
    "\n",
    "    \"Multiple Event Types: Cultural Events & Art Exhibitions, Paris, October 2025\":\n",
    "        \"What are the major cultural events and art exhibitions happening in Paris in October 2025?\",\n",
    "\n",
    "    \"Specific Event Type: Major Sports Events, New York City, July 2025\":\n",
    "        \"Any major sports events in New York City in July 2025?\",\n",
    "\n",
    "    \"No Results Expected: UFO Conventions, Hypothetical Location, Next Week (June 2025)\":\n",
    "        \"Are there any major UFO conventions in Garetwasterland next week?\",\n",
    "\n",
    "    \"Past Date Request: Festivals, Rio, January 2024\":\n",
    "        \"What festivals happened in Rio in January 2024?\", # Should clarify or state past\n",
    "\n",
    "    \"Future Date Request: Tech Conferences, San Francisco, December 2026\":\n",
    "        \"Any big tech conferences in San Francisco in December 2026?\",\n",
    "}\n",
    "\n",
    "print(\"------ [starting agent interactions] ------\\n\")\n",
    "\n",
    "# Loop through each test case and run the agent.\n",
    "for case_name, user_input in EVENT_TEST_CASES.items():\n",
    "    # Create a unique session ID for each interaction to ensure isolated tests.\n",
    "    session_id = f\"{APP_NAME}_session_{case_name.replace(' ', '_').replace(',', '').lower()}\"\n",
    "\n",
    "    print(f\"\\n--- Testing >> {case_name} ---\")\n",
    "    print(f\"User Input: '{user_input}'\")\n",
    "\n",
    "    # Invoke the latest_events_agent using the modular helper function.\n",
    "    agent_response = await run_adk_agent_interaction(\n",
    "        agent=latest_events_agent,\n",
    "        user_id=USER_ID,\n",
    "        session_id=session_id,\n",
    "        input_text=user_input,\n",
    "        app_name=APP_NAME,\n",
    "        session_service=common_session_service # Pass the common session service\n",
    "    )\n",
    "\n",
    "    # Display the agent's response.\n",
    "    display(Markdown(f\"**Agent Response:**\\n{agent_response}\"))\n",
    "    print(f\"\\n--- Testing Complete >> {case_name} ---\")\n",
    "\n",
    "\n",
    "print(\"\\n------ [all agent interactions complete] ------\")"
   ]
  },
  {
   "cell_type": "code",
   "execution_count": null,
   "id": "edc34bf3",
   "metadata": {},
   "outputs": [],
   "source": [
    "# Congratulations 🎉 \n",
    "# You’ve just built and run an agent that uses the ADK built-in `google_search` tool\n",
    "# to fetch live event data for a travel itinerary.\n",
    "# This demonstrates the power of combining LLM reasoning with external tools to create\n",
    "# truly intelligent and practical applications.\n",
    "# Try modifying the prompt or agent instructions, and see how the results change!"
   ]
  }
 ],
 "metadata": {
  "kernelspec": {
   "display_name": "Python 3",
   "language": "python",
   "name": "python3"
  },
  "language_info": {
   "codemirror_mode": {
    "name": "ipython",
    "version": 3
   },
   "file_extension": ".py",
   "mimetype": "text/x-python",
   "name": "python",
   "nbconvert_exporter": "python",
   "pygments_lexer": "ipython3",
   "version": "3.12.1"
  }
 },
 "nbformat": 4,
 "nbformat_minor": 5
}
